{
 "cells": [
  {
   "cell_type": "markdown",
   "id": "024483d6",
   "metadata": {},
   "source": [
    "## Json Load"
   ]
  },
  {
   "cell_type": "code",
   "execution_count": 1,
   "id": "f1bf89ac",
   "metadata": {},
   "outputs": [],
   "source": [
    "import pandas as pd\n",
    "import json"
   ]
  },
  {
   "cell_type": "code",
   "execution_count": 2,
   "id": "f69a97fd",
   "metadata": {},
   "outputs": [],
   "source": [
    "with open(\"4.json\", \"r\", encoding=\"UTF-8\") as f:\n",
    "    data = json.load(f)"
   ]
  },
  {
   "cell_type": "markdown",
   "id": "c6c7c327",
   "metadata": {},
   "source": [
    "## Json to List"
   ]
  },
  {
   "cell_type": "code",
   "execution_count": 3,
   "id": "abd8f985",
   "metadata": {},
   "outputs": [],
   "source": [
    "res = []"
   ]
  },
  {
   "cell_type": "code",
   "execution_count": 4,
   "id": "9aaeef8d",
   "metadata": {},
   "outputs": [],
   "source": [
    "for frame in data:\n",
    "    for sentence in frame[\"sentences\"]:\n",
    "        if \"#\" not in sentence[\"origin_text\"]:\n",
    "            res.append([sentence[\"origin_text\"], sentence[\"types\"]])"
   ]
  },
  {
   "cell_type": "code",
   "execution_count": 5,
   "id": "a95668d5",
   "metadata": {},
   "outputs": [
    {
     "data": {
      "text/plain": "64314"
     },
     "execution_count": 5,
     "metadata": {},
     "output_type": "execute_result"
    }
   ],
   "source": [
    "len(res)"
   ]
  },
  {
   "cell_type": "code",
   "execution_count": 6,
   "id": "6620b85e",
   "metadata": {},
   "outputs": [
    {
     "data": {
      "text/plain": "[['치어리더가 숏컷했다고 페미라는 소리하는 한남 누구야, 애당초 치어가 페미 좋아할 수 없는데', ['CENSURE']],\n ['한녀는 무조건 피싸게 패미임', ['CENSURE']],\n ['패미가 격투기 라운드걸이랑 치어리더는 밥줄 끊으려고 했는데 좋아할수가 없지않나?', ['CENSURE']],\n ['그럴리가 없잖음, 한녀가 얼마나 전통적으로 피빠는데, 기생이 그 증거임', ['CENSURE']],\n ['너 같은 2030 무뇌키보충이 참 걱정임, 페미덕에 레이싱걸 없어졌는데 참으로 치어리더들이 페미를 지지하겠다', ['CENSURE']],\n ['저기서 쟤는 하차하면 안 되나? 방송 재밌는데 쟤 때문에 보기 싫음', ['HATE']],\n ['한 사람이 방송 다 망치네 ㅋ 도대체 왜 섭외한거지? 몸 대줬나', ['HATE', 'SEXUAL']],\n ['케이크 사려고 두 시간 줄 섰는데도 못샀음 ㅜㅜ 줄선얘들 절반이상이 돼지같던데 다이어트좀 안하나,', ['ABUSE']],\n ['쉽색히들 쉽지 않네...', ['IMMORAL_NONE']],\n ['악! 그럴 거면 인터넷 주문하자!', ['IMMORAL_NONE']]]"
     },
     "execution_count": 6,
     "metadata": {},
     "output_type": "execute_result"
    }
   ],
   "source": [
    "res[:10]"
   ]
  },
  {
   "cell_type": "code",
   "execution_count": 7,
   "id": "20016099",
   "metadata": {},
   "outputs": [],
   "source": [
    "for x in res:\n",
    "    if \"SEXUAL\" in x[1]:\n",
    "        x[1] = 3\n",
    "    elif \"ABUSE\" in x[1]:\n",
    "        x[1] = 1\n",
    "    elif \"IMMORAL_NONE\" in x[1]:\n",
    "        x[1] = 0\n",
    "    else:\n",
    "        x[1] = 2"
   ]
  },
  {
   "cell_type": "code",
   "execution_count": 8,
   "id": "16f7bd87",
   "metadata": {},
   "outputs": [
    {
     "data": {
      "text/plain": "[['치어리더가 숏컷했다고 페미라는 소리하는 한남 누구야, 애당초 치어가 페미 좋아할 수 없는데', 2],\n ['한녀는 무조건 피싸게 패미임', 2],\n ['패미가 격투기 라운드걸이랑 치어리더는 밥줄 끊으려고 했는데 좋아할수가 없지않나?', 2],\n ['그럴리가 없잖음, 한녀가 얼마나 전통적으로 피빠는데, 기생이 그 증거임', 2],\n ['너 같은 2030 무뇌키보충이 참 걱정임, 페미덕에 레이싱걸 없어졌는데 참으로 치어리더들이 페미를 지지하겠다', 2],\n ['저기서 쟤는 하차하면 안 되나? 방송 재밌는데 쟤 때문에 보기 싫음', 2],\n ['한 사람이 방송 다 망치네 ㅋ 도대체 왜 섭외한거지? 몸 대줬나', 3],\n ['케이크 사려고 두 시간 줄 섰는데도 못샀음 ㅜㅜ 줄선얘들 절반이상이 돼지같던데 다이어트좀 안하나,', 1],\n ['쉽색히들 쉽지 않네...', 0],\n ['악! 그럴 거면 인터넷 주문하자!', 0]]"
     },
     "execution_count": 8,
     "metadata": {},
     "output_type": "execute_result"
    }
   ],
   "source": [
    "res[:10]"
   ]
  },
  {
   "cell_type": "markdown",
   "id": "ba6c334c",
   "metadata": {},
   "source": [
    "## List to CSV"
   ]
  },
  {
   "cell_type": "code",
   "execution_count": 9,
   "id": "d977d236",
   "metadata": {},
   "outputs": [],
   "source": [
    "df = pd.DataFrame(res)"
   ]
  },
  {
   "cell_type": "code",
   "execution_count": 10,
   "id": "71a14fc5",
   "metadata": {},
   "outputs": [
    {
     "data": {
      "text/plain": "                                                   0  1\n0  치어리더가 숏컷했다고 페미라는 소리하는 한남 누구야, 애당초 치어가 페미 좋아할 수...  2\n1                                    한녀는 무조건 피싸게 패미임  2\n2       패미가 격투기 라운드걸이랑 치어리더는 밥줄 끊으려고 했는데 좋아할수가 없지않나?  2\n3            그럴리가 없잖음, 한녀가 얼마나 전통적으로 피빠는데, 기생이 그 증거임  2\n4  너 같은 2030 무뇌키보충이 참 걱정임, 페미덕에 레이싱걸 없어졌는데 참으로 치어...  2",
      "text/html": "<div>\n<style scoped>\n    .dataframe tbody tr th:only-of-type {\n        vertical-align: middle;\n    }\n\n    .dataframe tbody tr th {\n        vertical-align: top;\n    }\n\n    .dataframe thead th {\n        text-align: right;\n    }\n</style>\n<table border=\"1\" class=\"dataframe\">\n  <thead>\n    <tr style=\"text-align: right;\">\n      <th></th>\n      <th>0</th>\n      <th>1</th>\n    </tr>\n  </thead>\n  <tbody>\n    <tr>\n      <th>0</th>\n      <td>치어리더가 숏컷했다고 페미라는 소리하는 한남 누구야, 애당초 치어가 페미 좋아할 수...</td>\n      <td>2</td>\n    </tr>\n    <tr>\n      <th>1</th>\n      <td>한녀는 무조건 피싸게 패미임</td>\n      <td>2</td>\n    </tr>\n    <tr>\n      <th>2</th>\n      <td>패미가 격투기 라운드걸이랑 치어리더는 밥줄 끊으려고 했는데 좋아할수가 없지않나?</td>\n      <td>2</td>\n    </tr>\n    <tr>\n      <th>3</th>\n      <td>그럴리가 없잖음, 한녀가 얼마나 전통적으로 피빠는데, 기생이 그 증거임</td>\n      <td>2</td>\n    </tr>\n    <tr>\n      <th>4</th>\n      <td>너 같은 2030 무뇌키보충이 참 걱정임, 페미덕에 레이싱걸 없어졌는데 참으로 치어...</td>\n      <td>2</td>\n    </tr>\n  </tbody>\n</table>\n</div>"
     },
     "execution_count": 10,
     "metadata": {},
     "output_type": "execute_result"
    }
   ],
   "source": [
    "df.head()"
   ]
  },
  {
   "cell_type": "code",
   "execution_count": 11,
   "id": "efcf1b47",
   "metadata": {},
   "outputs": [],
   "source": [
    "df.to_csv(\"sample_data_4.csv\", encoding=\"utf-8-sig\")"
   ]
  },
  {
   "cell_type": "code",
   "execution_count": 11,
   "id": "a46593fe",
   "metadata": {},
   "outputs": [],
   "source": []
  }
 ],
 "metadata": {
  "kernelspec": {
   "display_name": "Python 3 (ipykernel)",
   "language": "python",
   "name": "python3"
  },
  "language_info": {
   "codemirror_mode": {
    "name": "ipython",
    "version": 3
   },
   "file_extension": ".py",
   "mimetype": "text/x-python",
   "name": "python",
   "nbconvert_exporter": "python",
   "pygments_lexer": "ipython3",
   "version": "3.9.12"
  }
 },
 "nbformat": 4,
 "nbformat_minor": 5
}
