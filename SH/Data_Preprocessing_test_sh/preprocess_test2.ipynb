{
 "cells": [
  {
   "cell_type": "markdown",
   "id": "024483d6",
   "metadata": {},
   "source": [
    "## Json Load"
   ]
  },
  {
   "cell_type": "code",
   "execution_count": 1,
   "id": "f1bf89ac",
   "metadata": {},
   "outputs": [],
   "source": [
    "import pandas as pd\n",
    "import json"
   ]
  },
  {
   "cell_type": "code",
   "execution_count": 2,
   "id": "f69a97fd",
   "metadata": {},
   "outputs": [],
   "source": [
    "with open(\"2.json\", \"r\", encoding=\"UTF-8\") as f:\n",
    "    data = json.load(f)"
   ]
  },
  {
   "cell_type": "markdown",
   "id": "c6c7c327",
   "metadata": {},
   "source": [
    "## Json to List"
   ]
  },
  {
   "cell_type": "code",
   "execution_count": 3,
   "id": "abd8f985",
   "metadata": {},
   "outputs": [],
   "source": [
    "res = []"
   ]
  },
  {
   "cell_type": "code",
   "execution_count": 4,
   "id": "9aaeef8d",
   "metadata": {},
   "outputs": [],
   "source": [
    "for frame in data:\n",
    "    for sentence in frame[\"sentences\"]:\n",
    "        if \"#\" not in sentence[\"origin_text\"]:\n",
    "            res.append([sentence[\"origin_text\"], sentence[\"types\"]])"
   ]
  },
  {
   "cell_type": "code",
   "execution_count": 5,
   "id": "a95668d5",
   "metadata": {},
   "outputs": [
    {
     "data": {
      "text/plain": "64843"
     },
     "execution_count": 5,
     "metadata": {},
     "output_type": "execute_result"
    }
   ],
   "source": [
    "len(res)"
   ]
  },
  {
   "cell_type": "code",
   "execution_count": 6,
   "id": "6620b85e",
   "metadata": {},
   "outputs": [
    {
     "data": {
      "text/plain": "[['이 정부는 참 악질이네 진짜 지들 자식부터 실험해 봐라', ['CENSURE']],\n ['90프로 접종률이면 천천히 시도해 볼만 하지 솔직히 이렇게 통제 잘 되는 그룹이 또 있냐?', ['IMMORAL_NONE']],\n ['국가 전체에서 90퍼 접종률 나오기는 쉽지 않음 여기서부터 차차 늘려가는 게 맞지', ['IMMORAL_NONE']],\n ['방역수칙 안 지킨 애들이 당연히 잘못 아님?', ['IMMORAL_NONE']],\n ['방송국 애들은 아무도 안 지키는데 무슨.', ['IMMORAL_NONE']],\n ['와 진짜 소방관 팔 빠지겠다', ['IMMORAL_NONE']],\n ['다신 뒤지고 싶은 생각 안들 정도로 맞아야 정신차리지', ['CENSURE', 'VIOLENCE']],\n ['해맑게 웃어도 썩소같고 가만히 있어도 오랑우탄 같구나', ['CENSURE']],\n ['여러모로 넌 참 놀라워 ㅋㅋㅋㅋ', ['CENSURE']],\n ['너한테 그런 소리 듣는 것도 이젠 지긋지긋해', ['IMMORAL_NONE']]]"
     },
     "execution_count": 6,
     "metadata": {},
     "output_type": "execute_result"
    }
   ],
   "source": [
    "res[:10]"
   ]
  },
  {
   "cell_type": "code",
   "execution_count": 7,
   "id": "20016099",
   "metadata": {},
   "outputs": [],
   "source": [
    "for x in res:\n",
    "    if \"SEXUAL\" in x[1]:\n",
    "        x[1] = 3\n",
    "    elif \"ABUSE\" in x[1]:\n",
    "        x[1] = 1\n",
    "    elif \"IMMORAL_NONE\" in x[1]:\n",
    "        x[1] = 0\n",
    "    else:\n",
    "        x[1] = 2"
   ]
  },
  {
   "cell_type": "code",
   "execution_count": 8,
   "id": "16f7bd87",
   "metadata": {},
   "outputs": [
    {
     "data": {
      "text/plain": "[['이 정부는 참 악질이네 진짜 지들 자식부터 실험해 봐라', 2],\n ['90프로 접종률이면 천천히 시도해 볼만 하지 솔직히 이렇게 통제 잘 되는 그룹이 또 있냐?', 0],\n ['국가 전체에서 90퍼 접종률 나오기는 쉽지 않음 여기서부터 차차 늘려가는 게 맞지', 0],\n ['방역수칙 안 지킨 애들이 당연히 잘못 아님?', 0],\n ['방송국 애들은 아무도 안 지키는데 무슨.', 0],\n ['와 진짜 소방관 팔 빠지겠다', 0],\n ['다신 뒤지고 싶은 생각 안들 정도로 맞아야 정신차리지', 2],\n ['해맑게 웃어도 썩소같고 가만히 있어도 오랑우탄 같구나', 2],\n ['여러모로 넌 참 놀라워 ㅋㅋㅋㅋ', 2],\n ['너한테 그런 소리 듣는 것도 이젠 지긋지긋해', 0]]"
     },
     "execution_count": 8,
     "metadata": {},
     "output_type": "execute_result"
    }
   ],
   "source": [
    "res[:10]"
   ]
  },
  {
   "cell_type": "markdown",
   "id": "ba6c334c",
   "metadata": {},
   "source": [
    "## List to CSV"
   ]
  },
  {
   "cell_type": "code",
   "execution_count": 9,
   "id": "d977d236",
   "metadata": {},
   "outputs": [],
   "source": [
    "df = pd.DataFrame(res)"
   ]
  },
  {
   "cell_type": "code",
   "execution_count": 10,
   "id": "71a14fc5",
   "metadata": {},
   "outputs": [
    {
     "data": {
      "text/plain": "                                                   0  1\n0                     이 정부는 참 악질이네 진짜 지들 자식부터 실험해 봐라  2\n1  90프로 접종률이면 천천히 시도해 볼만 하지 솔직히 이렇게 통제 잘 되는 그룹이 또...  0\n2      국가 전체에서 90퍼 접종률 나오기는 쉽지 않음 여기서부터 차차 늘려가는 게 맞지  0\n3                           방역수칙 안 지킨 애들이 당연히 잘못 아님?  0\n4                             방송국 애들은 아무도 안 지키는데 무슨.  0",
      "text/html": "<div>\n<style scoped>\n    .dataframe tbody tr th:only-of-type {\n        vertical-align: middle;\n    }\n\n    .dataframe tbody tr th {\n        vertical-align: top;\n    }\n\n    .dataframe thead th {\n        text-align: right;\n    }\n</style>\n<table border=\"1\" class=\"dataframe\">\n  <thead>\n    <tr style=\"text-align: right;\">\n      <th></th>\n      <th>0</th>\n      <th>1</th>\n    </tr>\n  </thead>\n  <tbody>\n    <tr>\n      <th>0</th>\n      <td>이 정부는 참 악질이네 진짜 지들 자식부터 실험해 봐라</td>\n      <td>2</td>\n    </tr>\n    <tr>\n      <th>1</th>\n      <td>90프로 접종률이면 천천히 시도해 볼만 하지 솔직히 이렇게 통제 잘 되는 그룹이 또...</td>\n      <td>0</td>\n    </tr>\n    <tr>\n      <th>2</th>\n      <td>국가 전체에서 90퍼 접종률 나오기는 쉽지 않음 여기서부터 차차 늘려가는 게 맞지</td>\n      <td>0</td>\n    </tr>\n    <tr>\n      <th>3</th>\n      <td>방역수칙 안 지킨 애들이 당연히 잘못 아님?</td>\n      <td>0</td>\n    </tr>\n    <tr>\n      <th>4</th>\n      <td>방송국 애들은 아무도 안 지키는데 무슨.</td>\n      <td>0</td>\n    </tr>\n  </tbody>\n</table>\n</div>"
     },
     "execution_count": 10,
     "metadata": {},
     "output_type": "execute_result"
    }
   ],
   "source": [
    "df.head()"
   ]
  },
  {
   "cell_type": "code",
   "execution_count": 12,
   "id": "efcf1b47",
   "metadata": {},
   "outputs": [],
   "source": [
    "df.to_csv(\"sample_data_2.csv\", encoding=\"utf-8-sig\")"
   ]
  },
  {
   "cell_type": "code",
   "execution_count": 22,
   "id": "a46593fe",
   "metadata": {},
   "outputs": [],
   "source": []
  }
 ],
 "metadata": {
  "kernelspec": {
   "display_name": "Python 3 (ipykernel)",
   "language": "python",
   "name": "python3"
  },
  "language_info": {
   "codemirror_mode": {
    "name": "ipython",
    "version": 3
   },
   "file_extension": ".py",
   "mimetype": "text/x-python",
   "name": "python",
   "nbconvert_exporter": "python",
   "pygments_lexer": "ipython3",
   "version": "3.9.12"
  }
 },
 "nbformat": 4,
 "nbformat_minor": 5
}
