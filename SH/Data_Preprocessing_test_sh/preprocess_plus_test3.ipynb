{
 "cells": [
  {
   "cell_type": "markdown",
   "id": "024483d6",
   "metadata": {},
   "source": [
    "## Json Load"
   ]
  },
  {
   "cell_type": "code",
   "execution_count": 1,
   "id": "f1bf89ac",
   "metadata": {},
   "outputs": [],
   "source": [
    "import pandas as pd\n",
    "import json"
   ]
  },
  {
   "cell_type": "code",
   "execution_count": 2,
   "id": "f69a97fd",
   "metadata": {},
   "outputs": [],
   "source": [
    "with open(\"3.json\", \"r\", encoding=\"UTF-8\") as f:\n",
    "    data = json.load(f)"
   ]
  },
  {
   "cell_type": "markdown",
   "id": "c6c7c327",
   "metadata": {},
   "source": [
    "## Json to List"
   ]
  },
  {
   "cell_type": "code",
   "execution_count": 3,
   "id": "abd8f985",
   "metadata": {},
   "outputs": [],
   "source": [
    "res = []"
   ]
  },
  {
   "cell_type": "code",
   "execution_count": 4,
   "id": "9aaeef8d",
   "metadata": {},
   "outputs": [],
   "source": [
    "for frame in data:\n",
    "    for sentence in frame[\"sentences\"]:\n",
    "        if \"#\" not in sentence[\"origin_text\"]:\n",
    "            res.append([sentence[\"origin_text\"], sentence[\"types\"]])"
   ]
  },
  {
   "cell_type": "code",
   "execution_count": 5,
   "id": "a95668d5",
   "metadata": {},
   "outputs": [
    {
     "data": {
      "text/plain": "64835"
     },
     "execution_count": 5,
     "metadata": {},
     "output_type": "execute_result"
    }
   ],
   "source": [
    "len(res)"
   ]
  },
  {
   "cell_type": "code",
   "execution_count": 6,
   "id": "6620b85e",
   "metadata": {},
   "outputs": [
    {
     "data": {
      "text/plain": "[['늙은 것들 중에도 유독 폐급들이 나이로 대접받고자 갑질함.', ['CENSURE']],\n ['늙어서 이룬 것 없이 가난하면, 부끄러워서라도 집에서 쥐죽은 듯 살다가 죽어야지', ['CENSURE']],\n ['벌레 같은게 어딜 기어나와서 대접을 요구하나', ['CENSURE']],\n ['인생 쓰레기 같이 살아서 이룬 것 없는 것들이, 열등감에 가득차서 오히려 밖에서 대접을 바라지', ['CENSURE']],\n ['외국이 좋은 게 노인이라도 밖에서 진상 부리면 막말 쳐 듣거나, 말 그대로 쳐 맞음.',\n  ['VIOLENCE', 'CRIME', 'CENSURE']],\n ['이게 좋은 게 밖에서 쳐 맞을까봐, 쓰레기 늙다리들이 다크템플러 마냥 조용히 다님', ['CENSURE']],\n ['진짜 나이 불문하고 쓰레기들은 매로 다스려야지', ['VIOLENCE', 'CRIME']],\n ['미안한데 나하고 찍은 사진 인스타에서 내려주라', ['IMMORAL_NONE']],\n ['너 진짜 열등감 오지는 구나', ['CENSURE']],\n ['미안한테 세상사람들 너 같은 거 한테 관심없어', ['CENSURE']]]"
     },
     "execution_count": 6,
     "metadata": {},
     "output_type": "execute_result"
    }
   ],
   "source": [
    "res[:10]"
   ]
  },
  {
   "cell_type": "code",
   "execution_count": 7,
   "id": "20016099",
   "metadata": {},
   "outputs": [],
   "source": [
    "for x in res:\n",
    "    if \"SEXUAL\" in x[1]:\n",
    "        x[1] = 3\n",
    "    elif \"ABUSE\" in x[1]:\n",
    "        x[1] = 1\n",
    "    elif \"IMMORAL_NONE\" in x[1]:\n",
    "        x[1] = 0\n",
    "    else:\n",
    "        x[1] = 2"
   ]
  },
  {
   "cell_type": "code",
   "execution_count": 8,
   "id": "16f7bd87",
   "metadata": {},
   "outputs": [
    {
     "data": {
      "text/plain": "[['늙은 것들 중에도 유독 폐급들이 나이로 대접받고자 갑질함.', 2],\n ['늙어서 이룬 것 없이 가난하면, 부끄러워서라도 집에서 쥐죽은 듯 살다가 죽어야지', 2],\n ['벌레 같은게 어딜 기어나와서 대접을 요구하나', 2],\n ['인생 쓰레기 같이 살아서 이룬 것 없는 것들이, 열등감에 가득차서 오히려 밖에서 대접을 바라지', 2],\n ['외국이 좋은 게 노인이라도 밖에서 진상 부리면 막말 쳐 듣거나, 말 그대로 쳐 맞음.', 2],\n ['이게 좋은 게 밖에서 쳐 맞을까봐, 쓰레기 늙다리들이 다크템플러 마냥 조용히 다님', 2],\n ['진짜 나이 불문하고 쓰레기들은 매로 다스려야지', 2],\n ['미안한데 나하고 찍은 사진 인스타에서 내려주라', 0],\n ['너 진짜 열등감 오지는 구나', 2],\n ['미안한테 세상사람들 너 같은 거 한테 관심없어', 2]]"
     },
     "execution_count": 8,
     "metadata": {},
     "output_type": "execute_result"
    }
   ],
   "source": [
    "res[:10]"
   ]
  },
  {
   "cell_type": "markdown",
   "id": "ba6c334c",
   "metadata": {},
   "source": [
    "## List to CSV"
   ]
  },
  {
   "cell_type": "code",
   "execution_count": 9,
   "id": "d977d236",
   "metadata": {},
   "outputs": [],
   "source": [
    "df = pd.DataFrame(res)"
   ]
  },
  {
   "cell_type": "code",
   "execution_count": 10,
   "id": "71a14fc5",
   "metadata": {},
   "outputs": [
    {
     "data": {
      "text/plain": "                                                   0  1\n0                   늙은 것들 중에도 유독 폐급들이 나이로 대접받고자 갑질함.  2\n1       늙어서 이룬 것 없이 가난하면, 부끄러워서라도 집에서 쥐죽은 듯 살다가 죽어야지  2\n2                           벌레 같은게 어딜 기어나와서 대접을 요구하나  2\n3  인생 쓰레기 같이 살아서 이룬 것 없는 것들이, 열등감에 가득차서 오히려 밖에서 대...  2\n4    외국이 좋은 게 노인이라도 밖에서 진상 부리면 막말 쳐 듣거나, 말 그대로 쳐 맞음.  2",
      "text/html": "<div>\n<style scoped>\n    .dataframe tbody tr th:only-of-type {\n        vertical-align: middle;\n    }\n\n    .dataframe tbody tr th {\n        vertical-align: top;\n    }\n\n    .dataframe thead th {\n        text-align: right;\n    }\n</style>\n<table border=\"1\" class=\"dataframe\">\n  <thead>\n    <tr style=\"text-align: right;\">\n      <th></th>\n      <th>0</th>\n      <th>1</th>\n    </tr>\n  </thead>\n  <tbody>\n    <tr>\n      <th>0</th>\n      <td>늙은 것들 중에도 유독 폐급들이 나이로 대접받고자 갑질함.</td>\n      <td>2</td>\n    </tr>\n    <tr>\n      <th>1</th>\n      <td>늙어서 이룬 것 없이 가난하면, 부끄러워서라도 집에서 쥐죽은 듯 살다가 죽어야지</td>\n      <td>2</td>\n    </tr>\n    <tr>\n      <th>2</th>\n      <td>벌레 같은게 어딜 기어나와서 대접을 요구하나</td>\n      <td>2</td>\n    </tr>\n    <tr>\n      <th>3</th>\n      <td>인생 쓰레기 같이 살아서 이룬 것 없는 것들이, 열등감에 가득차서 오히려 밖에서 대...</td>\n      <td>2</td>\n    </tr>\n    <tr>\n      <th>4</th>\n      <td>외국이 좋은 게 노인이라도 밖에서 진상 부리면 막말 쳐 듣거나, 말 그대로 쳐 맞음.</td>\n      <td>2</td>\n    </tr>\n  </tbody>\n</table>\n</div>"
     },
     "execution_count": 10,
     "metadata": {},
     "output_type": "execute_result"
    }
   ],
   "source": [
    "df.head()"
   ]
  },
  {
   "cell_type": "code",
   "execution_count": 11,
   "id": "efcf1b47",
   "metadata": {},
   "outputs": [],
   "source": [
    "df.to_csv(\"sample_data_3.csv\", encoding=\"utf-8-sig\")"
   ]
  },
  {
   "cell_type": "code",
   "execution_count": 11,
   "id": "a46593fe",
   "metadata": {},
   "outputs": [],
   "source": []
  }
 ],
 "metadata": {
  "kernelspec": {
   "display_name": "Python 3 (ipykernel)",
   "language": "python",
   "name": "python3"
  },
  "language_info": {
   "codemirror_mode": {
    "name": "ipython",
    "version": 3
   },
   "file_extension": ".py",
   "mimetype": "text/x-python",
   "name": "python",
   "nbconvert_exporter": "python",
   "pygments_lexer": "ipython3",
   "version": "3.9.12"
  }
 },
 "nbformat": 4,
 "nbformat_minor": 5
}
