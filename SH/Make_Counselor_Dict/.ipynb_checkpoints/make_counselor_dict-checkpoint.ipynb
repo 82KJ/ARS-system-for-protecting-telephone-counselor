{
 "cells": [
  {
   "cell_type": "code",
   "execution_count": 8,
   "id": "b2c93a4b",
   "metadata": {},
   "outputs": [],
   "source": [
    "import pandas as pd\n",
    "from kiwipiepy import Kiwi\n",
    "kiwi = Kiwi()"
   ]
  },
  {
   "cell_type": "code",
   "execution_count": 2,
   "id": "020962ea",
   "metadata": {},
   "outputs": [],
   "source": [
    "df = pd.read_csv(\"counselor_set.csv\")"
   ]
  },
  {
   "cell_type": "code",
   "execution_count": 3,
   "id": "90038aec",
   "metadata": {},
   "outputs": [
    {
     "data": {
      "text/html": [
       "<div>\n",
       "<style scoped>\n",
       "    .dataframe tbody tr th:only-of-type {\n",
       "        vertical-align: middle;\n",
       "    }\n",
       "\n",
       "    .dataframe tbody tr th {\n",
       "        vertical-align: top;\n",
       "    }\n",
       "\n",
       "    .dataframe thead th {\n",
       "        text-align: right;\n",
       "    }\n",
       "</style>\n",
       "<table border=\"1\" class=\"dataframe\">\n",
       "  <thead>\n",
       "    <tr style=\"text-align: right;\">\n",
       "      <th></th>\n",
       "      <th>0</th>\n",
       "      <th>1</th>\n",
       "    </tr>\n",
       "  </thead>\n",
       "  <tbody>\n",
       "    <tr>\n",
       "      <th>0</th>\n",
       "      <td>이후에도 동일한 내용에 대해서는 대응하지 않을 예정입니다.</td>\n",
       "      <td>NaN</td>\n",
       "    </tr>\n",
       "    <tr>\n",
       "      <th>1</th>\n",
       "      <td>죄송합니다만, 계속 민원인께서 심한 말씀을 하시면 상담을 계속 진행하기가 어렵습니다.</td>\n",
       "      <td>NaN</td>\n",
       "    </tr>\n",
       "    <tr>\n",
       "      <th>2</th>\n",
       "      <td>욕설은 자제하여 주시기 바랍니다.</td>\n",
       "      <td>NaN</td>\n",
       "    </tr>\n",
       "    <tr>\n",
       "      <th>3</th>\n",
       "      <td>정중하게 말씀하여 주시기 바랍니다.</td>\n",
       "      <td>NaN</td>\n",
       "    </tr>\n",
       "    <tr>\n",
       "      <th>4</th>\n",
       "      <td>지금까지 민원인께서 계속하여 욕설을 하고 계셔서, 더 이상의 상담을 진행하기가 어렵...</td>\n",
       "      <td>NaN</td>\n",
       "    </tr>\n",
       "  </tbody>\n",
       "</table>\n",
       "</div>"
      ],
      "text/plain": [
       "                                                   0   1\n",
       "0                  이후에도 동일한 내용에 대해서는 대응하지 않을 예정입니다.  NaN\n",
       "1    죄송합니다만, 계속 민원인께서 심한 말씀을 하시면 상담을 계속 진행하기가 어렵습니다. NaN\n",
       "2                                 욕설은 자제하여 주시기 바랍니다. NaN\n",
       "3                                정중하게 말씀하여 주시기 바랍니다. NaN\n",
       "4  지금까지 민원인께서 계속하여 욕설을 하고 계셔서, 더 이상의 상담을 진행하기가 어렵... NaN"
      ]
     },
     "execution_count": 3,
     "metadata": {},
     "output_type": "execute_result"
    }
   ],
   "source": [
    "df.head()"
   ]
  },
  {
   "cell_type": "code",
   "execution_count": 12,
   "id": "6d721c38",
   "metadata": {},
   "outputs": [
    {
     "name": "stdout",
     "output_type": "stream",
     "text": [
      "[['이후', '에', '도', '동일', '하', 'ᆫ', '내용', '에', '대하', '어서', '는', '대응', '하', '지', '않', '을', '예정', '이', 'ᆸ니다', '.'], ['죄송', '하', 'ᆸ니다', '만', ',', '계속', '민원인', '께서', '심하', 'ᆫ', '말씀', '을', '하', '시', '면', '상담', '을', '계속', '진행', '하', '기', '가', '어렵', '습니다', '.']]\n"
     ]
    }
   ],
   "source": [
    "morphs_list = list()\n",
    "\n",
    "for sentence in df['0']:\n",
    "    morphs = kiwi.tokenize(sentence)\n",
    "    temp = list()\n",
    "    for morph in morphs:\n",
    "        temp.append(morph.form)\n",
    "    morphs_list.append(temp)\n",
    "\n",
    "print(morphs_list[:2])"
   ]
  },
  {
   "cell_type": "code",
   "execution_count": 13,
   "id": "5f6b775d",
   "metadata": {},
   "outputs": [],
   "source": [
    "df['1'] = morphs_list"
   ]
  },
  {
   "cell_type": "code",
   "execution_count": 14,
   "id": "0f9468f7",
   "metadata": {},
   "outputs": [
    {
     "data": {
      "text/html": [
       "<div>\n",
       "<style scoped>\n",
       "    .dataframe tbody tr th:only-of-type {\n",
       "        vertical-align: middle;\n",
       "    }\n",
       "\n",
       "    .dataframe tbody tr th {\n",
       "        vertical-align: top;\n",
       "    }\n",
       "\n",
       "    .dataframe thead th {\n",
       "        text-align: right;\n",
       "    }\n",
       "</style>\n",
       "<table border=\"1\" class=\"dataframe\">\n",
       "  <thead>\n",
       "    <tr style=\"text-align: right;\">\n",
       "      <th></th>\n",
       "      <th>0</th>\n",
       "      <th>1</th>\n",
       "    </tr>\n",
       "  </thead>\n",
       "  <tbody>\n",
       "    <tr>\n",
       "      <th>0</th>\n",
       "      <td>이후에도 동일한 내용에 대해서는 대응하지 않을 예정입니다.</td>\n",
       "      <td>[이후, 에, 도, 동일, 하, ᆫ, 내용, 에, 대하, 어서, 는, 대응, 하, ...</td>\n",
       "    </tr>\n",
       "    <tr>\n",
       "      <th>1</th>\n",
       "      <td>죄송합니다만, 계속 민원인께서 심한 말씀을 하시면 상담을 계속 진행하기가 어렵습니다.</td>\n",
       "      <td>[죄송, 하, ᆸ니다, 만, ,, 계속, 민원인, 께서, 심하, ᆫ, 말씀, 을, ...</td>\n",
       "    </tr>\n",
       "    <tr>\n",
       "      <th>2</th>\n",
       "      <td>욕설은 자제하여 주시기 바랍니다.</td>\n",
       "      <td>[욕설, 은, 자제, 하, 어, 주, 시, 기, 바라, ᆸ니다, .]</td>\n",
       "    </tr>\n",
       "    <tr>\n",
       "      <th>3</th>\n",
       "      <td>정중하게 말씀하여 주시기 바랍니다.</td>\n",
       "      <td>[정중, 하, 게, 말씀, 하, 어, 주, 시, 기, 바라, ᆸ니다, .]</td>\n",
       "    </tr>\n",
       "    <tr>\n",
       "      <th>4</th>\n",
       "      <td>지금까지 민원인께서 계속하여 욕설을 하고 계셔서, 더 이상의 상담을 진행하기가 어렵...</td>\n",
       "      <td>[지금, 까지, 민원인, 께서, 계속, 하, 어, 욕설, 을, 하, 고, 계시, 어...</td>\n",
       "    </tr>\n",
       "  </tbody>\n",
       "</table>\n",
       "</div>"
      ],
      "text/plain": [
       "                                                   0  \\\n",
       "0                  이후에도 동일한 내용에 대해서는 대응하지 않을 예정입니다.    \n",
       "1    죄송합니다만, 계속 민원인께서 심한 말씀을 하시면 상담을 계속 진행하기가 어렵습니다.   \n",
       "2                                 욕설은 자제하여 주시기 바랍니다.   \n",
       "3                                정중하게 말씀하여 주시기 바랍니다.   \n",
       "4  지금까지 민원인께서 계속하여 욕설을 하고 계셔서, 더 이상의 상담을 진행하기가 어렵...   \n",
       "\n",
       "                                                   1  \n",
       "0  [이후, 에, 도, 동일, 하, ᆫ, 내용, 에, 대하, 어서, 는, 대응, 하, ...  \n",
       "1  [죄송, 하, ᆸ니다, 만, ,, 계속, 민원인, 께서, 심하, ᆫ, 말씀, 을, ...  \n",
       "2             [욕설, 은, 자제, 하, 어, 주, 시, 기, 바라, ᆸ니다, .]  \n",
       "3          [정중, 하, 게, 말씀, 하, 어, 주, 시, 기, 바라, ᆸ니다, .]  \n",
       "4  [지금, 까지, 민원인, 께서, 계속, 하, 어, 욕설, 을, 하, 고, 계시, 어...  "
      ]
     },
     "execution_count": 14,
     "metadata": {},
     "output_type": "execute_result"
    }
   ],
   "source": [
    "df.head()"
   ]
  },
  {
   "cell_type": "code",
   "execution_count": 15,
   "id": "9c709ed8",
   "metadata": {},
   "outputs": [],
   "source": [
    "df.to_csv('counselor_morphs_set.csv', encoding='utf-8-sig')"
   ]
  },
  {
   "cell_type": "code",
   "execution_count": null,
   "id": "c8eb4b4e",
   "metadata": {},
   "outputs": [],
   "source": []
  }
 ],
 "metadata": {
  "kernelspec": {
   "display_name": "Python 3 (ipykernel)",
   "language": "python",
   "name": "python3"
  },
  "language_info": {
   "codemirror_mode": {
    "name": "ipython",
    "version": 3
   },
   "file_extension": ".py",
   "mimetype": "text/x-python",
   "name": "python",
   "nbconvert_exporter": "python",
   "pygments_lexer": "ipython3",
   "version": "3.9.16"
  }
 },
 "nbformat": 4,
 "nbformat_minor": 5
}
