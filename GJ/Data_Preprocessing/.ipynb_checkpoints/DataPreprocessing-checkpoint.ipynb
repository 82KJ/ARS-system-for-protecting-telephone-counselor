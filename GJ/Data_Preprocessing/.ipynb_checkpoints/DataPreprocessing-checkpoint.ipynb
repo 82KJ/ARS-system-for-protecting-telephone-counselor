{
 "cells": [
  {
   "cell_type": "markdown",
   "id": "024483d6",
   "metadata": {},
   "source": [
    "## Json Load"
   ]
  },
  {
   "cell_type": "code",
   "execution_count": 1,
   "id": "f1bf89ac",
   "metadata": {},
   "outputs": [],
   "source": [
    "import pandas as pd\n",
    "import json\n",
    "import re"
   ]
  },
  {
   "cell_type": "code",
   "execution_count": 2,
   "id": "f69a97fd",
   "metadata": {},
   "outputs": [],
   "source": [
    "with open(\"validation.json\", \"r\", encoding=\"UTF-8\") as f:\n",
    "    data = json.load(f)"
   ]
  },
  {
   "cell_type": "markdown",
   "id": "c6c7c327",
   "metadata": {},
   "source": [
    "## Json to List"
   ]
  },
  {
   "cell_type": "code",
   "execution_count": 3,
   "id": "abd8f985",
   "metadata": {},
   "outputs": [],
   "source": [
    "res = []"
   ]
  },
  {
   "cell_type": "code",
   "execution_count": 4,
   "id": "8143032f",
   "metadata": {},
   "outputs": [],
   "source": [
    "p = re.compile(\"#(.*)#\")"
   ]
  },
  {
   "cell_type": "code",
   "execution_count": 5,
   "id": "9aaeef8d",
   "metadata": {},
   "outputs": [],
   "source": [
    "for frame in data:\n",
    "    for sentence in frame[\"sentences\"]:\n",
    "        m = p.search(sentence[\"origin_text\"])\n",
    "        if m == None:\n",
    "            res.append([sentence[\"origin_text\"], sentence[\"types\"]])\n",
    "        else:\n",
    "            start = m.span()[0]\n",
    "            end = m.span()[1]\n",
    "            temp = sentence[\"origin_text\"][0:start] + \"OO\" + sentence[\"origin_text\"][end:]\n",
    "            res.append([temp, sentence[\"types\"]])"
   ]
  },
  {
   "cell_type": "code",
   "execution_count": 6,
   "id": "a95668d5",
   "metadata": {},
   "outputs": [
    {
     "data": {
      "text/plain": [
       "45215"
      ]
     },
     "execution_count": 6,
     "metadata": {},
     "output_type": "execute_result"
    }
   ],
   "source": [
    "len(res)"
   ]
  },
  {
   "cell_type": "code",
   "execution_count": 7,
   "id": "36ee3e63",
   "metadata": {},
   "outputs": [
    {
     "name": "stdout",
     "output_type": "stream",
     "text": [
      "['어 얼마면 되는데', ['CRIME']]\n",
      "['나라도 코로나 걸린채로 마스크 벗고 이태원 클럽이라도 갈까?', ['CRIME']]\n",
      "['사람 하나 죽이고 나도 이 세상 뜨고 싶다', ['CRIME']]\n",
      "['OO 마사지 받으러 가면 처음에 기분 나쁘게 실실 웃던데 이거 왜 그러냐?', ['CRIME']]\n",
      "['속 편하게 몇 십억 몇 백억 버는 거면 나같아도 투기할 거 같은데?', ['CRIME']]\n",
      "['자살당하는 게 무섭긴 하겠지.', ['CRIME']]\n",
      "['차라리 유흥업소를 가던가', ['CRIME']]\n",
      "['해커가 데스노트 같은 거 쥐고 혐오글 올리는 것들 이름 알아내서 싹 다 죽이면 성별갈등없어서 이 지구가 평화로워질 거임ㅋㅋ', ['CRIME']]\n",
      "['본인이 인생 힘들어서 포기한다는데 왜 난리임?', ['CRIME']]\n",
      "['니같은 애들은 따시켜야함', ['CRIME']]\n",
      "['나 그래서 취업하면 무조건 부모 둘다 갖다 버릴거야', ['CRIME']]\n",
      "['너같은 놈들 모가지 따는 재미다 왜?', ['CRIME']]\n",
      "['몰라 다 죽여버리고 싶어.', ['CRIME']]\n",
      "['저 퇴근해야하는데 일단 그냥 입원시키죠', ['CRIME']]\n",
      "['내가 너무 바빠서 그런데, 대입 자소서 좀 대필해주면 안 될까?', ['CRIME']]\n",
      "['음, 돈만 넉넉하게 챙겨주면 내가 대신 써줄 수 있음.', ['CRIME']]\n",
      "['야, 대학 합격하면 성과금까지 줄 테니까 자소서만 기깔나게 써줘라.', ['CRIME']]\n",
      "['그냥 마시고 튈 거야.', ['CRIME']]\n",
      "['괜찮아, 어차피 이건 표절 검사 안 하는 과제라 대충 이렇게 해도 됨 ㅋㅋㅋ', ['CRIME']]\n",
      "['사기쳐서 구치소 가면 공짜 밥 먹을수 있는데 사기한번 칠래?', ['CRIME']]\n",
      "['응 니얼굴은 황산테러 당한 얼굴', ['CRIME']]\n",
      "['괜찮아 조금 투자해도 되 어차피 오를거야 손해만 안나면 되자나', ['CRIME']]\n",
      "['사지 않지 무료 다운 쌉가능인데', ['CRIME']]\n",
      "['교도소에 불지르고 싶다', ['CRIME']]\n",
      "['나쁜 놈도 죽이고 내 욕망도 채우는 거지 뭐', ['CRIME']]\n",
      "['드라마 보면 음료에 약 타서 서서히 죽이던데 너도 방법 한 번 알아봐봐ㅋㅋㅋ', ['CRIME']]\n",
      "['귀찮은데 그냥 청산가리로 한 번에 죽이고 바로 화장해버리면 안될까?', ['CRIME']]\n",
      "['맞아 너 친구 부모님들 한 번씩은 다 죽인거 알지?', ['CRIME']]\n",
      "['마지막으로 너네 엄마만 도륙해버리고 그만할까?', ['CRIME']]\n",
      "['저작권 그까이꺼 좀 몰래 쓰면 안 되나?', ['CRIME']]\n",
      "['걸리지만 않으면 괜찮을테니까 그냥 써', ['CRIME']]\n",
      "['그치? 나 이번 작품에 여러가지 좀 땡겨써봐야겠다', ['CRIME']]\n",
      "['노인회관에서 짭 홍삼 좀 팔아볼까?', ['CRIME']]\n",
      "['도서관에서 책 훔치려고 했는데 너무 두꺼워서 안 들어감.', ['CRIME']]\n",
      "['진짜 원양어선에 니 몸 팔아버린다', ['CRIME']]\n",
      "['성추행범도 서울시장으로 치러주냐?', ['CRIME']]\n",
      "['성범죄자가 자살해도 세금들여서 오일장 해주던데', ['CRIME']]\n",
      "['그럼 친구니까 장난으로 너희 집 불질러 줄까?', ['CRIME']]\n",
      "['내가 또 깨는 데 전문가니까 이번엔 가정을 깨보도록 할게요.', ['CRIME']]\n",
      "['미자 담배 뚫리는 데 공유 ㅂㅌ', ['CRIME']]\n",
      "['재밌거든ㅋ신호위반 ㄹㅇ 스릴넘치구 꿀잼', ['CRIME']]\n",
      "['그리고 니가 도로 역주행의 맛을 아냐? 중독된다', ['CRIME']]\n",
      "['당할 만한 애들은 당해도 싸.', ['CRIME']]\n",
      "['그냥 확 훔쳐버릴까?', ['CRIME']]\n",
      "['훔쳐서 나랑 반띵하자', ['CRIME']]\n",
      "['사료에 쥐약 섞어서 널어놓을까 보다', ['CRIME']]\n",
      "['잘못되면 우린 책임을 회피할 구실을 만들어놔야해. 사람 죽인거 들통나면 우리 다죽어.', ['CRIME']]\n",
      "['진짜 법 발의한 사람 성범죄 당해봐야 정신차리지', ['CRIME']]\n",
      "['궁금하면 만지고 튈래?', ['CRIME']]\n",
      "['돈 주고 여자 좀 만나보겠다는데 그게 잘못이냐?', ['CRIME']]\n",
      "['부모님은 모르시지? 빨리 지우러 가자', ['CRIME']]\n",
      "['응 나는 당연히 불법다운로드 개꿀 ㅋㅋ', ['CRIME']]\n",
      "['50만원씩 주께 각각', ['CRIME']]\n",
      "['고뤠? 나는콜 지금바로하자', ['CRIME']]\n",
      "['어 나는 니꼴리는대로 해라 50선금이 내조건이다', ['CRIME']]\n",
      "['요새 클럽에서 대마초 살 수 있다던데 오늘 가볼래?', ['CRIME']]\n",
      "['오 대마 한번 해보고 싶었는데 너무 좋지~', ['CRIME']]\n",
      "['에이~ 음주운전해도 돼 절대 안 걸림.', ['CRIME']]\n",
      "['솔직히 지금 우리나라가 여기까지 온 건 군부 정권이 있었어서 그렇다.', ['CRIME']]\n",
      "['김대표가 음료수에 약 탔다고 말했잖아요.', ['CRIME']]\n",
      "['맞아, 요즘 성범죄자들이 다 중년 남자들이더라.', ['CRIME']]\n",
      "['무단횡단하는 사람들 보면 차로 쳐버리고 싶더라 ㄹㅇ', ['CRIME']]\n",
      "['아 너무 공감되서 다 죽여버리고 싶네', ['CRIME']]\n",
      "['저런 애들도 못생겼으면 죽이든 말든 신경 안썻을텐데 역시 생긴게 벼슬이다', ['CRIME']]\n",
      "['아이 일로와바. 너도 싫은거 아니잖아.', ['CRIME']]\n",
      "['로린이 납치하려고^^', ['CRIME']]\n",
      "['아무도 못 볼 땐 가도 돼~', ['CRIME']]\n",
      "['니가 가서 부축해. 내가 지갑 빼낼게.', ['CRIME']]\n",
      "['남자들끼리만 있으면 단톡방에서 저 정도 섹드립은 많이 하지 않나?', ['CRIME']]\n",
      "['남자끼리 있으면 저 정도는 흔하지.', ['CRIME']]\n",
      "['이것도 사형 안시키면 내가 가서 죽이려고 ㅋㅋ', ['CRIME']]\n",
      "['남 인생에 똥 뿌렸으면 네 인생은 염산 맞아야 정의지.', ['CRIME']]\n",
      "['군대가서 힘들면 업소좀 다닐 수도 있지', ['CRIME']]\n",
      "['군인인데 그렇게라도 해줘야하지 않냐?', ['CRIME']]\n",
      "['그냥 싹다 잡아다가 죽여버렸으면 좋겠다', ['CRIME']]\n",
      "['아예 말을 못하게 입을 조져버리는 것도 좋은 생각인 듯', ['CRIME']]\n",
      "['아주 적절한 처사가 되겠군', ['CRIME']]\n",
      "['술 많이 먹으면 몰라, 안걸리면 범죄아니야 알게뭐냐?', ['CRIME']]\n",
      "['진짜 그 딴 말하지 마라 죽여버린다', ['CRIME']]\n",
      "['어제 니가 먹은 복어가 트로이목마였기를...', ['CRIME']]\n",
      "['은행에 들어가서 돈을 훔치자.', ['CRIME']]\n",
      "['오 ㅋㅋ 오늘 건마 갈래?', ['CRIME']]\n",
      "['내가 인터넷에 다시 퍼트려야겠어 저렇게 뻔뻔스런 모습 꼴보기 싫어', ['CRIME']]\n",
      "['야 나만 불따하는 것도 아닌데 뭘', ['CRIME']]\n",
      "['얘들아 저기 가서 담배나 피우자', ['CRIME']]\n",
      "['너도 죽여봐도 돼?', ['CRIME']]\n",
      "['방송에서만 안 그런 척하고 다 몰카 찍어서 갖고 있겠지ㅋㅋㅋ', ['CRIME']]\n",
      "['10년 만났으면 질려서 그럴 수도 있지', ['CRIME']]\n",
      "['하 끔살당했으면 좋겠다', ['CRIME']]\n",
      "['내일 이제는 전이 아닌 여자친구랑 찍은 셀카 올리겠습니다.', ['CRIME']]\n",
      "['근데 난 성적유린하는 게 그렇게 까지 잘못한건가 싶음 ㅋ', ['CRIME']]\n",
      "['저 애 납치할 수 있냐? ㅋㅋㅋ', ['CRIME']]\n",
      "['걔 단톡에 초대해서 계속 말 거는 거 어떰?', ['CRIME']]\n",
      "['괴롭히다니? 왕따주제에 놀아주면 감사합니다 해야지', ['CRIME']]\n",
      "['중고사기 쳐볼래?', ['CRIME']]\n",
      "['안걸리는 방법이 다 있음 ㅋㅋ', ['CRIME']]\n",
      "['야야 저기 장애인 주차 자리 비었다', ['CRIME']]\n",
      "['길거리에서 보면 몰래 따라가서 지켜봄', ['CRIME']]\n",
      "['어제 밤에 그 여시한테 밀려 옥상에서 떨어져 죽을뻔 했어요.', ['CRIME']]\n",
      "['헐 그러다 뒤지면 너만 손해다', ['CRIME']]\n",
      "['너부터 뒤지면 될듯', ['CRIME']]\n",
      "['살인하면 안되지만 살인하고 싶게 만드는 개잡주다', ['CRIME']]\n",
      "['잡주로 살인하면 나는 벌써 사람 여럿 죽였다', ['CRIME']]\n",
      "['진짜 아무나 묻지마 살인 각이다', ['CRIME']]\n",
      "['우리 엄마 신경쓰지 말고 니 우유짜기나 신경쓰셈', ['CRIME']]\n",
      "['잘했어. 앞으로 나랑 마주칠때마다 100만원씩이다. 알았지?', ['CRIME']]\n",
      "['요 앞 슈퍼 할머니한테서 10만원 뜯어냈음.', ['CRIME']]\n",
      "['저 남자 질라 잘생겼다. 저런 애들이랑 한번이라도 하고 죽어야 되는데', ['CRIME']]\n",
      "['그래도 여자한테 돈 쥐어주고 먹는 거 봐 양반이지.', ['CRIME']]\n",
      "['하... 삼청교육대가 부활해야 애들이 정신을 좀 차릴텐데', ['CRIME']]\n",
      "['제발 내 옷에 왈가왈부하지마 죽여버리기 전에', ['CRIME']]\n",
      "['그니까 음주운전은 계획적 살인인데 가해자한테 사형부터 때려야지', ['CRIME']]\n",
      "['뭐가 불쌍해 다 같은편인데 놔두면 앞으로 또 불란을 일을킬거라고 한명도 남기지 말고 싸그리 죽여버려야해', ['CRIME']]\n",
      "['그래서 나 지나가는 여자들 빵댕이 개 많이 만짐', ['CRIME']]\n",
      "['와 니만 즐기고 있었냐 나도 천국 같이 가자 ㅋㅋ', ['CRIME']]\n",
      "['장애인전용 자리에 대놓고 갈게.', ['CRIME']]\n",
      "['온 몸을 갈기 갈기 찢어 갈아마셔 버리겠어.', ['CRIME']]\n",
      "['아 진짜? 나도 지하에서 양귀비나 키워볼까. 쏠쏠하겠는데?', ['CRIME']]\n",
      "['그 생각을 못했네. 앞으로 내 롤모델은 OO 형님들이다 ㅋㅋㅋ', ['CRIME']]\n",
      "['OO 멋있지 않냐?', ['CRIME']]\n",
      "['불의를 보고 못 참은 사람일 뿐이야. 나중에 무조건 재평가된다.', ['CRIME']]\n",
      "['그냥 튀는 거 어땤ㅋㅋㅋㅋㅋ', ['CRIME']]\n",
      "['ㅇㅇ하나 둘 셋 하면 튀자', ['CRIME']]\n",
      "['응 그래서 잠수탄 조원 어떻게 처참하게 살해할지 고민하는중', ['CRIME']]\n",
      "['ㅋㅋ안들켜~다음 타겟은 누구로 할까 고민중이야.', ['CRIME']]\n",
      "['진짜 나도 돈만 있으면 사람이나 죽이고 놀거야', ['CRIME']]\n",
      "['범칙금 세게 물어봐야 반성 좀 할텐데', ['CRIME']]\n",
      "['도박 안 하고 사창가 안 간 남자가 어딨냐?', ['CRIME']]\n",
      "['별 것도 아닌 걸로 그만 싸워라', ['CRIME']]\n",
      "['그 연예인, 마약 한 거 완전 멋있는 것 같아.', ['CRIME']]\n",
      "['이런 날씨엔 그냥 맘에 안드는 사람 하나 죽여도 모르지 않을까?', ['CRIME']]\n",
      "['그런 애들은 좀 왕따로 조져놔야 해', ['CRIME']]\n",
      "['우리집에도 예전에 개키웠었는데 크니까 너무 못생겨져서 버렸어', ['CRIME']]\n",
      "['그래? 나중에 불법다운해서 볼게 ㅋㅋㅋ', ['CRIME']]\n",
      "['요즘 목사란 인간들은 온통 성범죄자야.', ['CRIME']]\n",
      "['뿡알 뽁 터트리면 죽음ㅋㅋ', ['CRIME']]\n",
      "['법을 준수하는 시민이 친구 배에 칼을 꽂으셨나?', ['CRIME']]\n",
      "['여자 성범죄 후 살해해도 무죄, 사람 칼로 찔러도 무죄.', ['CRIME']]\n",
      "['오늘 진짜 잼민이 손가락 자를 거야', ['CRIME']]\n",
      "['ㅇㅇ 도끼 챙겨서 제대로 혼 좀 내야지', ['CRIME']]\n",
      "['성매매가 크게 잘못된 건 아닌거 같더라', ['CRIME']]\n",
      "['그치 인간의 성욕이라는 게 자연스러운거고 수요랑 공급이 있는건데', ['CRIME']]\n",
      "['나도 돈만 주면 사람도 죽일거야.', ['CRIME']]\n",
      "['아니 없는데 그냥 훔칠까?', ['CRIME']]\n",
      "['싼거 정도는 훔쳐도 모를거야 그러자', ['CRIME']]\n",
      "['배때지에 칼 쑤셔넣고 싶다', ['CRIME']]\n",
      "['야 대마각이다 이거 나올 때까지 존버한다', ['CRIME']]\n",
      "['오 그걸로 옷사입자', ['CRIME']]\n",
      "['나도... 학교에 그냥 불 지르고싶다', ['CRIME']]\n",
      "['맞아... 교수들 납치해서 가두고 과제 못내게 하고싶어', ['CRIME']]\n",
      "['좋아, 넌 사형이다', ['CRIME']]\n",
      "['내가 듣고 싶은 유일한 네 소식은 부고다.', ['CRIME']]\n",
      "['내가 기프트 카트 쌔비는 법 알려줄까?', ['CRIME']]\n",
      "['이 새벽에? 죽여도 합법이다.', ['CRIME']]\n",
      "['진심 살인청부하고 싶다.', ['CRIME']]\n",
      "['학폭했다 해도 이제 와서 소용도 없는데 왜 탈퇴해?', ['CRIME']]\n",
      "['내가 죽여줄까?', ['CRIME']]\n",
      "['어떻게 죽여줘야 만족할래?', ['CRIME']]\n",
      "['제가 보낸 사과 상자가 좀 작았나 봅니다.', ['CRIME']]\n",
      "['야, 괜찮아 ㅋㅋㅋ 그 땐 나만 잘 빠져나오면 되지 ㅋㅋㅋ', ['CRIME']]\n",
      "['어차피 5분 이내로 돌아올 텐데 길거리에 불법 주차하면 되잖아.', ['CRIME']]\n",
      "['아, 그래, 빨리 갔다오면 불법 주차해도 괜찮으니까.', ['CRIME']]\n",
      "['불우이웃 돕는 성금낸다고 생각해', ['CRIME']]\n",
      "['뭐 맨입으로 뭘 바라는거야? 돈이라도 내놓고 뭘 바라던가 해야지?', ['CRIME']]\n",
      "['돈도 안되는데 이 뽑아버리고 임플란트 박아서 돈이나 받자', ['CRIME']]\n",
      "['너는 진짜 자유를 강탈당해야 똑바른 생각을 할 애다.', ['CRIME']]\n",
      "['음주운전해서 사고가 났는데 사람 안죽었으면 된거 아니야?', ['CRIME']]\n",
      "['음주운전 자체가 뭐 그렇게 잘못이라고?', ['CRIME']]\n"
     ]
    }
   ],
   "source": [
    "for i in res:\n",
    "    if \"CRIME\" in i[1] and len(i[1]) == 1:\n",
    "        print(i)"
   ]
  },
  {
   "cell_type": "code",
   "execution_count": 8,
   "id": "6620b85e",
   "metadata": {},
   "outputs": [
    {
     "data": {
      "text/plain": [
       "[['명절이면 좀 일찍 마쳐주지', ['IMMORAL_NONE']],\n",
       " ['원래 틀딱들은 눈치가 없어서 ㅋㅋㅋ', ['CENSURE', 'HATE']],\n",
       " ['저 나이 먹고 저렇게 눈치 없는 것도 재주다', ['CENSURE']],\n",
       " ['요즘은 왜 미세먼지가 별로 없지?', ['IMMORAL_NONE']],\n",
       " ['호주랑 중국이랑 싸우고 있어서 중국에서 호주산석탄을 수입 안해서 그렇대', ['IMMORAL_NONE']],\n",
       " ['모르긴 몰라도 난 무조건 호주 편이다ㅋㅋㅋ', ['HATE']],\n",
       " ['호주가 동물이랑 싸워서 이겨주길', ['DISCRIMINATION', 'HATE']],\n",
       " ['내가 보기엔 OO가 멍청해서 호주한테 질 듯ㅋㅋㅋ', ['HATE', 'CENSURE']],\n",
       " ['하긴 그럴 것 같긴 해', ['IMMORAL_NONE']],\n",
       " ['짱깨가 머가리 돌려봤자 뭐가 되겠냐ㅋㅋ', ['DISCRIMINATION', 'HATE', 'CENSURE']]]"
      ]
     },
     "execution_count": 8,
     "metadata": {},
     "output_type": "execute_result"
    }
   ],
   "source": [
    "res[:10]"
   ]
  },
  {
   "cell_type": "code",
   "execution_count": 9,
   "id": "14ca051c",
   "metadata": {},
   "outputs": [],
   "source": [
    "res2 = []\n",
    "for x in res:\n",
    "    # 1. SEXUAL 표현만 있는 문장 2 라벨링\n",
    "    if \"SEXUAL\" in x[1] and len(x[1]) == 1:\n",
    "        x[1] = 2\n",
    "        res2.append(x)\n",
    "    # 2. ABUSE 표현만 있는 문장만 1 라벨링\n",
    "    elif \"ABUSE\" in x[1] and len(x[1]) == 1:\n",
    "        x[1] = 1\n",
    "        res2.append(x)\n",
    "    # 3. VIOLENCE 표현만 있는 문장만 1 라벨링\n",
    "    elif \"VIOLENCE\" in x[1] and len(x[1]) == 1:\n",
    "        x[1] = 1\n",
    "        res2.append(x)\n",
    "    elif \"IMMORAL_NONE\" in x[1]:\n",
    "        x[1] = 0\n",
    "        res2.append(x)\n"
   ]
  },
  {
   "cell_type": "code",
   "execution_count": 10,
   "id": "20016099",
   "metadata": {},
   "outputs": [],
   "source": [
    "# # 새로운 전처리\n",
    "# res2 = []\n",
    "# for x in res:\n",
    "#     # 1. SEXUAL 표현만 있는 문장 3 라벨링\n",
    "#     if \"SEXUAL\" in x[1] and len(x[1]) == 1:\n",
    "#         x[1] = 3\n",
    "#         res2.append(x)\n",
    "#     # 2. ABUSE 표현만 있는 문장만 1 라벨링\n",
    "#     elif \"ABUSE\" in x[1] and len(x[1]) == 1:\n",
    "#         x[1] = 1\n",
    "#         res2.append(x)\n",
    "#     # 3. VIOLENCE 표현만 있는 문장만 2 라벨링\n",
    "#     elif \"VIOLENCE\" in x[1] and len(x[1]) == 1:\n",
    "#         x[1] = 2\n",
    "#         res2.append(x)\n",
    "#     elif \"HATE\" in x[1] and len(x[1]) == 1:\n",
    "#         x[1] = 2\n",
    "#         res2.append(x)\n",
    "#     elif \"IMMORAL_NONE\" in x[1]:\n",
    "#         x[1] = 0\n",
    "#         res2.append(x)\n",
    "\n",
    "\n",
    "# for x in res:\n",
    "#     if \"SEXUAL\" in x[1] :\n",
    "#         x[1] = 3\n",
    "#     elif \"ABUSE\" in x[1]:\n",
    "#         x[1] = 1\n",
    "#     elif \"IMMORAL_NONE\" in x[1]:\n",
    "#         x[1] = 0\n",
    "#     else:\n",
    "#         x[1] = 2"
   ]
  },
  {
   "cell_type": "code",
   "execution_count": 12,
   "id": "16f7bd87",
   "metadata": {},
   "outputs": [
    {
     "data": {
      "text/plain": [
       "(0, 929, 849, 20344)"
      ]
     },
     "execution_count": 12,
     "metadata": {},
     "output_type": "execute_result"
    }
   ],
   "source": [
    "s = 0\n",
    "a = 0\n",
    "v = 0\n",
    "m = 0\n",
    "\n",
    "for i in res2:\n",
    "    if i[1] == 0:\n",
    "        m += 1\n",
    "    if i[1] == 1:\n",
    "        a += 1\n",
    "    if i[1] == 2:\n",
    "        v += 1\n",
    "    if i[1] == 3:\n",
    "        s += 1\n",
    "\n",
    "s,a,v,m"
   ]
  },
  {
   "cell_type": "markdown",
   "id": "ba6c334c",
   "metadata": {},
   "source": [
    "## List to CSV"
   ]
  },
  {
   "cell_type": "code",
   "execution_count": 13,
   "id": "d977d236",
   "metadata": {},
   "outputs": [],
   "source": [
    "df = pd.DataFrame(res2)"
   ]
  },
  {
   "cell_type": "code",
   "execution_count": 14,
   "id": "71a14fc5",
   "metadata": {},
   "outputs": [
    {
     "data": {
      "text/html": [
       "<div>\n",
       "<style scoped>\n",
       "    .dataframe tbody tr th:only-of-type {\n",
       "        vertical-align: middle;\n",
       "    }\n",
       "\n",
       "    .dataframe tbody tr th {\n",
       "        vertical-align: top;\n",
       "    }\n",
       "\n",
       "    .dataframe thead th {\n",
       "        text-align: right;\n",
       "    }\n",
       "</style>\n",
       "<table border=\"1\" class=\"dataframe\">\n",
       "  <thead>\n",
       "    <tr style=\"text-align: right;\">\n",
       "      <th></th>\n",
       "      <th>0</th>\n",
       "      <th>1</th>\n",
       "    </tr>\n",
       "  </thead>\n",
       "  <tbody>\n",
       "    <tr>\n",
       "      <th>0</th>\n",
       "      <td>명절이면 좀 일찍 마쳐주지</td>\n",
       "      <td>0</td>\n",
       "    </tr>\n",
       "    <tr>\n",
       "      <th>1</th>\n",
       "      <td>요즘은 왜 미세먼지가 별로 없지?</td>\n",
       "      <td>0</td>\n",
       "    </tr>\n",
       "    <tr>\n",
       "      <th>2</th>\n",
       "      <td>호주랑 중국이랑 싸우고 있어서 중국에서 호주산석탄을 수입 안해서 그렇대</td>\n",
       "      <td>0</td>\n",
       "    </tr>\n",
       "    <tr>\n",
       "      <th>3</th>\n",
       "      <td>하긴 그럴 것 같긴 해</td>\n",
       "      <td>0</td>\n",
       "    </tr>\n",
       "    <tr>\n",
       "      <th>4</th>\n",
       "      <td>와 어제 그 댄서 퍼포먼스 장난 아니더라</td>\n",
       "      <td>0</td>\n",
       "    </tr>\n",
       "  </tbody>\n",
       "</table>\n",
       "</div>"
      ],
      "text/plain": [
       "                                         0  1\n",
       "0                           명절이면 좀 일찍 마쳐주지  0\n",
       "1                       요즘은 왜 미세먼지가 별로 없지?  0\n",
       "2  호주랑 중국이랑 싸우고 있어서 중국에서 호주산석탄을 수입 안해서 그렇대  0\n",
       "3                             하긴 그럴 것 같긴 해  0\n",
       "4                   와 어제 그 댄서 퍼포먼스 장난 아니더라  0"
      ]
     },
     "execution_count": 14,
     "metadata": {},
     "output_type": "execute_result"
    }
   ],
   "source": [
    "df.head()"
   ]
  },
  {
   "cell_type": "code",
   "execution_count": 15,
   "id": "efcf1b47",
   "metadata": {},
   "outputs": [],
   "source": [
    "df.to_csv(\"비식별화_제거_valid_ver.csv\", encoding=\"utf-8-sig\")"
   ]
  },
  {
   "cell_type": "code",
   "execution_count": null,
   "id": "a46593fe",
   "metadata": {},
   "outputs": [],
   "source": []
  }
 ],
 "metadata": {
  "kernelspec": {
   "display_name": "Python 3 (ipykernel)",
   "language": "python",
   "name": "python3"
  },
  "language_info": {
   "codemirror_mode": {
    "name": "ipython",
    "version": 3
   },
   "file_extension": ".py",
   "mimetype": "text/x-python",
   "name": "python",
   "nbconvert_exporter": "python",
   "pygments_lexer": "ipython3",
   "version": "3.9.16"
  }
 },
 "nbformat": 4,
 "nbformat_minor": 5
}
