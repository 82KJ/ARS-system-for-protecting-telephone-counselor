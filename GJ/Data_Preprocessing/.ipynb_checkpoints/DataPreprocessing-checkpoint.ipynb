{
 "cells": [
  {
   "cell_type": "markdown",
   "id": "024483d6",
   "metadata": {},
   "source": [
    "## Json Load"
   ]
  },
  {
   "cell_type": "code",
   "execution_count": 1,
   "id": "f1bf89ac",
   "metadata": {},
   "outputs": [],
   "source": [
    "import pandas as pd\n",
    "import json"
   ]
  },
  {
   "cell_type": "code",
   "execution_count": 3,
   "id": "f69a97fd",
   "metadata": {},
   "outputs": [],
   "source": [
    "with open(\"validation.json\", \"r\", encoding=\"UTF-8\") as f:\n",
    "    data = json.load(f)"
   ]
  },
  {
   "cell_type": "markdown",
   "id": "c6c7c327",
   "metadata": {},
   "source": [
    "## Json to List"
   ]
  },
  {
   "cell_type": "code",
   "execution_count": 4,
   "id": "abd8f985",
   "metadata": {},
   "outputs": [],
   "source": [
    "res = []"
   ]
  },
  {
   "cell_type": "code",
   "execution_count": 5,
   "id": "9aaeef8d",
   "metadata": {},
   "outputs": [],
   "source": [
    "for frame in data:\n",
    "    for sentence in frame[\"sentences\"]:\n",
    "        if \"#\" not in sentence[\"origin_text\"]:\n",
    "            res.append([sentence[\"origin_text\"], sentence[\"types\"]])"
   ]
  },
  {
   "cell_type": "code",
   "execution_count": 6,
   "id": "a95668d5",
   "metadata": {},
   "outputs": [
    {
     "data": {
      "text/plain": [
       "43142"
      ]
     },
     "execution_count": 6,
     "metadata": {},
     "output_type": "execute_result"
    }
   ],
   "source": [
    "len(res)"
   ]
  },
  {
   "cell_type": "code",
   "execution_count": 7,
   "id": "6620b85e",
   "metadata": {},
   "outputs": [
    {
     "data": {
      "text/plain": [
       "[['명절이면 좀 일찍 마쳐주지', ['IMMORAL_NONE']],\n",
       " ['원래 틀딱들은 눈치가 없어서 ㅋㅋㅋ', ['CENSURE', 'HATE']],\n",
       " ['저 나이 먹고 저렇게 눈치 없는 것도 재주다', ['CENSURE']],\n",
       " ['요즘은 왜 미세먼지가 별로 없지?', ['IMMORAL_NONE']],\n",
       " ['호주랑 중국이랑 싸우고 있어서 중국에서 호주산석탄을 수입 안해서 그렇대', ['IMMORAL_NONE']],\n",
       " ['모르긴 몰라도 난 무조건 호주 편이다ㅋㅋㅋ', ['HATE']],\n",
       " ['호주가 동물이랑 싸워서 이겨주길', ['DISCRIMINATION', 'HATE']],\n",
       " ['하긴 그럴 것 같긴 해', ['IMMORAL_NONE']],\n",
       " ['짱깨가 머가리 돌려봤자 뭐가 되겠냐ㅋㅋ', ['DISCRIMINATION', 'HATE', 'CENSURE']],\n",
       " ['와 어제 그 댄서 퍼포먼스 장난 아니더라', ['IMMORAL_NONE']]]"
      ]
     },
     "execution_count": 7,
     "metadata": {},
     "output_type": "execute_result"
    }
   ],
   "source": [
    "res[:10]"
   ]
  },
  {
   "cell_type": "code",
   "execution_count": 8,
   "id": "20016099",
   "metadata": {},
   "outputs": [],
   "source": [
    "for x in res:\n",
    "    if \"SEXUAL\" in x[1]:\n",
    "        x[1] = 3\n",
    "    elif \"ABUSE\" in x[1]:\n",
    "        x[1] = 1\n",
    "    elif \"IMMORAL_NONE\" in x[1]:\n",
    "        x[1] = 0\n",
    "    else:\n",
    "        x[1] = 2"
   ]
  },
  {
   "cell_type": "code",
   "execution_count": 9,
   "id": "16f7bd87",
   "metadata": {},
   "outputs": [
    {
     "data": {
      "text/plain": [
       "[['명절이면 좀 일찍 마쳐주지', 0],\n",
       " ['원래 틀딱들은 눈치가 없어서 ㅋㅋㅋ', 2],\n",
       " ['저 나이 먹고 저렇게 눈치 없는 것도 재주다', 2],\n",
       " ['요즘은 왜 미세먼지가 별로 없지?', 0],\n",
       " ['호주랑 중국이랑 싸우고 있어서 중국에서 호주산석탄을 수입 안해서 그렇대', 0],\n",
       " ['모르긴 몰라도 난 무조건 호주 편이다ㅋㅋㅋ', 2],\n",
       " ['호주가 동물이랑 싸워서 이겨주길', 2],\n",
       " ['하긴 그럴 것 같긴 해', 0],\n",
       " ['짱깨가 머가리 돌려봤자 뭐가 되겠냐ㅋㅋ', 2],\n",
       " ['와 어제 그 댄서 퍼포먼스 장난 아니더라', 0]]"
      ]
     },
     "execution_count": 9,
     "metadata": {},
     "output_type": "execute_result"
    }
   ],
   "source": [
    "res[:10]"
   ]
  },
  {
   "cell_type": "markdown",
   "id": "ba6c334c",
   "metadata": {},
   "source": [
    "## List to CSV"
   ]
  },
  {
   "cell_type": "code",
   "execution_count": 10,
   "id": "d977d236",
   "metadata": {},
   "outputs": [],
   "source": [
    "df = pd.DataFrame(res)"
   ]
  },
  {
   "cell_type": "code",
   "execution_count": 11,
   "id": "71a14fc5",
   "metadata": {},
   "outputs": [
    {
     "data": {
      "text/html": [
       "<div>\n",
       "<style scoped>\n",
       "    .dataframe tbody tr th:only-of-type {\n",
       "        vertical-align: middle;\n",
       "    }\n",
       "\n",
       "    .dataframe tbody tr th {\n",
       "        vertical-align: top;\n",
       "    }\n",
       "\n",
       "    .dataframe thead th {\n",
       "        text-align: right;\n",
       "    }\n",
       "</style>\n",
       "<table border=\"1\" class=\"dataframe\">\n",
       "  <thead>\n",
       "    <tr style=\"text-align: right;\">\n",
       "      <th></th>\n",
       "      <th>0</th>\n",
       "      <th>1</th>\n",
       "    </tr>\n",
       "  </thead>\n",
       "  <tbody>\n",
       "    <tr>\n",
       "      <th>0</th>\n",
       "      <td>명절이면 좀 일찍 마쳐주지</td>\n",
       "      <td>0</td>\n",
       "    </tr>\n",
       "    <tr>\n",
       "      <th>1</th>\n",
       "      <td>원래 틀딱들은 눈치가 없어서 ㅋㅋㅋ</td>\n",
       "      <td>2</td>\n",
       "    </tr>\n",
       "    <tr>\n",
       "      <th>2</th>\n",
       "      <td>저 나이 먹고 저렇게 눈치 없는 것도 재주다</td>\n",
       "      <td>2</td>\n",
       "    </tr>\n",
       "    <tr>\n",
       "      <th>3</th>\n",
       "      <td>요즘은 왜 미세먼지가 별로 없지?</td>\n",
       "      <td>0</td>\n",
       "    </tr>\n",
       "    <tr>\n",
       "      <th>4</th>\n",
       "      <td>호주랑 중국이랑 싸우고 있어서 중국에서 호주산석탄을 수입 안해서 그렇대</td>\n",
       "      <td>0</td>\n",
       "    </tr>\n",
       "  </tbody>\n",
       "</table>\n",
       "</div>"
      ],
      "text/plain": [
       "                                         0  1\n",
       "0                           명절이면 좀 일찍 마쳐주지  0\n",
       "1                      원래 틀딱들은 눈치가 없어서 ㅋㅋㅋ  2\n",
       "2                 저 나이 먹고 저렇게 눈치 없는 것도 재주다  2\n",
       "3                       요즘은 왜 미세먼지가 별로 없지?  0\n",
       "4  호주랑 중국이랑 싸우고 있어서 중국에서 호주산석탄을 수입 안해서 그렇대  0"
      ]
     },
     "execution_count": 11,
     "metadata": {},
     "output_type": "execute_result"
    }
   ],
   "source": [
    "df.head()"
   ]
  },
  {
   "cell_type": "code",
   "execution_count": 12,
   "id": "efcf1b47",
   "metadata": {},
   "outputs": [],
   "source": [
    "df.to_csv(\"validation.csv\", encoding=\"utf-8-sig\")"
   ]
  },
  {
   "cell_type": "code",
   "execution_count": null,
   "id": "a46593fe",
   "metadata": {},
   "outputs": [],
   "source": []
  }
 ],
 "metadata": {
  "kernelspec": {
   "display_name": "Python 3 (ipykernel)",
   "language": "python",
   "name": "python3"
  },
  "language_info": {
   "codemirror_mode": {
    "name": "ipython",
    "version": 3
   },
   "file_extension": ".py",
   "mimetype": "text/x-python",
   "name": "python",
   "nbconvert_exporter": "python",
   "pygments_lexer": "ipython3",
   "version": "3.9.16"
  }
 },
 "nbformat": 4,
 "nbformat_minor": 5
}
