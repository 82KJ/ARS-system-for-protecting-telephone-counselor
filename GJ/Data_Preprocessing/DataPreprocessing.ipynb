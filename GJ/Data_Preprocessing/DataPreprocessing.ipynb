{
 "cells": [
  {
   "cell_type": "markdown",
   "id": "024483d6",
   "metadata": {},
   "source": [
    "## Json Load"
   ]
  },
  {
   "cell_type": "code",
   "execution_count": 46,
   "id": "f1bf89ac",
   "metadata": {},
   "outputs": [],
   "source": [
    "import pandas as pd\n",
    "import json"
   ]
  },
  {
   "cell_type": "code",
   "execution_count": 103,
   "id": "f69a97fd",
   "metadata": {},
   "outputs": [],
   "source": [
    "with open(\"5.json\", \"r\", encoding=\"UTF-8\") as f:\n",
    "    data = json.load(f)"
   ]
  },
  {
   "cell_type": "markdown",
   "id": "c6c7c327",
   "metadata": {},
   "source": [
    "## Json to List"
   ]
  },
  {
   "cell_type": "code",
   "execution_count": 104,
   "id": "abd8f985",
   "metadata": {},
   "outputs": [],
   "source": [
    "res = []"
   ]
  },
  {
   "cell_type": "code",
   "execution_count": 105,
   "id": "9aaeef8d",
   "metadata": {},
   "outputs": [],
   "source": [
    "for frame in data:\n",
    "    for sentence in frame[\"sentences\"]:\n",
    "        if \"#\" not in sentence[\"origin_text\"]:\n",
    "            res.append([sentence[\"origin_text\"], sentence[\"types\"]])"
   ]
  },
  {
   "cell_type": "code",
   "execution_count": 106,
   "id": "a95668d5",
   "metadata": {},
   "outputs": [
    {
     "data": {
      "text/plain": [
       "85352"
      ]
     },
     "execution_count": 106,
     "metadata": {},
     "output_type": "execute_result"
    }
   ],
   "source": [
    "len(res)"
   ]
  },
  {
   "cell_type": "code",
   "execution_count": 107,
   "id": "36ee3e63",
   "metadata": {},
   "outputs": [
    {
     "name": "stdout",
     "output_type": "stream",
     "text": [
      "['야 여자애들 집안일 할때 먹어봄? 특히 행주질 할때 바지 벗기면 끝임', ['CENSURE', 'VIOLENCE', 'CRIME', 'SEXUAL']]\n",
      "['ㅋㅋ 행주질 할 때 하다가 자기가 행주에서 행주되겠노', ['VIOLENCE', 'CRIME', 'SEXUAL', 'CENSURE']]\n",
      "['나는 특히 가만히 있는 것 보다 좀 반항 하는 맛이 있는게 좋더라', ['CENSURE', 'VIOLENCE', 'CRIME', 'SEXUAL']]\n",
      "['진짜 억지로 따먹어 버리고 싶은 말만 하네', ['VIOLENCE', 'SEXUAL']]\n",
      "['시위대에 꼬X에 40mm 충격탄 갈겨버렸노 ㅋㅋㅋ', ['SEXUAL', 'VIOLENCE']]\n",
      "['저번에 보고 진짜 개꼴려서, 야동 같이 그대로 덮치고 싶더라', ['VIOLENCE', 'CRIME', 'SEXUAL']]\n",
      "['말놓지말라고요 자G를 뽑아벌라', ['HATE', 'VIOLENCE', 'SEXUAL']]\n",
      "['전쟁나면 쓸모 있음', ['DISCRIMINATION', 'HATE', 'CENSURE', 'VIOLENCE', 'CRIME', 'SEXUAL']]\n",
      "['맞지 맞지 받이로 쓰면되지 총알받이든 다른거든', ['HATE', 'CENSURE', 'VIOLENCE', 'CRIME', 'SEXUAL', 'DISCRIMINATION']]\n",
      "['그냥 가출한 련들 여러명 꼬셔서 공용 변기 만들어 버릴까 공떡 개이득인데', ['VIOLENCE', 'SEXUAL']]\n",
      "['다대 떡으로 공용변기 만든 다음에 안싸 까지 퍼펙트 임신하면 밟아서 낙태 고고', ['VIOLENCE', 'SEXUAL']]\n",
      "['한 곳으로만 피가 쏠리면 저혈압으로 죽을 테니까', ['SEXUAL', 'VIOLENCE']]\n",
      "['진짜 전쟁 나면 다 육변기로 끌려 갈텐데', ['CENSURE', 'VIOLENCE', 'CRIME', 'SEXUAL']]\n",
      "['아동성애는 정상성욕이지만 여자들의 질투로 불법화 당한 것 뿐이다.', ['VIOLENCE', 'CRIME', 'SEXUAL', 'HATE', 'CENSURE']]\n",
      "['저 영화 배우가 실제로 내 주변에 있었음 예뻐서 성범죄했을 텐데', ['VIOLENCE', 'CRIME', 'SEXUAL']]\n",
      "['아마 사람들 다 달려들어서 쟤 임신 시키려고 안달이었을 걸 ㅋㅋ', ['VIOLENCE', 'CRIME', 'SEXUAL']]\n",
      "['저렇게 몸매 좋고 맛있게 생긴 건 죄다 죄 ㅋㅋ', ['VIOLENCE', 'CRIME', 'SEXUAL']]\n",
      "['아스팔트에 시커먼 건포도 박힌 거 보면 살인충동까지 들어', ['VIOLENCE', 'SEXUAL', 'DISCRIMINATION', 'CENSURE']]\n",
      "['아래 간수도 하지 못할 거면 진작 페니스 자르고 환관 인생 살았어야지', ['SEXUAL', 'CENSURE', 'VIOLENCE']]\n",
      "['똥꾸멍에 술병 넣고 깨 버려야 한다.', ['HATE', 'CENSURE', 'VIOLENCE', 'SEXUAL', 'DISCRIMINATION']]\n",
      "['임산부 죽이면 2킬 임?', ['VIOLENCE', 'SEXUAL', 'CRIME', 'CENSURE']]\n",
      "['업소 다니는 애들은 거기를 잘라야지', ['VIOLENCE', 'SEXUAL']]\n",
      "['12살부터 피싸는데 법으로도 그 이상부터는 따먹게 해줘야 하는 거 아니냐?', ['VIOLENCE', 'CRIME', 'SEXUAL']]\n",
      "['조선시대는 그 나이에도 시집가긴 했잖아', ['VIOLENCE', 'CRIME', 'SEXUAL']]\n",
      "['악마란 단어도 아까운 개 쓰레기같은... 사형 안시키고 뭐하냐 제발 죽여라 제발', ['HATE', 'CENSURE', 'VIOLENCE', 'SEXUAL']]\n",
      "['똑같이 산채로 밑에 부터조금씩잘라가면서 고통주고죽여라', ['HATE', 'CENSURE', 'VIOLENCE', 'SEXUAL']]\n",
      "['유기견 찾아 간 다음 xx시켜서 샛기 배면 같이 돌보셈 ㅋㅋ', ['CENSURE', 'VIOLENCE', 'SEXUAL']]\n",
      "['너 따 먹는 상상했어', ['VIOLENCE', 'CRIME', 'SEXUAL']]\n",
      "['하여튼 그런 범죄자들은 핑킹 가위로 잘라버려야해', ['VIOLENCE', 'SEXUAL']]\n",
      "['이 게임 캐릭터 죽는 소리 신음 소리 같아서 꼴림', ['VIOLENCE', 'SEXUAL']]\n",
      "['그럼 여자들 때리면 이 캐릭터 같은 소리 나오겠네?', ['VIOLENCE', 'CRIME', 'SEXUAL']]\n",
      "['튀기는 무슨 죄다 따 먹어야지.', ['HATE', 'CENSURE', 'VIOLENCE', 'SEXUAL', 'DISCRIMINATION']]\n",
      "['정신 들게 거길 찢어버려라.', ['VIOLENCE', 'SEXUAL']]\n",
      "['조옷을 물어뜯어 잘근잘근 씹어서 쓰레기통에 버리면 될걸', ['HATE', 'CENSURE', 'VIOLENCE', 'CRIME', 'SEXUAL']]\n",
      "['아니 페미 구별이 안되니까 싸그리 죽여버리면 편하잖아', ['CRIME', 'DISCRIMINATION', 'SEXUAL', 'VIOLENCE']]\n",
      "['떡 한 번 치자고 해볼까? ㅋㅋ', ['VIOLENCE', 'SEXUAL', 'DISCRIMINATION', 'HATE', 'CENSURE']]\n",
      "['내가 먼저 따먹을 거야 ㅋㅋ', ['SEXUAL', 'DISCRIMINATION', 'HATE', 'CENSURE', 'VIOLENCE']]\n",
      "['동네 발정난 성범죄자처럼 거칠게 따먹어주고 싶은데?', ['VIOLENCE', 'CRIME', 'SEXUAL']]\n",
      "['죽을만한 짓 해서 죽은 자연사인데 뭘 안타까워하는지.', ['SEXUAL', 'CENSURE', 'VIOLENCE']]\n",
      "['트럭기사는 무슨 죄인지.', ['CENSURE', 'VIOLENCE', 'SEXUAL']]\n",
      "['다리 보이면 따먹고 싶은 건 당연하잖아', ['VIOLENCE', 'SEXUAL', 'CENSURE']]\n",
      "['기쁨조 섭외해서 기쁨줄 때 칼로 배때지 쑤시는 게 빠르긴 할 듯', ['VIOLENCE', 'SEXUAL']]\n",
      "['제일 좋은건 그거 할때 더 빨리 멘몸 볼 수 있음...', ['VIOLENCE', 'CRIME', 'SEXUAL']]\n",
      "['아 근데 겁나 돼지충들이 그러면 걍 역겹던데', ['CENSURE', 'VIOLENCE', 'CRIME', 'SEXUAL']]\n",
      "['다들 벗어 그냥 어차피 벗는다고 뭐 볼 것 도 없으면서 ㅋㅋ', ['VIOLENCE', 'CRIME', 'SEXUAL', 'CENSURE']]\n",
      "['머리 잡고 뒤에서 쳐박고 싶게 만드네', ['VIOLENCE', 'SEXUAL']]\n",
      "['거기 피부를 1센치씩 벗기는 것도 좋을듯', ['VIOLENCE', 'SEXUAL']]\n",
      "['시아버지 마음이 이해가 가던데 ㅋㅋㅋ', ['SEXUAL', 'CENSURE', 'VIOLENCE', 'CRIME']]\n",
      "['여자 소중이에 햄스터 넣으면 어떻게 됨?', ['VIOLENCE', 'CRIME', 'SEXUAL']]\n",
      "['당장 납치해서 묶어놓고 실컷 박고싶다', ['VIOLENCE', 'CRIME', 'SEXUAL']]\n",
      "['쟤는 내 육변기로 찜했으니까 건드릴 생각하지마', ['DISCRIMINATION', 'HATE', 'CENSURE', 'VIOLENCE', 'SEXUAL']]\n",
      "['너네 엄마 조금씩 라이터로 구워버리고 싶다. 은근 M 체질이여서 좋아 하실지도?', ['ABUSE', 'SEXUAL', 'VIOLENCE']]\n",
      "['남돌들 업소나 그런 곳 클럽 룸 개 많이 가잖아 연예인 병 걸려서 아 진짜요? 동태 눈까리이나 하고 ㅜㅜ 진짜 그럴 때 사지 절단하고 싶어', ['VIOLENCE', 'SEXUAL']]\n",
      "['거기서 꼬치털 라이터로 지져서 왁싱 하던데 요즘 남자애들은 왁싱 그렇게 해야 함 꼬치도 작아서 안 아플 거 같아!! ㅎㅎ', ['HATE', 'CENSURE', 'VIOLENCE', 'SEXUAL']]\n",
      "['아내한테 잡혀사는 새77ㅣ들은 그냥 쥬지뗐으면 좋겠다.', ['CENSURE', 'VIOLENCE', 'SEXUAL']]\n",
      "['니 딸 내가 꼭 납치해서 아동포르노 찍어 줄게 기다리고 있어.', ['VIOLENCE', 'CRIME', 'SEXUAL']]\n",
      "['탈레반 수입해서 메갈들 다 먹이고 싶다.', ['HATE', 'CENSURE', 'VIOLENCE', 'SEXUAL']]\n",
      "['요도에 우산 넣고 펴버리고싶네', ['VIOLENCE', 'SEXUAL']]\n",
      "['또 실수하면 뿌랄 찢어버린다했지??', ['SEXUAL', 'VIOLENCE', 'CENSURE']]\n",
      "['국산 버지 살처분하고 외국버지 수입하자', ['SEXUAL', 'ABUSE', 'DISCRIMINATION', 'HATE', 'CENSURE', 'VIOLENCE']]\n",
      "['순박한 시골처녀가 불량배 놈들한테 돌림빵 당하는 기분일 듯', ['VIOLENCE', 'CRIME', 'SEXUAL']]\n",
      "['난 취향이 좀 하드해서 묶어 놓고 봊나 패는 야동 아니면 안 꼴려', ['VIOLENCE', 'ABUSE', 'SEXUAL']]\n",
      "['그니까 가랭이 도끼로 찍어버릴까', ['CENSURE', 'VIOLENCE', 'CRIME', 'SEXUAL']]\n",
      "['그냥 둬, 그런 애들은 지 잘난 맛에 살다 한 번 ㄱㄱ 당하면 정신 차림.', ['CENSURE', 'VIOLENCE', 'CRIME', 'SEXUAL', 'DISCRIMINATION', 'HATE']]\n",
      "['얘 판결한 판사 지도 똑같이 당해 보라고 해라 ㅋㅋ 그래도 선처해 주겠지 뭐', ['CENSURE', 'VIOLENCE', 'CRIME', 'SEXUAL', 'ABUSE']]\n",
      "['발랄이라는 단어를 저런 줮같은 애샛기들한테 쓰냐? 찐 발랄은 다 벗은 쫨지들이 춤출 때 쓰는 거임', ['VIOLENCE', 'SEXUAL', 'ABUSE', 'HATE', 'CENSURE']]\n",
      "['민노총은 사회 악이야 정말 삼청교육대가 부활해서 이런 민노청 10년 삼청교육대에서 일을 했으면 좋겠다', ['HATE', 'CENSURE', 'VIOLENCE', 'SEXUAL']]\n",
      "['일단 넣고 익숙해지게 하면 찢어지지 않고 따라서 자궁이 벌어져 ㅋㅋ', ['VIOLENCE', 'CRIME', 'SEXUAL']]\n",
      "['다른 남자 질내 사정 받은 여자들을 내가 왜 배려해야 하는지 모르겠음', ['VIOLENCE', 'SEXUAL']]\n",
      "['내 말이 잼민 유충 낳는 게 뭐 자랑이라고', ['CENSURE', 'VIOLENCE', 'SEXUAL']]\n",
      "['중국에서 죽거나 캐나다서 고자될 바에야 미국가서 동고 개통당해서 제2의 인생 찾는 게 나을 듯', ['SEXUAL', 'VIOLENCE']]\n",
      "['한남들은 경범죄만 저질러도 똥꼬에 수류탄 넣고 안전핀 뽑아 죽어야 함.', ['CENSURE', 'HATE', 'DISCRIMINATION', 'SEXUAL', 'VIOLENCE']]\n",
      "['성추행 당해도 조기교육이라고 생각하면 되지', ['CRIME', 'SEXUAL', 'VIOLENCE']]\n",
      "['지상파는 개뷰지 작가년들이랑 틀딱 간부들 다 죽여야 함 ㅋㅋ', ['HATE', 'SEXUAL', 'VIOLENCE']]\n",
      "['그래 씌볼 졷 똘츄 색기야 신고해라 머가리 뽑아 버릴테니', ['VIOLENCE', 'ABUSE', 'SEXUAL']]\n",
      "['그런애들 억지로 해서 쥬지맛을 알게 해주면 정신머리 고쳐질텐데 ㄹㅇ', ['VIOLENCE', 'CRIME', 'SEXUAL']]\n",
      "['보짓구녕에 빠루좀 쑤셔줘야 아 내가 이렇게 입고다니면 안되겠구나 하지', ['VIOLENCE', 'SEXUAL', 'CRIME']]\n",
      "['얼굴 믿고 꽃뱀질하는 애들은 임신시켜서 혼내줘야해ㅋㅋㅋ', ['SEXUAL', 'VIOLENCE']]\n",
      "['근데 거기 앉으면 질내사정 인증하는 거 아니냐ㅋㅋ', ['SEXUAL', 'VIOLENCE']]\n",
      "['? 팔자 좋네; 진짜 그런 애들은 생식기 잘라야 한다', ['CENSURE', 'SEXUAL', 'ABUSE', 'VIOLENCE', 'HATE']]\n",
      "['미자련들 그냥 어릴때부터 정신 개조해서 바로 성 노리게 만들고 싶노', ['VIOLENCE', 'CRIME', 'SEXUAL']]\n",
      "['가까이 가서 여자면 가슴 만지고 튀어야겠다 ㅋㅋ', ['VIOLENCE', 'CRIME', 'SEXUAL']]\n",
      "['작아서 보이지도 않는 소추 잘라버려야지', ['SEXUAL', 'VIOLENCE']]\n",
      "['보전깨 해버리기 전에', ['VIOLENCE', 'SEXUAL']]\n",
      "['나같아도 정떨어져서 거기 짤라버릴듯', ['CENSURE', 'VIOLENCE', 'SEXUAL']]\n",
      "['좁빵망이로 대굴빡 쳐맞아봐야 정신차리지', ['ABUSE', 'VIOLENCE', 'SEXUAL']]\n",
      "['저딴 인간 쓰레기는 혀를 뽑아서 똥꼬에 쑤셔넣어 줘야 정신 차릴 듯 ㅋㅋ', ['SEXUAL', 'CENSURE', 'HATE', 'VIOLENCE']]\n",
      "['솔까 나 쟤 한 번 먹고 싶다 ㅋㅋㅋ', ['CENSURE', 'VIOLENCE', 'CRIME', 'SEXUAL']]\n",
      "['야 맛있는 건 나에게 먼저 양보해야지!ㅋㅋㅋ', ['CENSURE', 'VIOLENCE', 'CRIME', 'SEXUAL']]\n",
      "['나는 너 목줄채워서 채찍으로 갈기면서 뒷치기 하고 싶음', ['SEXUAL', 'VIOLENCE']]\n",
      "['아주 그냥 다 거세 시켜버려야 한다니까', ['CENSURE', 'VIOLENCE', 'SEXUAL']]\n",
      "['여자들 그런 거 좋아한다고 ㅎㅎㅎ 마 브라 벗으라! 한번 해줘~', ['DISCRIMINATION', 'HATE', 'VIOLENCE', 'SEXUAL']]\n",
      "['너네 부모님 불교라고 했었나? 목탁 뒷쪽에 넣어주시면 좋아하실려나?', ['SEXUAL', 'VIOLENCE']]\n",
      "['딥 페이크 기술로 연예인 얼굴 합성한 포르노 진짜 꼴리더라', ['VIOLENCE', 'CRIME', 'SEXUAL']]\n",
      "['저번에 여자 아이돌 얼굴 합성한 포르노 봤음 역시 싸구려 여자 외모라 잘 어울리더라', ['VIOLENCE', 'CRIME', 'SEXUAL']]\n",
      "['저렇게 못돼처먹은 애는 패서 죽여놔도 무죄임.', ['DISCRIMINATION', 'HATE', 'CENSURE', 'VIOLENCE', 'SEXUAL']]\n",
      "['학폭은 사람이 아니고 벌레다 사형시켜야한다', ['VIOLENCE', 'SEXUAL', 'DISCRIMINATION', 'HATE']]\n",
      "['아 그냥 강제로 해서 임신시켜버릴까?', ['VIOLENCE', 'CRIME', 'SEXUAL']]\n",
      "['그냥 스폰서한테 돌리는 용으로 써먹어야겠네', ['DISCRIMINATION', 'CENSURE', 'VIOLENCE', 'SEXUAL']]\n",
      "['그래도 술맛 떨어진다ㅋㅋ 이쁜이 있으면 꽐라 만들어서 한판 할랬는데 망했노', ['HATE', 'VIOLENCE', 'SEXUAL', 'CRIME']]\n",
      "['저 짤 보니까 보전깨 마렵네.', ['HATE', 'CENSURE', 'VIOLENCE', 'CRIME', 'SEXUAL', 'ABUSE', 'DISCRIMINATION']]\n",
      "['엉덩이에 채찍질 해주면 좋아할 듯', ['SEXUAL', 'VIOLENCE']]\n",
      "['혼자 사는 독신남자가 고아 여자아이 입양해서 노예로 써도 됨?', ['VIOLENCE', 'CRIME', 'SEXUAL']]\n",
      "['엉덩이 앞으로 튀어나올때까지 후려치고 싶네', ['SEXUAL', 'VIOLENCE']]\n",
      "['보전깨 마렵기가 삼일도 너무 기노?', ['CENSURE', 'VIOLENCE', 'CRIME', 'SEXUAL', 'ABUSE', 'DISCRIMINATION', 'HATE']]\n",
      "['성기에 채찍질해주면 통통하게 부어서 더 예뻐질텐데', ['VIOLENCE', 'SEXUAL']]\n",
      "['눕혀 놓고 진짜 따먹고 싶더라.', ['SEXUAL', 'VIOLENCE', 'CRIME']]\n",
      "['근데, 성범죄자 년은 어떻게 하냐? 그런 년들은 어딜 자르지?', ['CENSURE', 'SEXUAL', 'VIOLENCE']]\n",
      "['내가 사진기사였으면 강제로 덮치고도 남았지ㅋㅋㅋ', ['VIOLENCE', 'SEXUAL']]\n",
      "['너만 먹냐 나도 한 입 하게 빌려줘라', ['SEXUAL', 'VIOLENCE']]\n",
      "['소추한남 죽여버리고 싶어', ['SEXUAL', 'VIOLENCE']]\n",
      "['사회에서 도태되는 자들은 죽어도 된다', ['VIOLENCE', 'SEXUAL', 'DISCRIMINATION', 'CENSURE']]\n",
      "['문재인 사형가니까 제발 자살하지말거라', ['HATE', 'CENSURE', 'VIOLENCE', 'SEXUAL']]\n",
      "['진짜 빈유들이 가슴수술하고 자신감 가지는거 머가리 부숴버리고 싶다.', ['SEXUAL', 'VIOLENCE']]\n",
      "['중국같이 말안들으면 총살시켜라.', ['HATE', 'VIOLENCE', 'SEXUAL', 'DISCRIMINATION']]\n",
      "['그런 고자색기들 죧을 짤라서 똥꼬에 처박아야되는데', ['ABUSE', 'SEXUAL', 'VIOLENCE', 'CENSURE']]\n",
      "['나 치마 입은 여자들 몰카 찍는 재미에 인생 사는 중', ['VIOLENCE', 'CRIME', 'SEXUAL']]\n",
      "['걸리면 입 틀어막고 성범죄한 담에 죽일 거임 ㅋㅋ 어차피 솜방망이 처벌이쥬?', ['VIOLENCE', 'CRIME', 'SEXUAL']]\n",
      "['캬~ 시의원 아빠 사무실에서 미성년자 성추행이라니 아주 재미지게 놀았구나.', ['CRIME', 'SEXUAL', 'CENSURE', 'VIOLENCE']]\n",
      "['개련아 너같은건 죽어야돼 졷같은련 박아줘?', ['SEXUAL', 'VIOLENCE']]\n",
      "['줮까 내가 니랑 같이 나가면 닌 바로 머가리에 칼빵이다 시앙년아 니년은 봊이들처럼 살구놀이 잘할듯', ['SEXUAL', 'HATE', 'CENSURE', 'VIOLENCE', 'ABUSE']]\n",
      "['부모가 쓰레기니 요놈들도 쓰례기군. 양쪽 손목아지 절단해주세요', ['VIOLENCE', 'SEXUAL']]\n",
      "['힘줄 잘라서 앉은뱅이를 만들어버려야함', ['VIOLENCE', 'SEXUAL']]\n",
      "['초대남도 좋네요 단체 강/간가자 씹련 오늘 뷰지 개 뚫어줘야 겠다', ['VIOLENCE', 'SEXUAL']]\n",
      "['안에 싸고 갈갈이 찢어놔야 함', ['HATE', 'VIOLENCE', 'SEXUAL']]\n",
      "['똥꼬값 100만원 내미는 자식 내가 대신 찢어 죽이고 싶다', ['SEXUAL', 'CENSURE', 'VIOLENCE']]\n",
      "['그정도 레벨이면 나도 당하고 싶다', ['VIOLENCE', 'CRIME', 'SEXUAL']]\n",
      "['솔직히 배우힌테 폭행 당하면 감사해야지ㅋㅋㅋ', ['VIOLENCE', 'CRIME', 'SEXUAL']]\n",
      "['내 여자친구는 욕하거나 때리면 더 흥분하더라', ['CENSURE', 'SEXUAL', 'VIOLENCE']]\n",
      "['하면서 엉덩이 때릴 때가 가장 짜릿하지', ['VIOLENCE', 'SEXUAL']]\n",
      "['나도 더 흥분해서 가끔 너무 세게 때릴 때가 있어서 걱정이다', ['SEXUAL', 'VIOLENCE', 'CENSURE']]\n",
      "['스카에 히잡쓴 이슬람녀 있는데 따먹으면 내 와이프 됨?', ['CRIME', 'VIOLENCE', 'SEXUAL']]\n",
      "['내 여친이 콘돔 없이 관계하기 싫대', ['VIOLENCE', 'SEXUAL', 'CENSURE']]\n",
      "['남자 비위도 못 맞추는 여자는 삼 일에 한 번 패야 말을 듣지', ['CENSURE', 'VIOLENCE', 'SEXUAL']]\n",
      "['남성을 걷어차 주지 그랬냐', ['VIOLENCE', 'SEXUAL']]\n",
      "['생각이 없으면 생각이 생기게 분쟁지역에 보내서 병사들 육변기로 복역시켜야 함.', ['VIOLENCE', 'CRIME', 'SEXUAL', 'HATE']]\n",
      "['쟨 나오지 말고 그냥 벗기만 하면 되는데', ['SEXUAL', 'DISCRIMINATION', 'CENSURE', 'VIOLENCE']]\n",
      "['근데 저런 절벽을 누가 봐주기나 할까?', ['DISCRIMINATION', 'CENSURE', 'VIOLENCE', 'SEXUAL']]\n",
      "['보빨 받다가 대소음순 절단 가즈아', ['VIOLENCE', 'SEXUAL', 'CRIME']]\n",
      "['그런 사람들은 거기를 잘라버려야 돼.', ['HATE', 'CENSURE', 'VIOLENCE', 'SEXUAL']]\n",
      "['부러워서 그런가 본데 네 거 잘라서 내 거에 붙여줄까?', ['VIOLENCE', 'SEXUAL']]\n",
      "['메갈들 한번만 더 나불대면 보댕이를 찢어버려주겠어', ['VIOLENCE', 'SEXUAL', 'ABUSE', 'DISCRIMINATION', 'HATE', 'CENSURE']]\n",
      "['뒤에서 잡아다가 그대로 쑤시고 싶었음.', ['SEXUAL', 'VIOLENCE', 'CRIME']]\n",
      "['면상 갈아버리기 전에 조용히 내 꺼나 빨아', ['CENSURE', 'VIOLENCE', 'SEXUAL', 'ABUSE', 'HATE']]\n",
      "['난 그쪽 취향 아니야. 수녀복 입히고 강제플하는게 로망임', ['VIOLENCE', 'CRIME', 'SEXUAL']]\n",
      "['판사 놈도 지 딸 똑같이 성폭력 당하고, 지도 엉덩이 뚤려야함.', ['SEXUAL', 'CENSURE', 'VIOLENCE', 'CRIME']]\n",
      "['이런 애가 모쏠이면 내가 금구슬 양쪽 가위로 자른다ㅋㅋ', ['SEXUAL', 'VIOLENCE']]\n",
      "['그럼 니 아랫도리는 내가 잘라줄게', ['VIOLENCE', 'SEXUAL']]\n",
      "['너네 엄마 전복에다가 소 코걸이 마냥 피어싱 박고 질질 끌고 다니고싶다', ['VIOLENCE', 'CRIME', 'SEXUAL']]\n",
      "['그치ㅋㅋ 특히 여고생은 교복팟이 젤 박고싶더라', ['SEXUAL', 'VIOLENCE', 'CENSURE']]\n",
      "['그 연예인 진짜 섹시했는데 죽어서 안타깝다', ['SEXUAL', 'DISCRIMINATION', 'CENSURE', 'VIOLENCE']]\n",
      "['빨리 시체 주워서 박아야하는데', ['CENSURE', 'VIOLENCE', 'CRIME', 'SEXUAL']]\n",
      "['같이 주우러 다닐까?ㅋㅋㅋ', ['CENSURE', 'VIOLENCE', 'CRIME', 'SEXUAL']]\n",
      "['번식 외에 여자는 그냥 육변기로 존재할 뿐임', ['DISCRIMINATION', 'HATE', 'CENSURE', 'VIOLENCE', 'SEXUAL']]\n",
      "['예쁜 애들은 집에 데려가서 알이랑 자궁 뜯어내고 키움.', ['VIOLENCE', 'SEXUAL']]\n",
      "['따먹을 만한 여고생들 없냐?', ['SEXUAL', 'CRIME', 'VIOLENCE']]\n",
      "['있지, 교복 입고 보건증 써달라고 조르면 은근 흥분된다니까ㅋㅋㅋ', ['VIOLENCE', 'SEXUAL']]\n",
      "['오나홀로 쓰면 딱이겠네ㅋㅋㅋ', ['CENSURE', 'SEXUAL', 'VIOLENCE']]\n",
      "['형수 봉지를 찢어죽여버린다는데 강제 입원 쯤이야…', ['CENSURE', 'VIOLENCE', 'SEXUAL']]\n",
      "['담배빵보다 돌림빵 추천', ['VIOLENCE', 'CRIME', 'SEXUAL']]\n",
      "['하여튼 팔콘펀치 먹여야 함.', ['DISCRIMINATION', 'HATE', 'CENSURE', 'VIOLENCE', 'SEXUAL']]\n",
      "['몸매 개쩌는 게 먹버하고 싶네', ['VIOLENCE', 'SEXUAL']]\n",
      "['기왕 따 먹을 거 나랑 돌려 먹자 ㅋㅋ', ['CRIME', 'SEXUAL', 'VIOLENCE']]\n",
      "['몸캠으로 협박하면 재밌을 거 같음', ['VIOLENCE', 'CRIME', 'SEXUAL']]\n",
      "['무슨 기분이기는 내가 죽으면 더블킬 이겠구나~ 하겠지', ['SEXUAL', 'CENSURE', 'VIOLENCE']]\n",
      "['아 피분수 뿜으면서 부들거리는 거구나ㅋㅋㅋ', ['DISCRIMINATION', 'HATE', 'CENSURE', 'VIOLENCE', 'SEXUAL']]\n",
      "['앙앙 울어주면 더 좋고^^', ['CRIME', 'SEXUAL', 'VIOLENCE']]\n",
      "['혀 자르면 됨 ㅎㅎ', ['SEXUAL', 'VIOLENCE']]\n",
      "['스시 여고생 흰면팬티가 더 꼴릴걸?', ['DISCRIMINATION', 'VIOLENCE', 'SEXUAL']]\n",
      "['저런 쿰내나는 걸래들은 빨아줘야 제맛인데', ['SEXUAL', 'VIOLENCE', 'CRIME']]\n",
      "['헐 그렇게 쉽게 뒤질 거면 팬티 보여주고 죽지', ['CRIME', 'SEXUAL', 'VIOLENCE']]\n",
      "['그럼 목격한 사람들 개꿀이었을 듯', ['CRIME', 'SEXUAL', 'VIOLENCE']]\n",
      "['입을 꿰매서 그냥 ㅅㅅ토이로 만들어 버릴까 보다', ['SEXUAL', 'VIOLENCE']]\n",
      "['개 소리 지꺼리지말고 따라가', ['CENSURE', 'SEXUAL', 'VIOLENCE']]\n",
      "['그래서 여자는 무조건 강제로 먹어야 한다는 생각이 생겼지.', ['VIOLENCE', 'CRIME', 'SEXUAL']]\n",
      "['저건 ㄹㅇ 지옥가서도 천년만년 자랑거리 아님?', ['SEXUAL', 'CENSURE', 'VIOLENCE', 'CRIME']]\n",
      "['씨@발 내일 애 미 교통사고로 대 가리 찢겨 뒤져라', ['CRIME', 'SEXUAL', 'ABUSE', 'HATE', 'CENSURE', 'VIOLENCE']]\n",
      "['쟤는 그냥 기둥 때어버려야지', ['VIOLENCE', 'SEXUAL', 'CENSURE']]\n",
      "['너는 근데 어차피 작잖아 ㅋㅋㅋ', ['CENSURE', 'VIOLENCE', 'SEXUAL']]\n",
      "['조심해라 너부터 먹으러 간다', ['SEXUAL', 'VIOLENCE', 'CRIME']]\n",
      "['니 척추도 접자', ['VIOLENCE', 'SEXUAL']]\n",
      "['남자면 그냥 갈 길 가고, 여자면 따 먹어야지 ㅋㅋ', ['VIOLENCE', 'CRIME', 'SEXUAL']]\n",
      "['야, 와꾸부터 확인해야지 개빻은 외모면 따 먹을 맛도 안 나', ['VIOLENCE', 'CRIME', 'SEXUAL']]\n"
     ]
    }
   ],
   "source": [
    "for i in res:\n",
    "    if \"VIOLENCE\" in i[1] and \"SEXUAL\" in i[1]:\n",
    "        print(i)"
   ]
  },
  {
   "cell_type": "code",
   "execution_count": 108,
   "id": "6620b85e",
   "metadata": {},
   "outputs": [
    {
     "data": {
      "text/plain": [
       "[['형광색 바지 입는 급식들 왜 이렇게 많아?', ['IMMORAL_NONE']],\n",
       " ['ㅈ같은 유행 돌았나보네ㅋㅋ', ['ABUSE']],\n",
       " ['형광 바지 입고 모여있는 급식무리 잡아서 패죽여야 하는데', ['VIOLENCE']],\n",
       " ['자기 몸 긍정 운동가들이라고 하면서 꼴값 떠는 한녀들을 죽여 버리고 싶다.', ['HATE', 'VIOLENCE']],\n",
       " ['자기 몸을 긍정하는 건 오히려 바람직한 거 아니야?', ['IMMORAL_NONE']],\n",
       " ['뚱뚱하다고 자기 몸을 혐오하는 건 바람직하지 않잖아.', ['IMMORAL_NONE']],\n",
       " ['근데 자기 몸을 긍정한다고 뚱뚱한 걸 방치하는 경우도 있잖아.', ['IMMORAL_NONE']],\n",
       " ['뚱뚱한 걸 방치하는 건 자기 건강을 해치는 행위지.', ['IMMORAL_NONE']],\n",
       " ['난 아침에는 항상 시리얼을 먹어', ['IMMORAL_NONE']],\n",
       " ['그딴 과자부스러기를 왜먹어?', ['CENSURE']]]"
      ]
     },
     "execution_count": 108,
     "metadata": {},
     "output_type": "execute_result"
    }
   ],
   "source": [
    "res[:10]"
   ]
  },
  {
   "cell_type": "code",
   "execution_count": 109,
   "id": "20016099",
   "metadata": {},
   "outputs": [],
   "source": [
    "# 새로운 전처리\n",
    "res2 = []\n",
    "for x in res:\n",
    "    # 1. SEXUAL 표현만 있는 문장 3 라벨링\n",
    "    if \"SEXUAL\" in x[1] and len(x[1]) == 1:\n",
    "        x[1] = 3\n",
    "        res2.append(x)\n",
    "    # 2. ABUSE 표현만 있는 문장만 1 라벨링\n",
    "    elif \"ABUSE\" in x[1] and len(x[1]) == 1:\n",
    "        x[1] = 1\n",
    "        res2.append(x)\n",
    "    # 3. VIOLENCE 표현만 있는 문장만 2 라벨링\n",
    "    elif \"VIOLENCE\" in x[1] and len(x[1]) == 1:\n",
    "        x[1] = 2\n",
    "        res2.append(x)\n",
    "    elif \"HATE\" in x[1] and len(x[1]) == 1:\n",
    "        x[1] = 2\n",
    "        res2.append(x)\n",
    "    elif \"IMMORAL_NONE\" in x[1]:\n",
    "        x[1] = 0\n",
    "        res2.append(x)\n",
    "\n",
    "\n",
    "# for x in res:\n",
    "#     if \"SEXUAL\" in x[1] :\n",
    "#         x[1] = 3\n",
    "#     elif \"ABUSE\" in x[1]:\n",
    "#         x[1] = 1\n",
    "#     elif \"IMMORAL_NONE\" in x[1]:\n",
    "#         x[1] = 0\n",
    "#     else:\n",
    "#         x[1] = 2"
   ]
  },
  {
   "cell_type": "code",
   "execution_count": 110,
   "id": "16f7bd87",
   "metadata": {},
   "outputs": [
    {
     "data": {
      "text/plain": [
       "(1727, 807, 2678, 38686)"
      ]
     },
     "execution_count": 110,
     "metadata": {},
     "output_type": "execute_result"
    }
   ],
   "source": [
    "s = 0\n",
    "a = 0\n",
    "v = 0\n",
    "m = 0\n",
    "\n",
    "for i in res2:\n",
    "    if i[1] == 0:\n",
    "        m += 1\n",
    "    if i[1] == 1:\n",
    "        a += 1\n",
    "    if i[1] == 2:\n",
    "        v += 1\n",
    "    if i[1] == 3:\n",
    "        s += 1\n",
    "\n",
    "s,a,v,m"
   ]
  },
  {
   "cell_type": "code",
   "execution_count": null,
   "id": "6ca58b21",
   "metadata": {},
   "outputs": [],
   "source": []
  },
  {
   "cell_type": "markdown",
   "id": "ba6c334c",
   "metadata": {},
   "source": [
    "## List to CSV"
   ]
  },
  {
   "cell_type": "code",
   "execution_count": 111,
   "id": "d977d236",
   "metadata": {},
   "outputs": [],
   "source": [
    "df = pd.DataFrame(res2)"
   ]
  },
  {
   "cell_type": "code",
   "execution_count": 112,
   "id": "71a14fc5",
   "metadata": {},
   "outputs": [
    {
     "data": {
      "text/html": [
       "<div>\n",
       "<style scoped>\n",
       "    .dataframe tbody tr th:only-of-type {\n",
       "        vertical-align: middle;\n",
       "    }\n",
       "\n",
       "    .dataframe tbody tr th {\n",
       "        vertical-align: top;\n",
       "    }\n",
       "\n",
       "    .dataframe thead th {\n",
       "        text-align: right;\n",
       "    }\n",
       "</style>\n",
       "<table border=\"1\" class=\"dataframe\">\n",
       "  <thead>\n",
       "    <tr style=\"text-align: right;\">\n",
       "      <th></th>\n",
       "      <th>0</th>\n",
       "      <th>1</th>\n",
       "    </tr>\n",
       "  </thead>\n",
       "  <tbody>\n",
       "    <tr>\n",
       "      <th>0</th>\n",
       "      <td>형광색 바지 입는 급식들 왜 이렇게 많아?</td>\n",
       "      <td>0</td>\n",
       "    </tr>\n",
       "    <tr>\n",
       "      <th>1</th>\n",
       "      <td>ㅈ같은 유행 돌았나보네ㅋㅋ</td>\n",
       "      <td>1</td>\n",
       "    </tr>\n",
       "    <tr>\n",
       "      <th>2</th>\n",
       "      <td>형광 바지 입고 모여있는 급식무리 잡아서 패죽여야 하는데</td>\n",
       "      <td>2</td>\n",
       "    </tr>\n",
       "    <tr>\n",
       "      <th>3</th>\n",
       "      <td>자기 몸을 긍정하는 건 오히려 바람직한 거 아니야?</td>\n",
       "      <td>0</td>\n",
       "    </tr>\n",
       "    <tr>\n",
       "      <th>4</th>\n",
       "      <td>뚱뚱하다고 자기 몸을 혐오하는 건 바람직하지 않잖아.</td>\n",
       "      <td>0</td>\n",
       "    </tr>\n",
       "  </tbody>\n",
       "</table>\n",
       "</div>"
      ],
      "text/plain": [
       "                                 0  1\n",
       "0          형광색 바지 입는 급식들 왜 이렇게 많아?  0\n",
       "1                   ㅈ같은 유행 돌았나보네ㅋㅋ  1\n",
       "2  형광 바지 입고 모여있는 급식무리 잡아서 패죽여야 하는데  2\n",
       "3     자기 몸을 긍정하는 건 오히려 바람직한 거 아니야?  0\n",
       "4    뚱뚱하다고 자기 몸을 혐오하는 건 바람직하지 않잖아.  0"
      ]
     },
     "execution_count": 112,
     "metadata": {},
     "output_type": "execute_result"
    }
   ],
   "source": [
    "df.head()"
   ]
  },
  {
   "cell_type": "code",
   "execution_count": 113,
   "id": "efcf1b47",
   "metadata": {},
   "outputs": [],
   "source": [
    "df.to_csv(\"new_preprocess_5.csv\", encoding=\"utf-8-sig\")"
   ]
  },
  {
   "cell_type": "code",
   "execution_count": null,
   "id": "a46593fe",
   "metadata": {},
   "outputs": [],
   "source": []
  }
 ],
 "metadata": {
  "kernelspec": {
   "display_name": "Python 3 (ipykernel)",
   "language": "python",
   "name": "python3"
  },
  "language_info": {
   "codemirror_mode": {
    "name": "ipython",
    "version": 3
   },
   "file_extension": ".py",
   "mimetype": "text/x-python",
   "name": "python",
   "nbconvert_exporter": "python",
   "pygments_lexer": "ipython3",
   "version": "3.9.16"
  }
 },
 "nbformat": 4,
 "nbformat_minor": 5
}
