{
 "cells": [
  {
   "cell_type": "markdown",
   "id": "024483d6",
   "metadata": {},
   "source": [
    "## Json Load"
   ]
  },
  {
   "cell_type": "code",
   "execution_count": 3,
   "id": "f1bf89ac",
   "metadata": {},
   "outputs": [],
   "source": [
    "import pandas as pd\n",
    "import json"
   ]
  },
  {
   "cell_type": "code",
   "execution_count": 8,
   "id": "f69a97fd",
   "metadata": {},
   "outputs": [],
   "source": [
    "with open(\"1.json\", \"r\", encoding=\"UTF-8\") as f:\n",
    "    data = json.load(f)"
   ]
  },
  {
   "cell_type": "markdown",
   "id": "c6c7c327",
   "metadata": {},
   "source": [
    "## Json to List"
   ]
  },
  {
   "cell_type": "code",
   "execution_count": 19,
   "id": "abd8f985",
   "metadata": {},
   "outputs": [],
   "source": [
    "res = []"
   ]
  },
  {
   "cell_type": "code",
   "execution_count": 20,
   "id": "9aaeef8d",
   "metadata": {},
   "outputs": [],
   "source": [
    "for frame in data:\n",
    "    for sentence in frame[\"sentences\"]:\n",
    "        if \"#\" not in sentence[\"origin_text\"]:\n",
    "            res.append([sentence[\"origin_text\"], sentence[\"types\"]])"
   ]
  },
  {
   "cell_type": "code",
   "execution_count": 21,
   "id": "a95668d5",
   "metadata": {},
   "outputs": [
    {
     "data": {
      "text/plain": [
       "66277"
      ]
     },
     "execution_count": 21,
     "metadata": {},
     "output_type": "execute_result"
    }
   ],
   "source": [
    "len(res)"
   ]
  },
  {
   "cell_type": "code",
   "execution_count": 22,
   "id": "6620b85e",
   "metadata": {},
   "outputs": [
    {
     "data": {
      "text/plain": [
       "[['부랴부랴 왔는데 아무도 안왔네. 시간개념들이 없네', ['CENSURE']],\n",
       " ['맞아. 사람들이 진짜 개념이없다', ['CENSURE']],\n",
       " ['저렇게는 살지 말아야지', ['CENSURE']],\n",
       " ['그러게 게으르고 멍청한 사람들은 맞아야해', ['CENSURE']],\n",
       " ['인방 보는 남자는 거르는게 맞다', ['CENSURE']],\n",
       " ['특히 벗방보는 애들은 진짜 거세 시켜야함', ['HATE', 'CENSURE', 'SEXUAL']],\n",
       " ['볼 게 없어서 벗방을 보냐 ㅋㅋㅋ', ['CENSURE', 'SEXUAL']],\n",
       " ['사회성이 얼마나 떨어지면 그러냐 ㅋㅋㅋ', ['CENSURE']],\n",
       " ['댓글에 빠순이들 몰려와서 즈그 주인님 쉴드치는 꼴 좀 봐', ['HATE', 'CENSURE']],\n",
       " ['이래서 인방충~ 인방충~ 하는거 구나', ['HATE', 'CENSURE']]]"
      ]
     },
     "execution_count": 22,
     "metadata": {},
     "output_type": "execute_result"
    }
   ],
   "source": [
    "res[:10]"
   ]
  },
  {
   "cell_type": "code",
   "execution_count": 25,
   "id": "20016099",
   "metadata": {},
   "outputs": [],
   "source": [
    "for x in res:\n",
    "    if \"SEXUAL\" in x[1]:\n",
    "        x[1] = 3\n",
    "    elif \"ABUSE\" in x[1]:\n",
    "        x[1] = 1\n",
    "    elif \"IMMORAL_NONE\" in x[1]:\n",
    "        x[1] = 0\n",
    "    else:\n",
    "        x[1] = 2"
   ]
  },
  {
   "cell_type": "code",
   "execution_count": 27,
   "id": "16f7bd87",
   "metadata": {},
   "outputs": [
    {
     "data": {
      "text/plain": [
       "[['부랴부랴 왔는데 아무도 안왔네. 시간개념들이 없네', 2],\n",
       " ['맞아. 사람들이 진짜 개념이없다', 2],\n",
       " ['저렇게는 살지 말아야지', 2],\n",
       " ['그러게 게으르고 멍청한 사람들은 맞아야해', 2],\n",
       " ['인방 보는 남자는 거르는게 맞다', 2],\n",
       " ['특히 벗방보는 애들은 진짜 거세 시켜야함', 3],\n",
       " ['볼 게 없어서 벗방을 보냐 ㅋㅋㅋ', 3],\n",
       " ['사회성이 얼마나 떨어지면 그러냐 ㅋㅋㅋ', 2],\n",
       " ['댓글에 빠순이들 몰려와서 즈그 주인님 쉴드치는 꼴 좀 봐', 2],\n",
       " ['이래서 인방충~ 인방충~ 하는거 구나', 2]]"
      ]
     },
     "execution_count": 27,
     "metadata": {},
     "output_type": "execute_result"
    }
   ],
   "source": [
    "res[:10]"
   ]
  },
  {
   "cell_type": "markdown",
   "id": "ba6c334c",
   "metadata": {},
   "source": [
    "## List to CSV"
   ]
  },
  {
   "cell_type": "code",
   "execution_count": 32,
   "id": "d977d236",
   "metadata": {},
   "outputs": [],
   "source": [
    "df = pd.DataFrame(res)"
   ]
  },
  {
   "cell_type": "code",
   "execution_count": 33,
   "id": "71a14fc5",
   "metadata": {},
   "outputs": [
    {
     "data": {
      "text/html": [
       "<div>\n",
       "<style scoped>\n",
       "    .dataframe tbody tr th:only-of-type {\n",
       "        vertical-align: middle;\n",
       "    }\n",
       "\n",
       "    .dataframe tbody tr th {\n",
       "        vertical-align: top;\n",
       "    }\n",
       "\n",
       "    .dataframe thead th {\n",
       "        text-align: right;\n",
       "    }\n",
       "</style>\n",
       "<table border=\"1\" class=\"dataframe\">\n",
       "  <thead>\n",
       "    <tr style=\"text-align: right;\">\n",
       "      <th></th>\n",
       "      <th>0</th>\n",
       "      <th>1</th>\n",
       "    </tr>\n",
       "  </thead>\n",
       "  <tbody>\n",
       "    <tr>\n",
       "      <th>0</th>\n",
       "      <td>부랴부랴 왔는데 아무도 안왔네. 시간개념들이 없네</td>\n",
       "      <td>2</td>\n",
       "    </tr>\n",
       "    <tr>\n",
       "      <th>1</th>\n",
       "      <td>맞아. 사람들이 진짜 개념이없다</td>\n",
       "      <td>2</td>\n",
       "    </tr>\n",
       "    <tr>\n",
       "      <th>2</th>\n",
       "      <td>저렇게는 살지 말아야지</td>\n",
       "      <td>2</td>\n",
       "    </tr>\n",
       "    <tr>\n",
       "      <th>3</th>\n",
       "      <td>그러게 게으르고 멍청한 사람들은 맞아야해</td>\n",
       "      <td>2</td>\n",
       "    </tr>\n",
       "    <tr>\n",
       "      <th>4</th>\n",
       "      <td>인방 보는 남자는 거르는게 맞다</td>\n",
       "      <td>2</td>\n",
       "    </tr>\n",
       "  </tbody>\n",
       "</table>\n",
       "</div>"
      ],
      "text/plain": [
       "                             0  1\n",
       "0  부랴부랴 왔는데 아무도 안왔네. 시간개념들이 없네  2\n",
       "1            맞아. 사람들이 진짜 개념이없다  2\n",
       "2                 저렇게는 살지 말아야지  2\n",
       "3       그러게 게으르고 멍청한 사람들은 맞아야해  2\n",
       "4            인방 보는 남자는 거르는게 맞다  2"
      ]
     },
     "execution_count": 33,
     "metadata": {},
     "output_type": "execute_result"
    }
   ],
   "source": [
    "df.head()"
   ]
  },
  {
   "cell_type": "code",
   "execution_count": 35,
   "id": "efcf1b47",
   "metadata": {},
   "outputs": [],
   "source": [
    "df.to_csv(\"sample_data.csv\", encoding=\"utf-8-sig\")"
   ]
  },
  {
   "cell_type": "code",
   "execution_count": null,
   "id": "a46593fe",
   "metadata": {},
   "outputs": [],
   "source": []
  }
 ],
 "metadata": {
  "kernelspec": {
   "display_name": "Python 3 (ipykernel)",
   "language": "python",
   "name": "python3"
  },
  "language_info": {
   "codemirror_mode": {
    "name": "ipython",
    "version": 3
   },
   "file_extension": ".py",
   "mimetype": "text/x-python",
   "name": "python",
   "nbconvert_exporter": "python",
   "pygments_lexer": "ipython3",
   "version": "3.9.12"
  }
 },
 "nbformat": 4,
 "nbformat_minor": 5
}
