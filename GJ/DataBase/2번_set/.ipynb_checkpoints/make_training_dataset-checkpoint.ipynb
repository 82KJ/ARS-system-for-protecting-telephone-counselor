{
 "cells": [
  {
   "cell_type": "code",
   "execution_count": 1,
   "id": "84431ad7",
   "metadata": {},
   "outputs": [],
   "source": [
    "import pandas as pd"
   ]
  },
  {
   "cell_type": "code",
   "execution_count": 2,
   "id": "35e08a10",
   "metadata": {},
   "outputs": [],
   "source": [
    "moral = pd.read_csv(\"2_moral.csv\")\n",
    "sexual = pd.read_csv(\"2_sexual.csv\")\n",
    "abuse = pd.read_csv(\"2_abusement.csv\")"
   ]
  },
  {
   "cell_type": "code",
   "execution_count": 18,
   "id": "ef3f791d",
   "metadata": {},
   "outputs": [],
   "source": [
    "dataset = pd.concat([moral[[\"0\",\"1\"]],sexual[[\"0\",\"1\"]],abuse[[\"0\",\"1\"]]])"
   ]
  },
  {
   "cell_type": "code",
   "execution_count": 19,
   "id": "fc7eaf49",
   "metadata": {},
   "outputs": [
    {
     "data": {
      "text/plain": [
       "10000"
      ]
     },
     "execution_count": 19,
     "metadata": {},
     "output_type": "execute_result"
    }
   ],
   "source": [
    "len(dataset)"
   ]
  },
  {
   "cell_type": "code",
   "execution_count": 20,
   "id": "e12cb7ff",
   "metadata": {},
   "outputs": [
    {
     "data": {
      "text/html": [
       "<div>\n",
       "<style scoped>\n",
       "    .dataframe tbody tr th:only-of-type {\n",
       "        vertical-align: middle;\n",
       "    }\n",
       "\n",
       "    .dataframe tbody tr th {\n",
       "        vertical-align: top;\n",
       "    }\n",
       "\n",
       "    .dataframe thead th {\n",
       "        text-align: right;\n",
       "    }\n",
       "</style>\n",
       "<table border=\"1\" class=\"dataframe\">\n",
       "  <thead>\n",
       "    <tr style=\"text-align: right;\">\n",
       "      <th></th>\n",
       "      <th>0</th>\n",
       "      <th>1</th>\n",
       "    </tr>\n",
       "  </thead>\n",
       "  <tbody>\n",
       "    <tr>\n",
       "      <th>0</th>\n",
       "      <td>90프로 접종률이면 천천히 시도해 볼만 하지 솔직히 이렇게 통제 잘 되는 그룹이 또...</td>\n",
       "      <td>0</td>\n",
       "    </tr>\n",
       "    <tr>\n",
       "      <th>1</th>\n",
       "      <td>국가 전체에서 90퍼 접종률 나오기는 쉽지 않음 여기서부터 차차 늘려가는 게 맞지</td>\n",
       "      <td>0</td>\n",
       "    </tr>\n",
       "    <tr>\n",
       "      <th>2</th>\n",
       "      <td>방역수칙 안 지킨 애들이 당연히 잘못 아님?</td>\n",
       "      <td>0</td>\n",
       "    </tr>\n",
       "    <tr>\n",
       "      <th>3</th>\n",
       "      <td>방송국 애들은 아무도 안 지키는데 무슨.</td>\n",
       "      <td>0</td>\n",
       "    </tr>\n",
       "    <tr>\n",
       "      <th>4</th>\n",
       "      <td>와 진짜 소방관 팔 빠지겠다</td>\n",
       "      <td>0</td>\n",
       "    </tr>\n",
       "  </tbody>\n",
       "</table>\n",
       "</div>"
      ],
      "text/plain": [
       "                                                   0  1\n",
       "0  90프로 접종률이면 천천히 시도해 볼만 하지 솔직히 이렇게 통제 잘 되는 그룹이 또...  0\n",
       "1      국가 전체에서 90퍼 접종률 나오기는 쉽지 않음 여기서부터 차차 늘려가는 게 맞지  0\n",
       "2                           방역수칙 안 지킨 애들이 당연히 잘못 아님?  0\n",
       "3                             방송국 애들은 아무도 안 지키는데 무슨.  0\n",
       "4                                    와 진짜 소방관 팔 빠지겠다  0"
      ]
     },
     "execution_count": 20,
     "metadata": {},
     "output_type": "execute_result"
    }
   ],
   "source": [
    "dataset.head()"
   ]
  },
  {
   "cell_type": "code",
   "execution_count": 23,
   "id": "e95fd1e6",
   "metadata": {},
   "outputs": [],
   "source": [
    "dataset = dataset.sample(frac=1).reset_index(drop=True)"
   ]
  },
  {
   "cell_type": "code",
   "execution_count": 24,
   "id": "0ff93753",
   "metadata": {},
   "outputs": [
    {
     "data": {
      "text/html": [
       "<div>\n",
       "<style scoped>\n",
       "    .dataframe tbody tr th:only-of-type {\n",
       "        vertical-align: middle;\n",
       "    }\n",
       "\n",
       "    .dataframe tbody tr th {\n",
       "        vertical-align: top;\n",
       "    }\n",
       "\n",
       "    .dataframe thead th {\n",
       "        text-align: right;\n",
       "    }\n",
       "</style>\n",
       "<table border=\"1\" class=\"dataframe\">\n",
       "  <thead>\n",
       "    <tr style=\"text-align: right;\">\n",
       "      <th></th>\n",
       "      <th>0</th>\n",
       "      <th>1</th>\n",
       "    </tr>\n",
       "  </thead>\n",
       "  <tbody>\n",
       "    <tr>\n",
       "      <th>0</th>\n",
       "      <td>딸을 치든 박든 니껀 니가 알아서 해.</td>\n",
       "      <td>2</td>\n",
       "    </tr>\n",
       "    <tr>\n",
       "      <th>1</th>\n",
       "      <td>보통 태닝하지 않아?</td>\n",
       "      <td>0</td>\n",
       "    </tr>\n",
       "    <tr>\n",
       "      <th>2</th>\n",
       "      <td>그 급식 찐따 정말 패고 싶네.</td>\n",
       "      <td>1</td>\n",
       "    </tr>\n",
       "    <tr>\n",
       "      <th>3</th>\n",
       "      <td>그럼 목표를 바디프로필 촬영으로 하자.</td>\n",
       "      <td>0</td>\n",
       "    </tr>\n",
       "    <tr>\n",
       "      <th>4</th>\n",
       "      <td>너같은 한입만충들은 다시는 말 못하게 입을 확 찢어버려야 해.</td>\n",
       "      <td>1</td>\n",
       "    </tr>\n",
       "    <tr>\n",
       "      <th>5</th>\n",
       "      <td>뭐래. 저러는 의미 대충 파악하지 않아?</td>\n",
       "      <td>0</td>\n",
       "    </tr>\n",
       "    <tr>\n",
       "      <th>6</th>\n",
       "      <td>그것들한테 맞아 죽으면 시체가 돼서도 왜 때렸나 물어봐야겠네.</td>\n",
       "      <td>1</td>\n",
       "    </tr>\n",
       "    <tr>\n",
       "      <th>7</th>\n",
       "      <td>나 선약이 있어서 오늘은 좀 힘들듯</td>\n",
       "      <td>0</td>\n",
       "    </tr>\n",
       "    <tr>\n",
       "      <th>8</th>\n",
       "      <td>그런 남자 만나면 헐떡일 때까지 박혀보고 싶다.</td>\n",
       "      <td>2</td>\n",
       "    </tr>\n",
       "    <tr>\n",
       "      <th>9</th>\n",
       "      <td>의젖이긴 하나 탁자 붙잡 게 하고 3연떡 가능할 각</td>\n",
       "      <td>2</td>\n",
       "    </tr>\n",
       "  </tbody>\n",
       "</table>\n",
       "</div>"
      ],
      "text/plain": [
       "                                    0  1\n",
       "0               딸을 치든 박든 니껀 니가 알아서 해.  2\n",
       "1                         보통 태닝하지 않아?  0\n",
       "2                   그 급식 찐따 정말 패고 싶네.  1\n",
       "3               그럼 목표를 바디프로필 촬영으로 하자.  0\n",
       "4  너같은 한입만충들은 다시는 말 못하게 입을 확 찢어버려야 해.  1\n",
       "5              뭐래. 저러는 의미 대충 파악하지 않아?  0\n",
       "6  그것들한테 맞아 죽으면 시체가 돼서도 왜 때렸나 물어봐야겠네.  1\n",
       "7                 나 선약이 있어서 오늘은 좀 힘들듯  0\n",
       "8          그런 남자 만나면 헐떡일 때까지 박혀보고 싶다.  2\n",
       "9        의젖이긴 하나 탁자 붙잡 게 하고 3연떡 가능할 각  2"
      ]
     },
     "execution_count": 24,
     "metadata": {},
     "output_type": "execute_result"
    }
   ],
   "source": [
    "dataset.head(10)"
   ]
  },
  {
   "cell_type": "code",
   "execution_count": 25,
   "id": "f5ea1c40",
   "metadata": {},
   "outputs": [],
   "source": [
    "dataset.to_csv(\"Sample.csv\",encoding=\"utf-8-sig\")"
   ]
  },
  {
   "cell_type": "code",
   "execution_count": null,
   "id": "fbcfd3d4",
   "metadata": {},
   "outputs": [],
   "source": []
  }
 ],
 "metadata": {
  "kernelspec": {
   "display_name": "Python 3 (ipykernel)",
   "language": "python",
   "name": "python3"
  },
  "language_info": {
   "codemirror_mode": {
    "name": "ipython",
    "version": 3
   },
   "file_extension": ".py",
   "mimetype": "text/x-python",
   "name": "python",
   "nbconvert_exporter": "python",
   "pygments_lexer": "ipython3",
   "version": "3.9.16"
  }
 },
 "nbformat": 4,
 "nbformat_minor": 5
}
