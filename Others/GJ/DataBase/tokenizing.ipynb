{
  "nbformat": 4,
  "nbformat_minor": 0,
  "metadata": {
    "colab": {
      "provenance": [],
      "collapsed_sections": [
        "tHmEHdGNUeC5"
      ]
    },
    "kernelspec": {
      "name": "python3",
      "display_name": "Python 3"
    },
    "language_info": {
      "name": "python"
    }
  },
  "cells": [
    {
      "cell_type": "markdown",
      "source": [
        "# 1. 사전 준비"
      ],
      "metadata": {
        "id": "tHmEHdGNUeC5"
      }
    },
    {
      "cell_type": "code",
      "execution_count": 1,
      "metadata": {
        "colab": {
          "base_uri": "https://localhost:8080/"
        },
        "id": "HTh25Pp9TmMa",
        "outputId": "9d5b3b0e-eb73-45f5-870f-1cc97029b57b"
      },
      "outputs": [
        {
          "output_type": "stream",
          "name": "stdout",
          "text": [
            "Looking in indexes: https://pypi.org/simple, https://us-python.pkg.dev/colab-wheels/public/simple/\n",
            "Requirement already satisfied: kiwipiepy in /usr/local/lib/python3.8/dist-packages (0.14.1)\n",
            "Requirement already satisfied: kiwipiepy-model~=0.14 in /usr/local/lib/python3.8/dist-packages (from kiwipiepy) (0.14.0)\n",
            "Requirement already satisfied: numpy in /usr/local/lib/python3.8/dist-packages (from kiwipiepy) (1.21.6)\n",
            "Requirement already satisfied: dataclasses in /usr/local/lib/python3.8/dist-packages (from kiwipiepy) (0.6)\n"
          ]
        }
      ],
      "source": [
        "!pip install kiwipiepy"
      ]
    },
    {
      "cell_type": "code",
      "source": [
        "from google.colab import drive\n",
        "drive.mount('/content/drive')"
      ],
      "metadata": {
        "colab": {
          "base_uri": "https://localhost:8080/"
        },
        "id": "x8tidSiCUBsT",
        "outputId": "48d972c6-3d7d-42d0-e260-3152671cff2c"
      },
      "execution_count": 2,
      "outputs": [
        {
          "output_type": "stream",
          "name": "stdout",
          "text": [
            "Drive already mounted at /content/drive; to attempt to forcibly remount, call drive.mount(\"/content/drive\", force_remount=True).\n"
          ]
        }
      ]
    },
    {
      "cell_type": "code",
      "source": [
        "%cd /content/drive/MyDrive/bert"
      ],
      "metadata": {
        "colab": {
          "base_uri": "https://localhost:8080/"
        },
        "id": "S2tu79I8UMqu",
        "outputId": "55da2788-596f-47de-e11e-a6e8ce26f33b"
      },
      "execution_count": 3,
      "outputs": [
        {
          "output_type": "stream",
          "name": "stdout",
          "text": [
            "/content/drive/MyDrive/bert\n"
          ]
        }
      ]
    },
    {
      "cell_type": "markdown",
      "source": [
        "# 2. Data Load"
      ],
      "metadata": {
        "id": "tfZlIMkzUzs4"
      }
    },
    {
      "cell_type": "code",
      "source": [
        "import pandas as pd\n",
        "import json\n",
        "import re"
      ],
      "metadata": {
        "id": "tXeo_QqJUSsq"
      },
      "execution_count": 4,
      "outputs": []
    },
    {
      "cell_type": "code",
      "source": [
        "with open(\"validation.json\", \"r\", encoding=\"UTF-8\") as f:\n",
        "    data = json.load(f)"
      ],
      "metadata": {
        "id": "Cyyc02SEUqgF"
      },
      "execution_count": 90,
      "outputs": []
    },
    {
      "cell_type": "code",
      "source": [
        "p = re.compile(\"#(.*)#\")"
      ],
      "metadata": {
        "id": "sGTQM-lVUxxE"
      },
      "execution_count": 91,
      "outputs": []
    },
    {
      "cell_type": "code",
      "source": [
        "res = []\n",
        "for frame in data:\n",
        "    for sentence in frame[\"sentences\"]:\n",
        "        m = p.search(sentence[\"origin_text\"])\n",
        "        if m == None:\n",
        "            res.append([sentence[\"origin_text\"], sentence[\"types\"]])\n",
        "        else:\n",
        "            start = m.span()[0]\n",
        "            end = m.span()[1]\n",
        "            temp = sentence[\"origin_text\"][0:start] + \"OO\" + sentence[\"origin_text\"][end:]\n",
        "            res.append([temp, sentence[\"types\"]])"
      ],
      "metadata": {
        "id": "G9FUUwmAWKa4"
      },
      "execution_count": 92,
      "outputs": []
    },
    {
      "cell_type": "code",
      "source": [
        "immoral = []\n",
        "sexual = []\n",
        "abusement = []\n",
        "\n",
        "for r in res:\n",
        "  if \"IMMORAL_NONE\" in r[1]:\n",
        "    immoral.append([r[0], 0])\n",
        "  elif \"SEXUAL\" in r[1]:\n",
        "    sexual.append([r[0], 2])\n",
        "  elif \"ABUSE\" in r[1] or \"VIOLENCE\" in r[1]:\n",
        "    abusement.append([r[0], 1])\n"
      ],
      "metadata": {
        "id": "uoDYQwxyWSVE"
      },
      "execution_count": 93,
      "outputs": []
    },
    {
      "cell_type": "code",
      "source": [
        "len(immoral), len(sexual), len(abusement)"
      ],
      "metadata": {
        "colab": {
          "base_uri": "https://localhost:8080/"
        },
        "id": "Lwz8v7KFXDp8",
        "outputId": "03260191-9710-4449-b5b2-344f4dda9544"
      },
      "execution_count": 94,
      "outputs": [
        {
          "output_type": "execute_result",
          "data": {
            "text/plain": [
              "(20344, 2306, 3713)"
            ]
          },
          "metadata": {},
          "execution_count": 94
        }
      ]
    },
    {
      "cell_type": "code",
      "source": [
        "immoral[:5], abusement[:5], sexual[:5], "
      ],
      "metadata": {
        "colab": {
          "base_uri": "https://localhost:8080/"
        },
        "id": "SmGKI3X0XGx2",
        "outputId": "2e66c6c2-492c-404e-9081-3bcea84fa5bf"
      },
      "execution_count": 95,
      "outputs": [
        {
          "output_type": "execute_result",
          "data": {
            "text/plain": [
              "([['명절이면 좀 일찍 마쳐주지', 0],\n",
              "  ['요즘은 왜 미세먼지가 별로 없지?', 0],\n",
              "  ['호주랑 중국이랑 싸우고 있어서 중국에서 호주산석탄을 수입 안해서 그렇대', 0],\n",
              "  ['하긴 그럴 것 같긴 해', 0],\n",
              "  ['와 어제 그 댄서 퍼포먼스 장난 아니더라', 0]],\n",
              " [['웃을 때마다 역겨워서 주먹 날리고 싶음', 1],\n",
              "  ['처묵고 싶나 밴태야', 1],\n",
              "  ['처맞고싶나 이따위 저질행동하지마라 주지도않으끼다', 1],\n",
              "  ['넌 정말 최악이야', 1],\n",
              "  ['좋은 짱깨들은 이미 천안문에서 죽었음 리얼루', 1]],\n",
              " [['그래서 니가 육봉을 다른 가시나들한테 뿌리고 다니는구나', 2],\n",
              "  ['발정난 암캐 찾아요~', 2],\n",
              "  ['절라 개꼴이네 니', 2],\n",
              "  ['스벌 딴넘한테는 잘준다는 소문이있던데', 2],\n",
              "  ['니 다리벌려라고 소문낫다 알고나 다니라', 2]])"
            ]
          },
          "metadata": {},
          "execution_count": 95
        }
      ]
    },
    {
      "cell_type": "markdown",
      "source": [
        "# 3. 형태소 분리"
      ],
      "metadata": {
        "id": "0qHZZFZiX8Ev"
      }
    },
    {
      "cell_type": "code",
      "source": [
        "from kiwipiepy import Kiwi\n",
        "kiwi = Kiwi()"
      ],
      "metadata": {
        "id": "Eco1xgbyXe_f"
      },
      "execution_count": 96,
      "outputs": []
    },
    {
      "cell_type": "code",
      "source": [
        "for i in range(len(immoral)):\n",
        "  result = kiwi.tokenize(immoral[i][0])\n",
        "  temp_token = []\n",
        "  for x in result:\n",
        "    temp_token.append(x.form)\n",
        "  immoral[i].append(temp_token)"
      ],
      "metadata": {
        "id": "enap7yf5YCKl"
      },
      "execution_count": 97,
      "outputs": []
    },
    {
      "cell_type": "code",
      "source": [
        "for i in range(len(abusement)):\n",
        "  result = kiwi.tokenize(abusement[i][0])\n",
        "  temp_token = []\n",
        "  for x in result:\n",
        "    temp_token.append(x.form)\n",
        "  abusement[i].append(temp_token)"
      ],
      "metadata": {
        "id": "27rAxlUdZ_eL"
      },
      "execution_count": 98,
      "outputs": []
    },
    {
      "cell_type": "code",
      "source": [
        "for i in range(len(sexual)):\n",
        "  result = kiwi.tokenize(sexual[i][0])\n",
        "  temp_token = []\n",
        "  for x in result:\n",
        "    temp_token.append(x.form)\n",
        "  sexual[i].append(temp_token)"
      ],
      "metadata": {
        "id": "RtBS7OxLaJ9P"
      },
      "execution_count": 99,
      "outputs": []
    },
    {
      "cell_type": "code",
      "source": [
        "immoral[:3], abusement[:3], sexual[:3]"
      ],
      "metadata": {
        "colab": {
          "base_uri": "https://localhost:8080/"
        },
        "id": "3daNdKZtYDwN",
        "outputId": "014fcd8b-d929-4199-e797-4e7ed83efea4"
      },
      "execution_count": 100,
      "outputs": [
        {
          "output_type": "execute_result",
          "data": {
            "text/plain": [
              "([['명절이면 좀 일찍 마쳐주지', 0, ['명절', '이', '면', '좀', '일찍', '마치', '어', '주', '지']],\n",
              "  ['요즘은 왜 미세먼지가 별로 없지?',\n",
              "   0,\n",
              "   ['요즘', '은', '왜', '미세', '먼지', '가', '별로', '없', '지', '?']],\n",
              "  ['호주랑 중국이랑 싸우고 있어서 중국에서 호주산석탄을 수입 안해서 그렇대',\n",
              "   0,\n",
              "   ['호주',\n",
              "    '랑',\n",
              "    '중국',\n",
              "    '이랑',\n",
              "    '싸우',\n",
              "    '고',\n",
              "    '있',\n",
              "    '어서',\n",
              "    '중국',\n",
              "    '에서',\n",
              "    '호주',\n",
              "    '산',\n",
              "    '석탄',\n",
              "    '을',\n",
              "    '수입',\n",
              "    '안',\n",
              "    '하',\n",
              "    '어서',\n",
              "    '그렇',\n",
              "    '대']]],\n",
              " [['웃을 때마다 역겨워서 주먹 날리고 싶음',\n",
              "   1,\n",
              "   ['웃', '을', '때', '마다', '역겹', '어서', '주먹', '날리', '고', '싶', '음']],\n",
              "  ['처묵고 싶나 밴태야', 1, ['처', '묵', '고', '싶', '나', '밴태야']],\n",
              "  ['처맞고싶나 이따위 저질행동하지마라 주지도않으끼다',\n",
              "   1,\n",
              "   ['처',\n",
              "    '맞',\n",
              "    '고',\n",
              "    '싶',\n",
              "    '나',\n",
              "    '이',\n",
              "    '따위',\n",
              "    '저질',\n",
              "    '행동',\n",
              "    '하',\n",
              "    '지',\n",
              "    '말',\n",
              "    '어라',\n",
              "    '주',\n",
              "    '지',\n",
              "    '도',\n",
              "    '않',\n",
              "    '으',\n",
              "    '끼',\n",
              "    '다']]],\n",
              " [['그래서 니가 육봉을 다른 가시나들한테 뿌리고 다니는구나',\n",
              "   2,\n",
              "   ['그래서',\n",
              "    '니',\n",
              "    '가',\n",
              "    '육',\n",
              "    '봉',\n",
              "    '을',\n",
              "    '다른',\n",
              "    '가시나',\n",
              "    '들',\n",
              "    '한테',\n",
              "    '뿌리',\n",
              "    '고',\n",
              "    '다니',\n",
              "    '는',\n",
              "    '구나']],\n",
              "  ['발정난 암캐 찾아요~', 2, ['발정', '나', 'ᆫ', '암캐', '찾', '어요', '~']],\n",
              "  ['절라 개꼴이네 니', 2, ['절라', '개꼴이네', '니']]])"
            ]
          },
          "metadata": {},
          "execution_count": 100
        }
      ]
    },
    {
      "cell_type": "markdown",
      "source": [
        "# 4. csv 저장"
      ],
      "metadata": {
        "id": "w9BF94wqdS13"
      }
    },
    {
      "cell_type": "code",
      "source": [
        "df_immoral = pd.DataFrame(immoral)\n",
        "df_abusement = pd.DataFrame(abusement)\n",
        "df_sexual = pd.DataFrame(sexual)"
      ],
      "metadata": {
        "id": "T1E1azYrYgZN"
      },
      "execution_count": 101,
      "outputs": []
    },
    {
      "cell_type": "code",
      "source": [
        "df_immoral.head()"
      ],
      "metadata": {
        "colab": {
          "base_uri": "https://localhost:8080/",
          "height": 206
        },
        "id": "ZGsRQqfsdg6N",
        "outputId": "c40f7848-50bd-45e5-c5ce-eba1fc0cf142"
      },
      "execution_count": 102,
      "outputs": [
        {
          "output_type": "execute_result",
          "data": {
            "text/plain": [
              "                                         0  1  \\\n",
              "0                           명절이면 좀 일찍 마쳐주지  0   \n",
              "1                       요즘은 왜 미세먼지가 별로 없지?  0   \n",
              "2  호주랑 중국이랑 싸우고 있어서 중국에서 호주산석탄을 수입 안해서 그렇대  0   \n",
              "3                             하긴 그럴 것 같긴 해  0   \n",
              "4                   와 어제 그 댄서 퍼포먼스 장난 아니더라  0   \n",
              "\n",
              "                                                   2  \n",
              "0                     [명절, 이, 면, 좀, 일찍, 마치, 어, 주, 지]  \n",
              "1                 [요즘, 은, 왜, 미세, 먼지, 가, 별로, 없, 지, ?]  \n",
              "2  [호주, 랑, 중국, 이랑, 싸우, 고, 있, 어서, 중국, 에서, 호주, 산, 석...  \n",
              "3                      [하긴, 그렇, 을, 것, 같, 기, ᆫ, 하, 어]  \n",
              "4                   [와, 어제, 그, 댄서, 퍼포먼스, 장난, 아니, 더라]  "
            ],
            "text/html": [
              "\n",
              "  <div id=\"df-521150ca-db58-4d0c-bae5-9c7958fcaf83\">\n",
              "    <div class=\"colab-df-container\">\n",
              "      <div>\n",
              "<style scoped>\n",
              "    .dataframe tbody tr th:only-of-type {\n",
              "        vertical-align: middle;\n",
              "    }\n",
              "\n",
              "    .dataframe tbody tr th {\n",
              "        vertical-align: top;\n",
              "    }\n",
              "\n",
              "    .dataframe thead th {\n",
              "        text-align: right;\n",
              "    }\n",
              "</style>\n",
              "<table border=\"1\" class=\"dataframe\">\n",
              "  <thead>\n",
              "    <tr style=\"text-align: right;\">\n",
              "      <th></th>\n",
              "      <th>0</th>\n",
              "      <th>1</th>\n",
              "      <th>2</th>\n",
              "    </tr>\n",
              "  </thead>\n",
              "  <tbody>\n",
              "    <tr>\n",
              "      <th>0</th>\n",
              "      <td>명절이면 좀 일찍 마쳐주지</td>\n",
              "      <td>0</td>\n",
              "      <td>[명절, 이, 면, 좀, 일찍, 마치, 어, 주, 지]</td>\n",
              "    </tr>\n",
              "    <tr>\n",
              "      <th>1</th>\n",
              "      <td>요즘은 왜 미세먼지가 별로 없지?</td>\n",
              "      <td>0</td>\n",
              "      <td>[요즘, 은, 왜, 미세, 먼지, 가, 별로, 없, 지, ?]</td>\n",
              "    </tr>\n",
              "    <tr>\n",
              "      <th>2</th>\n",
              "      <td>호주랑 중국이랑 싸우고 있어서 중국에서 호주산석탄을 수입 안해서 그렇대</td>\n",
              "      <td>0</td>\n",
              "      <td>[호주, 랑, 중국, 이랑, 싸우, 고, 있, 어서, 중국, 에서, 호주, 산, 석...</td>\n",
              "    </tr>\n",
              "    <tr>\n",
              "      <th>3</th>\n",
              "      <td>하긴 그럴 것 같긴 해</td>\n",
              "      <td>0</td>\n",
              "      <td>[하긴, 그렇, 을, 것, 같, 기, ᆫ, 하, 어]</td>\n",
              "    </tr>\n",
              "    <tr>\n",
              "      <th>4</th>\n",
              "      <td>와 어제 그 댄서 퍼포먼스 장난 아니더라</td>\n",
              "      <td>0</td>\n",
              "      <td>[와, 어제, 그, 댄서, 퍼포먼스, 장난, 아니, 더라]</td>\n",
              "    </tr>\n",
              "  </tbody>\n",
              "</table>\n",
              "</div>\n",
              "      <button class=\"colab-df-convert\" onclick=\"convertToInteractive('df-521150ca-db58-4d0c-bae5-9c7958fcaf83')\"\n",
              "              title=\"Convert this dataframe to an interactive table.\"\n",
              "              style=\"display:none;\">\n",
              "        \n",
              "  <svg xmlns=\"http://www.w3.org/2000/svg\" height=\"24px\"viewBox=\"0 0 24 24\"\n",
              "       width=\"24px\">\n",
              "    <path d=\"M0 0h24v24H0V0z\" fill=\"none\"/>\n",
              "    <path d=\"M18.56 5.44l.94 2.06.94-2.06 2.06-.94-2.06-.94-.94-2.06-.94 2.06-2.06.94zm-11 1L8.5 8.5l.94-2.06 2.06-.94-2.06-.94L8.5 2.5l-.94 2.06-2.06.94zm10 10l.94 2.06.94-2.06 2.06-.94-2.06-.94-.94-2.06-.94 2.06-2.06.94z\"/><path d=\"M17.41 7.96l-1.37-1.37c-.4-.4-.92-.59-1.43-.59-.52 0-1.04.2-1.43.59L10.3 9.45l-7.72 7.72c-.78.78-.78 2.05 0 2.83L4 21.41c.39.39.9.59 1.41.59.51 0 1.02-.2 1.41-.59l7.78-7.78 2.81-2.81c.8-.78.8-2.07 0-2.86zM5.41 20L4 18.59l7.72-7.72 1.47 1.35L5.41 20z\"/>\n",
              "  </svg>\n",
              "      </button>\n",
              "      \n",
              "  <style>\n",
              "    .colab-df-container {\n",
              "      display:flex;\n",
              "      flex-wrap:wrap;\n",
              "      gap: 12px;\n",
              "    }\n",
              "\n",
              "    .colab-df-convert {\n",
              "      background-color: #E8F0FE;\n",
              "      border: none;\n",
              "      border-radius: 50%;\n",
              "      cursor: pointer;\n",
              "      display: none;\n",
              "      fill: #1967D2;\n",
              "      height: 32px;\n",
              "      padding: 0 0 0 0;\n",
              "      width: 32px;\n",
              "    }\n",
              "\n",
              "    .colab-df-convert:hover {\n",
              "      background-color: #E2EBFA;\n",
              "      box-shadow: 0px 1px 2px rgba(60, 64, 67, 0.3), 0px 1px 3px 1px rgba(60, 64, 67, 0.15);\n",
              "      fill: #174EA6;\n",
              "    }\n",
              "\n",
              "    [theme=dark] .colab-df-convert {\n",
              "      background-color: #3B4455;\n",
              "      fill: #D2E3FC;\n",
              "    }\n",
              "\n",
              "    [theme=dark] .colab-df-convert:hover {\n",
              "      background-color: #434B5C;\n",
              "      box-shadow: 0px 1px 3px 1px rgba(0, 0, 0, 0.15);\n",
              "      filter: drop-shadow(0px 1px 2px rgba(0, 0, 0, 0.3));\n",
              "      fill: #FFFFFF;\n",
              "    }\n",
              "  </style>\n",
              "\n",
              "      <script>\n",
              "        const buttonEl =\n",
              "          document.querySelector('#df-521150ca-db58-4d0c-bae5-9c7958fcaf83 button.colab-df-convert');\n",
              "        buttonEl.style.display =\n",
              "          google.colab.kernel.accessAllowed ? 'block' : 'none';\n",
              "\n",
              "        async function convertToInteractive(key) {\n",
              "          const element = document.querySelector('#df-521150ca-db58-4d0c-bae5-9c7958fcaf83');\n",
              "          const dataTable =\n",
              "            await google.colab.kernel.invokeFunction('convertToInteractive',\n",
              "                                                     [key], {});\n",
              "          if (!dataTable) return;\n",
              "\n",
              "          const docLinkHtml = 'Like what you see? Visit the ' +\n",
              "            '<a target=\"_blank\" href=https://colab.research.google.com/notebooks/data_table.ipynb>data table notebook</a>'\n",
              "            + ' to learn more about interactive tables.';\n",
              "          element.innerHTML = '';\n",
              "          dataTable['output_type'] = 'display_data';\n",
              "          await google.colab.output.renderOutput(dataTable, element);\n",
              "          const docLink = document.createElement('div');\n",
              "          docLink.innerHTML = docLinkHtml;\n",
              "          element.appendChild(docLink);\n",
              "        }\n",
              "      </script>\n",
              "    </div>\n",
              "  </div>\n",
              "  "
            ]
          },
          "metadata": {},
          "execution_count": 102
        }
      ]
    },
    {
      "cell_type": "code",
      "source": [
        "df_abusement.head()"
      ],
      "metadata": {
        "colab": {
          "base_uri": "https://localhost:8080/",
          "height": 206
        },
        "id": "oedQ5NRsdhzj",
        "outputId": "5860bd4e-4e7d-464c-a0d1-42377b6ef049"
      },
      "execution_count": 103,
      "outputs": [
        {
          "output_type": "execute_result",
          "data": {
            "text/plain": [
              "                            0  1  \\\n",
              "0       웃을 때마다 역겨워서 주먹 날리고 싶음  1   \n",
              "1                  처묵고 싶나 밴태야  1   \n",
              "2  처맞고싶나 이따위 저질행동하지마라 주지도않으끼다  1   \n",
              "3                   넌 정말 최악이야  1   \n",
              "4    좋은 짱깨들은 이미 천안문에서 죽었음 리얼루  1   \n",
              "\n",
              "                                                   2  \n",
              "0             [웃, 을, 때, 마다, 역겹, 어서, 주먹, 날리, 고, 싶, 음]  \n",
              "1                               [처, 묵, 고, 싶, 나, 밴태야]  \n",
              "2  [처, 맞, 고, 싶, 나, 이, 따위, 저질, 행동, 하, 지, 말, 어라, 주,...  \n",
              "3                               [너, ᆫ, 정말, 최악, 이, 야]  \n",
              "4      [좋, 은, 짱깨, 들, 은, 이미, 천안문, 에서, 죽, 었, 음, 리얼, 루]  "
            ],
            "text/html": [
              "\n",
              "  <div id=\"df-568f539f-e180-413b-a286-0e5f980bda93\">\n",
              "    <div class=\"colab-df-container\">\n",
              "      <div>\n",
              "<style scoped>\n",
              "    .dataframe tbody tr th:only-of-type {\n",
              "        vertical-align: middle;\n",
              "    }\n",
              "\n",
              "    .dataframe tbody tr th {\n",
              "        vertical-align: top;\n",
              "    }\n",
              "\n",
              "    .dataframe thead th {\n",
              "        text-align: right;\n",
              "    }\n",
              "</style>\n",
              "<table border=\"1\" class=\"dataframe\">\n",
              "  <thead>\n",
              "    <tr style=\"text-align: right;\">\n",
              "      <th></th>\n",
              "      <th>0</th>\n",
              "      <th>1</th>\n",
              "      <th>2</th>\n",
              "    </tr>\n",
              "  </thead>\n",
              "  <tbody>\n",
              "    <tr>\n",
              "      <th>0</th>\n",
              "      <td>웃을 때마다 역겨워서 주먹 날리고 싶음</td>\n",
              "      <td>1</td>\n",
              "      <td>[웃, 을, 때, 마다, 역겹, 어서, 주먹, 날리, 고, 싶, 음]</td>\n",
              "    </tr>\n",
              "    <tr>\n",
              "      <th>1</th>\n",
              "      <td>처묵고 싶나 밴태야</td>\n",
              "      <td>1</td>\n",
              "      <td>[처, 묵, 고, 싶, 나, 밴태야]</td>\n",
              "    </tr>\n",
              "    <tr>\n",
              "      <th>2</th>\n",
              "      <td>처맞고싶나 이따위 저질행동하지마라 주지도않으끼다</td>\n",
              "      <td>1</td>\n",
              "      <td>[처, 맞, 고, 싶, 나, 이, 따위, 저질, 행동, 하, 지, 말, 어라, 주,...</td>\n",
              "    </tr>\n",
              "    <tr>\n",
              "      <th>3</th>\n",
              "      <td>넌 정말 최악이야</td>\n",
              "      <td>1</td>\n",
              "      <td>[너, ᆫ, 정말, 최악, 이, 야]</td>\n",
              "    </tr>\n",
              "    <tr>\n",
              "      <th>4</th>\n",
              "      <td>좋은 짱깨들은 이미 천안문에서 죽었음 리얼루</td>\n",
              "      <td>1</td>\n",
              "      <td>[좋, 은, 짱깨, 들, 은, 이미, 천안문, 에서, 죽, 었, 음, 리얼, 루]</td>\n",
              "    </tr>\n",
              "  </tbody>\n",
              "</table>\n",
              "</div>\n",
              "      <button class=\"colab-df-convert\" onclick=\"convertToInteractive('df-568f539f-e180-413b-a286-0e5f980bda93')\"\n",
              "              title=\"Convert this dataframe to an interactive table.\"\n",
              "              style=\"display:none;\">\n",
              "        \n",
              "  <svg xmlns=\"http://www.w3.org/2000/svg\" height=\"24px\"viewBox=\"0 0 24 24\"\n",
              "       width=\"24px\">\n",
              "    <path d=\"M0 0h24v24H0V0z\" fill=\"none\"/>\n",
              "    <path d=\"M18.56 5.44l.94 2.06.94-2.06 2.06-.94-2.06-.94-.94-2.06-.94 2.06-2.06.94zm-11 1L8.5 8.5l.94-2.06 2.06-.94-2.06-.94L8.5 2.5l-.94 2.06-2.06.94zm10 10l.94 2.06.94-2.06 2.06-.94-2.06-.94-.94-2.06-.94 2.06-2.06.94z\"/><path d=\"M17.41 7.96l-1.37-1.37c-.4-.4-.92-.59-1.43-.59-.52 0-1.04.2-1.43.59L10.3 9.45l-7.72 7.72c-.78.78-.78 2.05 0 2.83L4 21.41c.39.39.9.59 1.41.59.51 0 1.02-.2 1.41-.59l7.78-7.78 2.81-2.81c.8-.78.8-2.07 0-2.86zM5.41 20L4 18.59l7.72-7.72 1.47 1.35L5.41 20z\"/>\n",
              "  </svg>\n",
              "      </button>\n",
              "      \n",
              "  <style>\n",
              "    .colab-df-container {\n",
              "      display:flex;\n",
              "      flex-wrap:wrap;\n",
              "      gap: 12px;\n",
              "    }\n",
              "\n",
              "    .colab-df-convert {\n",
              "      background-color: #E8F0FE;\n",
              "      border: none;\n",
              "      border-radius: 50%;\n",
              "      cursor: pointer;\n",
              "      display: none;\n",
              "      fill: #1967D2;\n",
              "      height: 32px;\n",
              "      padding: 0 0 0 0;\n",
              "      width: 32px;\n",
              "    }\n",
              "\n",
              "    .colab-df-convert:hover {\n",
              "      background-color: #E2EBFA;\n",
              "      box-shadow: 0px 1px 2px rgba(60, 64, 67, 0.3), 0px 1px 3px 1px rgba(60, 64, 67, 0.15);\n",
              "      fill: #174EA6;\n",
              "    }\n",
              "\n",
              "    [theme=dark] .colab-df-convert {\n",
              "      background-color: #3B4455;\n",
              "      fill: #D2E3FC;\n",
              "    }\n",
              "\n",
              "    [theme=dark] .colab-df-convert:hover {\n",
              "      background-color: #434B5C;\n",
              "      box-shadow: 0px 1px 3px 1px rgba(0, 0, 0, 0.15);\n",
              "      filter: drop-shadow(0px 1px 2px rgba(0, 0, 0, 0.3));\n",
              "      fill: #FFFFFF;\n",
              "    }\n",
              "  </style>\n",
              "\n",
              "      <script>\n",
              "        const buttonEl =\n",
              "          document.querySelector('#df-568f539f-e180-413b-a286-0e5f980bda93 button.colab-df-convert');\n",
              "        buttonEl.style.display =\n",
              "          google.colab.kernel.accessAllowed ? 'block' : 'none';\n",
              "\n",
              "        async function convertToInteractive(key) {\n",
              "          const element = document.querySelector('#df-568f539f-e180-413b-a286-0e5f980bda93');\n",
              "          const dataTable =\n",
              "            await google.colab.kernel.invokeFunction('convertToInteractive',\n",
              "                                                     [key], {});\n",
              "          if (!dataTable) return;\n",
              "\n",
              "          const docLinkHtml = 'Like what you see? Visit the ' +\n",
              "            '<a target=\"_blank\" href=https://colab.research.google.com/notebooks/data_table.ipynb>data table notebook</a>'\n",
              "            + ' to learn more about interactive tables.';\n",
              "          element.innerHTML = '';\n",
              "          dataTable['output_type'] = 'display_data';\n",
              "          await google.colab.output.renderOutput(dataTable, element);\n",
              "          const docLink = document.createElement('div');\n",
              "          docLink.innerHTML = docLinkHtml;\n",
              "          element.appendChild(docLink);\n",
              "        }\n",
              "      </script>\n",
              "    </div>\n",
              "  </div>\n",
              "  "
            ]
          },
          "metadata": {},
          "execution_count": 103
        }
      ]
    },
    {
      "cell_type": "code",
      "source": [
        "df_sexual.head()"
      ],
      "metadata": {
        "colab": {
          "base_uri": "https://localhost:8080/",
          "height": 206
        },
        "id": "6W_DNYxNdv9l",
        "outputId": "e056affb-ae46-40b5-f287-55ec89bc1b41"
      },
      "execution_count": 104,
      "outputs": [
        {
          "output_type": "execute_result",
          "data": {
            "text/plain": [
              "                                0  1  \\\n",
              "0  그래서 니가 육봉을 다른 가시나들한테 뿌리고 다니는구나  2   \n",
              "1                     발정난 암캐 찾아요~  2   \n",
              "2                       절라 개꼴이네 니  2   \n",
              "3            스벌 딴넘한테는 잘준다는 소문이있던데  2   \n",
              "4           니 다리벌려라고 소문낫다 알고나 다니라  2   \n",
              "\n",
              "                                                   2  \n",
              "0  [그래서, 니, 가, 육, 봉, 을, 다른, 가시나, 들, 한테, 뿌리, 고, 다니...  \n",
              "1                           [발정, 나, ᆫ, 암캐, 찾, 어요, ~]  \n",
              "2                                      [절라, 개꼴이네, 니]  \n",
              "3           [스벌, 딴넘, 한테, 는, 잘, 주, ᆫ다는, 소문, 이, 있, 던데]  \n",
              "4  [니, 다리, 벌리, 어, 이, 라고, 소문나, 엇, 다, 알, 고, 나, 어, 다...  "
            ],
            "text/html": [
              "\n",
              "  <div id=\"df-74c83eec-d105-4408-931e-484bfee66591\">\n",
              "    <div class=\"colab-df-container\">\n",
              "      <div>\n",
              "<style scoped>\n",
              "    .dataframe tbody tr th:only-of-type {\n",
              "        vertical-align: middle;\n",
              "    }\n",
              "\n",
              "    .dataframe tbody tr th {\n",
              "        vertical-align: top;\n",
              "    }\n",
              "\n",
              "    .dataframe thead th {\n",
              "        text-align: right;\n",
              "    }\n",
              "</style>\n",
              "<table border=\"1\" class=\"dataframe\">\n",
              "  <thead>\n",
              "    <tr style=\"text-align: right;\">\n",
              "      <th></th>\n",
              "      <th>0</th>\n",
              "      <th>1</th>\n",
              "      <th>2</th>\n",
              "    </tr>\n",
              "  </thead>\n",
              "  <tbody>\n",
              "    <tr>\n",
              "      <th>0</th>\n",
              "      <td>그래서 니가 육봉을 다른 가시나들한테 뿌리고 다니는구나</td>\n",
              "      <td>2</td>\n",
              "      <td>[그래서, 니, 가, 육, 봉, 을, 다른, 가시나, 들, 한테, 뿌리, 고, 다니...</td>\n",
              "    </tr>\n",
              "    <tr>\n",
              "      <th>1</th>\n",
              "      <td>발정난 암캐 찾아요~</td>\n",
              "      <td>2</td>\n",
              "      <td>[발정, 나, ᆫ, 암캐, 찾, 어요, ~]</td>\n",
              "    </tr>\n",
              "    <tr>\n",
              "      <th>2</th>\n",
              "      <td>절라 개꼴이네 니</td>\n",
              "      <td>2</td>\n",
              "      <td>[절라, 개꼴이네, 니]</td>\n",
              "    </tr>\n",
              "    <tr>\n",
              "      <th>3</th>\n",
              "      <td>스벌 딴넘한테는 잘준다는 소문이있던데</td>\n",
              "      <td>2</td>\n",
              "      <td>[스벌, 딴넘, 한테, 는, 잘, 주, ᆫ다는, 소문, 이, 있, 던데]</td>\n",
              "    </tr>\n",
              "    <tr>\n",
              "      <th>4</th>\n",
              "      <td>니 다리벌려라고 소문낫다 알고나 다니라</td>\n",
              "      <td>2</td>\n",
              "      <td>[니, 다리, 벌리, 어, 이, 라고, 소문나, 엇, 다, 알, 고, 나, 어, 다...</td>\n",
              "    </tr>\n",
              "  </tbody>\n",
              "</table>\n",
              "</div>\n",
              "      <button class=\"colab-df-convert\" onclick=\"convertToInteractive('df-74c83eec-d105-4408-931e-484bfee66591')\"\n",
              "              title=\"Convert this dataframe to an interactive table.\"\n",
              "              style=\"display:none;\">\n",
              "        \n",
              "  <svg xmlns=\"http://www.w3.org/2000/svg\" height=\"24px\"viewBox=\"0 0 24 24\"\n",
              "       width=\"24px\">\n",
              "    <path d=\"M0 0h24v24H0V0z\" fill=\"none\"/>\n",
              "    <path d=\"M18.56 5.44l.94 2.06.94-2.06 2.06-.94-2.06-.94-.94-2.06-.94 2.06-2.06.94zm-11 1L8.5 8.5l.94-2.06 2.06-.94-2.06-.94L8.5 2.5l-.94 2.06-2.06.94zm10 10l.94 2.06.94-2.06 2.06-.94-2.06-.94-.94-2.06-.94 2.06-2.06.94z\"/><path d=\"M17.41 7.96l-1.37-1.37c-.4-.4-.92-.59-1.43-.59-.52 0-1.04.2-1.43.59L10.3 9.45l-7.72 7.72c-.78.78-.78 2.05 0 2.83L4 21.41c.39.39.9.59 1.41.59.51 0 1.02-.2 1.41-.59l7.78-7.78 2.81-2.81c.8-.78.8-2.07 0-2.86zM5.41 20L4 18.59l7.72-7.72 1.47 1.35L5.41 20z\"/>\n",
              "  </svg>\n",
              "      </button>\n",
              "      \n",
              "  <style>\n",
              "    .colab-df-container {\n",
              "      display:flex;\n",
              "      flex-wrap:wrap;\n",
              "      gap: 12px;\n",
              "    }\n",
              "\n",
              "    .colab-df-convert {\n",
              "      background-color: #E8F0FE;\n",
              "      border: none;\n",
              "      border-radius: 50%;\n",
              "      cursor: pointer;\n",
              "      display: none;\n",
              "      fill: #1967D2;\n",
              "      height: 32px;\n",
              "      padding: 0 0 0 0;\n",
              "      width: 32px;\n",
              "    }\n",
              "\n",
              "    .colab-df-convert:hover {\n",
              "      background-color: #E2EBFA;\n",
              "      box-shadow: 0px 1px 2px rgba(60, 64, 67, 0.3), 0px 1px 3px 1px rgba(60, 64, 67, 0.15);\n",
              "      fill: #174EA6;\n",
              "    }\n",
              "\n",
              "    [theme=dark] .colab-df-convert {\n",
              "      background-color: #3B4455;\n",
              "      fill: #D2E3FC;\n",
              "    }\n",
              "\n",
              "    [theme=dark] .colab-df-convert:hover {\n",
              "      background-color: #434B5C;\n",
              "      box-shadow: 0px 1px 3px 1px rgba(0, 0, 0, 0.15);\n",
              "      filter: drop-shadow(0px 1px 2px rgba(0, 0, 0, 0.3));\n",
              "      fill: #FFFFFF;\n",
              "    }\n",
              "  </style>\n",
              "\n",
              "      <script>\n",
              "        const buttonEl =\n",
              "          document.querySelector('#df-74c83eec-d105-4408-931e-484bfee66591 button.colab-df-convert');\n",
              "        buttonEl.style.display =\n",
              "          google.colab.kernel.accessAllowed ? 'block' : 'none';\n",
              "\n",
              "        async function convertToInteractive(key) {\n",
              "          const element = document.querySelector('#df-74c83eec-d105-4408-931e-484bfee66591');\n",
              "          const dataTable =\n",
              "            await google.colab.kernel.invokeFunction('convertToInteractive',\n",
              "                                                     [key], {});\n",
              "          if (!dataTable) return;\n",
              "\n",
              "          const docLinkHtml = 'Like what you see? Visit the ' +\n",
              "            '<a target=\"_blank\" href=https://colab.research.google.com/notebooks/data_table.ipynb>data table notebook</a>'\n",
              "            + ' to learn more about interactive tables.';\n",
              "          element.innerHTML = '';\n",
              "          dataTable['output_type'] = 'display_data';\n",
              "          await google.colab.output.renderOutput(dataTable, element);\n",
              "          const docLink = document.createElement('div');\n",
              "          docLink.innerHTML = docLinkHtml;\n",
              "          element.appendChild(docLink);\n",
              "        }\n",
              "      </script>\n",
              "    </div>\n",
              "  </div>\n",
              "  "
            ]
          },
          "metadata": {},
          "execution_count": 104
        }
      ]
    },
    {
      "cell_type": "code",
      "source": [
        "df_immoral.to_csv(\"validation_immoral.csv\", encoding=\"utf-8-sig\")\n",
        "df_abusement.to_csv(\"validation_abusement.csv\", encoding=\"utf-8-sig\")\n",
        "df_sexual.to_csv(\"validation_sexual.csv\", encoding=\"utf-8-sig\")"
      ],
      "metadata": {
        "id": "Idb2QPPEd00E"
      },
      "execution_count": 105,
      "outputs": []
    },
    {
      "cell_type": "code",
      "source": [],
      "metadata": {
        "id": "aPHcjQOneKM5"
      },
      "execution_count": null,
      "outputs": []
    }
  ]
}