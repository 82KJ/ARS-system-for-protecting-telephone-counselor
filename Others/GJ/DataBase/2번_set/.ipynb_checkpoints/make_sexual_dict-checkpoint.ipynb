{
 "cells": [
  {
   "cell_type": "markdown",
   "id": "ed7c1a0b",
   "metadata": {},
   "source": [
    "# 1. csv load & convert to list"
   ]
  },
  {
   "cell_type": "code",
   "execution_count": 1,
   "id": "40dac929",
   "metadata": {},
   "outputs": [],
   "source": [
    "import pandas as pd"
   ]
  },
  {
   "cell_type": "code",
   "execution_count": 2,
   "id": "84abb25c",
   "metadata": {},
   "outputs": [],
   "source": [
    "df = pd.read_csv(\"2_sexual.csv\")"
   ]
  },
  {
   "cell_type": "code",
   "execution_count": 3,
   "id": "012cc487",
   "metadata": {},
   "outputs": [
    {
     "data": {
      "text/html": [
       "<div>\n",
       "<style scoped>\n",
       "    .dataframe tbody tr th:only-of-type {\n",
       "        vertical-align: middle;\n",
       "    }\n",
       "\n",
       "    .dataframe tbody tr th {\n",
       "        vertical-align: top;\n",
       "    }\n",
       "\n",
       "    .dataframe thead th {\n",
       "        text-align: right;\n",
       "    }\n",
       "</style>\n",
       "<table border=\"1\" class=\"dataframe\">\n",
       "  <thead>\n",
       "    <tr style=\"text-align: right;\">\n",
       "      <th></th>\n",
       "      <th>Unnamed: 0</th>\n",
       "      <th>0</th>\n",
       "      <th>1</th>\n",
       "      <th>2</th>\n",
       "      <th>3</th>\n",
       "    </tr>\n",
       "  </thead>\n",
       "  <tbody>\n",
       "    <tr>\n",
       "      <th>0</th>\n",
       "      <td>1</td>\n",
       "      <td>맞아, 여자는 몸만 대주면 돈 많이 받잖아</td>\n",
       "      <td>2</td>\n",
       "      <td>['맞', '어', ',', '여자', '는', '몸', '만', '대', '어',...</td>\n",
       "      <td>대,어,주,대어주</td>\n",
       "    </tr>\n",
       "    <tr>\n",
       "      <th>1</th>\n",
       "      <td>2</td>\n",
       "      <td>소추 한남들은 소추라서 소심한 건가?</td>\n",
       "      <td>2</td>\n",
       "      <td>['소추', '한', '남', '들', '은', '소추', '이', '라서', '소...</td>\n",
       "      <td>소추</td>\n",
       "    </tr>\n",
       "    <tr>\n",
       "      <th>2</th>\n",
       "      <td>3</td>\n",
       "      <td>대딸이나 에프터도 가능한가요?</td>\n",
       "      <td>2</td>\n",
       "      <td>['대', '딸', '이나', '에프터', '도', '가능', '하', 'ᆫ가', ...</td>\n",
       "      <td>대,딸,대딸</td>\n",
       "    </tr>\n",
       "    <tr>\n",
       "      <th>3</th>\n",
       "      <td>4</td>\n",
       "      <td>다리 벌려 줘도 안 박을 것 같아</td>\n",
       "      <td>2</td>\n",
       "      <td>['다리', '벌리', '어', '주', '어도', '안', '박', '을', '것...</td>\n",
       "      <td>벌리,박,을,박을</td>\n",
       "    </tr>\n",
       "    <tr>\n",
       "      <th>4</th>\n",
       "      <td>5</td>\n",
       "      <td>회춘에는 꼬튜물만한게 없더라</td>\n",
       "      <td>2</td>\n",
       "      <td>['회춘', '에', '는', '꼬튜물', '만', '하', 'ᆫ', '것', '이...</td>\n",
       "      <td>꼬튜물,꼬추물,고추물</td>\n",
       "    </tr>\n",
       "  </tbody>\n",
       "</table>\n",
       "</div>"
      ],
      "text/plain": [
       "   Unnamed: 0                        0  1  \\\n",
       "0           1  맞아, 여자는 몸만 대주면 돈 많이 받잖아  2   \n",
       "1           2     소추 한남들은 소추라서 소심한 건가?  2   \n",
       "2           3         대딸이나 에프터도 가능한가요?  2   \n",
       "3           4       다리 벌려 줘도 안 박을 것 같아  2   \n",
       "4           5          회춘에는 꼬튜물만한게 없더라  2   \n",
       "\n",
       "                                                   2            3  \n",
       "0  ['맞', '어', ',', '여자', '는', '몸', '만', '대', '어',...    대,어,주,대어주  \n",
       "1  ['소추', '한', '남', '들', '은', '소추', '이', '라서', '소...           소추  \n",
       "2  ['대', '딸', '이나', '에프터', '도', '가능', '하', 'ᆫ가', ...       대,딸,대딸  \n",
       "3  ['다리', '벌리', '어', '주', '어도', '안', '박', '을', '것...    벌리,박,을,박을  \n",
       "4  ['회춘', '에', '는', '꼬튜물', '만', '하', 'ᆫ', '것', '이...  꼬튜물,꼬추물,고추물  "
      ]
     },
     "execution_count": 3,
     "metadata": {},
     "output_type": "execute_result"
    }
   ],
   "source": [
    "df.head()"
   ]
  },
  {
   "cell_type": "code",
   "execution_count": 4,
   "id": "d888d6a7",
   "metadata": {},
   "outputs": [
    {
     "name": "stdout",
     "output_type": "stream",
     "text": [
      "1392\n"
     ]
    }
   ],
   "source": [
    "sexual_dict = set()\n",
    "for temp in df['3']:\n",
    "    temp = temp.replace('.',',') # 실수 커버용\n",
    "    sexual_dict.update(temp.split(','))\n",
    "\n",
    "print(len(sexual_dict))\n",
    "sexual_dict = list(sexual_dict)\n",
    "sexual_dict.sort()"
   ]
  },
  {
   "cell_type": "code",
   "execution_count": 5,
   "id": "865efec1",
   "metadata": {},
   "outputs": [
    {
     "data": {
      "text/plain": [
       "['19금',\n",
       " '가랑',\n",
       " '가랑이',\n",
       " '가랭이',\n",
       " '가만',\n",
       " '가슴',\n",
       " '가슴골',\n",
       " '가슴털기',\n",
       " '가슴팍',\n",
       " '가죽몽댕이',\n",
       " '가짜버지',\n",
       " '가짜보지',\n",
       " '가치',\n",
       " '가터',\n",
       " '가터벨트',\n",
       " '각',\n",
       " '각선미',\n",
       " '갈두',\n",
       " '감',\n",
       " '강간',\n",
       " '강직',\n",
       " '강직도',\n",
       " '개',\n",
       " '개꼴',\n",
       " '개꼴리',\n",
       " '개꼴리네',\n",
       " '개딱먹고',\n",
       " '개보지',\n",
       " '개봉',\n",
       " '개봊이']"
      ]
     },
     "execution_count": 5,
     "metadata": {},
     "output_type": "execute_result"
    }
   ],
   "source": [
    "sexual_dict[:30]"
   ]
  },
  {
   "cell_type": "markdown",
   "id": "476341df",
   "metadata": {},
   "source": [
    "# 2. Convert list to csv"
   ]
  },
  {
   "cell_type": "code",
   "execution_count": 6,
   "id": "1c72d5eb",
   "metadata": {},
   "outputs": [],
   "source": [
    "df2 = pd.DataFrame(sexual_dict)"
   ]
  },
  {
   "cell_type": "code",
   "execution_count": 7,
   "id": "401b21b9",
   "metadata": {},
   "outputs": [
    {
     "data": {
      "text/html": [
       "<div>\n",
       "<style scoped>\n",
       "    .dataframe tbody tr th:only-of-type {\n",
       "        vertical-align: middle;\n",
       "    }\n",
       "\n",
       "    .dataframe tbody tr th {\n",
       "        vertical-align: top;\n",
       "    }\n",
       "\n",
       "    .dataframe thead th {\n",
       "        text-align: right;\n",
       "    }\n",
       "</style>\n",
       "<table border=\"1\" class=\"dataframe\">\n",
       "  <thead>\n",
       "    <tr style=\"text-align: right;\">\n",
       "      <th></th>\n",
       "      <th>0</th>\n",
       "    </tr>\n",
       "  </thead>\n",
       "  <tbody>\n",
       "    <tr>\n",
       "      <th>1387</th>\n",
       "      <td>흔들리는</td>\n",
       "    </tr>\n",
       "    <tr>\n",
       "      <th>1388</th>\n",
       "      <td>흘리</td>\n",
       "    </tr>\n",
       "    <tr>\n",
       "      <th>1389</th>\n",
       "      <td>흥분</td>\n",
       "    </tr>\n",
       "    <tr>\n",
       "      <th>1390</th>\n",
       "      <td>희롱</td>\n",
       "    </tr>\n",
       "    <tr>\n",
       "      <th>1391</th>\n",
       "      <td>힙</td>\n",
       "    </tr>\n",
       "  </tbody>\n",
       "</table>\n",
       "</div>"
      ],
      "text/plain": [
       "         0\n",
       "1387  흔들리는\n",
       "1388    흘리\n",
       "1389    흥분\n",
       "1390    희롱\n",
       "1391     힙"
      ]
     },
     "execution_count": 7,
     "metadata": {},
     "output_type": "execute_result"
    }
   ],
   "source": [
    "df2.tail()"
   ]
  },
  {
   "cell_type": "code",
   "execution_count": 8,
   "id": "cd94e0e2",
   "metadata": {},
   "outputs": [],
   "source": [
    "df2.to_csv(\"sexual_dictionary.csv\",encoding=\"utf-8-sig\")"
   ]
  },
  {
   "cell_type": "code",
   "execution_count": null,
   "id": "0693db18",
   "metadata": {},
   "outputs": [],
   "source": []
  }
 ],
 "metadata": {
  "kernelspec": {
   "display_name": "Python 3 (ipykernel)",
   "language": "python",
   "name": "python3"
  },
  "language_info": {
   "codemirror_mode": {
    "name": "ipython",
    "version": 3
   },
   "file_extension": ".py",
   "mimetype": "text/x-python",
   "name": "python",
   "nbconvert_exporter": "python",
   "pygments_lexer": "ipython3",
   "version": "3.9.16"
  }
 },
 "nbformat": 4,
 "nbformat_minor": 5
}
