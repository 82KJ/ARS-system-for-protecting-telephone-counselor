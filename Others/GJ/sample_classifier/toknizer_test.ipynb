{
  "nbformat": 4,
  "nbformat_minor": 0,
  "metadata": {
    "colab": {
      "provenance": []
    },
    "kernelspec": {
      "name": "python3",
      "display_name": "Python 3"
    },
    "language_info": {
      "name": "python"
    }
  },
  "cells": [
    {
      "cell_type": "code",
      "source": [
        "from kobert.utils import get_tokenizer\n",
        "from kobert.pytorch_kobert import get_pytorch_kobert_model"
      ],
      "metadata": {
        "id": "osA8wpCjwCsA"
      },
      "execution_count": 55,
      "outputs": []
    },
    {
      "cell_type": "code",
      "source": [
        "from transformers import AdamW\n",
        "from transformers.optimization import get_cosine_schedule_with_warmup"
      ],
      "metadata": {
        "id": "yo4qI9GUwE4n"
      },
      "execution_count": 56,
      "outputs": []
    },
    {
      "cell_type": "code",
      "source": [
        "from gluonnlp.data import SentencepieceTokenizer\n",
        "from kobert import get_tokenizer\n",
        "from konlpy.tag import Kkma\n",
        "from konlpy.tag import Okt"
      ],
      "metadata": {
        "id": "54v_PpCvwsok"
      },
      "execution_count": 63,
      "outputs": []
    },
    {
      "cell_type": "code",
      "source": [
        "tok_path = get_tokenizer()\n",
        "sp  = SentencepieceTokenizer(tok_path)\n",
        "kkma = Kkma()\n",
        "okt = Okt()"
      ],
      "metadata": {
        "colab": {
          "base_uri": "https://localhost:8080/"
        },
        "id": "_DbWvBOc2Wvv",
        "outputId": "57e78946-f5dc-40dd-eb78-83bb01c68ded"
      },
      "execution_count": 64,
      "outputs": [
        {
          "output_type": "stream",
          "name": "stdout",
          "text": [
            "using cached model. /content/.cache/kobert_news_wiki_ko_cased-1087f8699e.spiece\n"
          ]
        }
      ]
    },
    {
      "cell_type": "code",
      "source": [
        "sp(\"고객님, 무엇을 도와드립니까\"), kkma.morphs(\"고객님, 무엇을 도와드립니까\")"
      ],
      "metadata": {
        "colab": {
          "base_uri": "https://localhost:8080/"
        },
        "id": "XzOMSN6oyuBb",
        "outputId": "49d7e90e-1cb8-40cd-ec5b-d1088ce1dda9"
      },
      "execution_count": 69,
      "outputs": [
        {
          "output_type": "execute_result",
          "data": {
            "text/plain": [
              "(['▁고객', '님', ',', '▁무', '엇', '을', '▁도와', '드', '립', '니까'],\n",
              " ['고객', '님', ',', '무엇', '을', '돕', '아', '드리', 'ㅂ니까'])"
            ]
          },
          "metadata": {},
          "execution_count": 69
        }
      ]
    },
    {
      "cell_type": "code",
      "source": [
        "sp(\"누가 일을 이따위로 처리하래\"), kkma.morphs(\"누가 일을 이따위로 처리하래\")"
      ],
      "metadata": {
        "colab": {
          "base_uri": "https://localhost:8080/"
        },
        "id": "MxROoWSaz-7R",
        "outputId": "c41c24e0-091f-49e7-c376-35b62263940b"
      },
      "execution_count": 70,
      "outputs": [
        {
          "output_type": "execute_result",
          "data": {
            "text/plain": [
              "(['▁누가', '▁일을', '▁이', '따', '위로', '▁처리', '하', '래'],\n",
              " ['누', '가', '일', '을', '이', '따위', '로', '처리', '하래'])"
            ]
          },
          "metadata": {},
          "execution_count": 70
        }
      ]
    },
    {
      "cell_type": "code",
      "source": [
        "sp(\"고객님, 그런 말씀은 삼가 부탁드립니다\"), kkma.morphs(\"고객님, 그런 말씀은 삼가 부탁드립니다\")"
      ],
      "metadata": {
        "colab": {
          "base_uri": "https://localhost:8080/"
        },
        "id": "02Lh7FFV0eZj",
        "outputId": "c821fa9b-07b2-4a2d-a723-bb4644b38dec"
      },
      "execution_count": 71,
      "outputs": [
        {
          "output_type": "execute_result",
          "data": {
            "text/plain": [
              "(['▁고객', '님', ',', '▁그런', '▁말씀', '은', '▁삼', '가', '▁부탁', '드립니다'],\n",
              " ['고객', '님', ',', '그런', '말씀', '은', '삼가', '부탁', '드리', 'ㅂ니다'])"
            ]
          },
          "metadata": {},
          "execution_count": 71
        }
      ]
    },
    {
      "cell_type": "code",
      "source": [
        "sp(\"닥쳐, 나한테 죽고 싶어?\"), kkma.morphs(\"닥쳐, 나한테 죽고 싶어?\")"
      ],
      "metadata": {
        "colab": {
          "base_uri": "https://localhost:8080/"
        },
        "id": "iGZR3tNs0g8r",
        "outputId": "7779ca1e-3d52-4bc5-dd42-dbf275d37ae0"
      },
      "execution_count": 72,
      "outputs": [
        {
          "output_type": "execute_result",
          "data": {
            "text/plain": [
              "(['▁', '닥', '쳐', ',', '▁나', '한테', '▁죽', '고', '▁싶어', '?'],\n",
              " ['닥치', '어', ',', '나', '한테', '죽', '고', '싶', '어', '?'])"
            ]
          },
          "metadata": {},
          "execution_count": 72
        }
      ]
    },
    {
      "cell_type": "code",
      "source": [],
      "metadata": {
        "id": "3k8-vtyx5DSV"
      },
      "execution_count": null,
      "outputs": []
    }
  ]
}