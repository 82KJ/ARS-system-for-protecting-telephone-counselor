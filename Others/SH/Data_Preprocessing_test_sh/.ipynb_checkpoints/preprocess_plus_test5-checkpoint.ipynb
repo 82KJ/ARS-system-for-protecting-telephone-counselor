{
 "cells": [
  {
   "cell_type": "markdown",
   "id": "024483d6",
   "metadata": {},
   "source": [
    "## Json Load"
   ]
  },
  {
   "cell_type": "code",
   "execution_count": 1,
   "id": "f1bf89ac",
   "metadata": {},
   "outputs": [],
   "source": [
    "import pandas as pd\n",
    "import json"
   ]
  },
  {
   "cell_type": "code",
   "execution_count": 2,
   "id": "f69a97fd",
   "metadata": {},
   "outputs": [],
   "source": [
    "with open(\"5.json\", \"r\", encoding=\"UTF-8\") as f:\n",
    "    data = json.load(f)"
   ]
  },
  {
   "cell_type": "markdown",
   "id": "c6c7c327",
   "metadata": {},
   "source": [
    "## Json to List"
   ]
  },
  {
   "cell_type": "code",
   "execution_count": 3,
   "id": "abd8f985",
   "metadata": {},
   "outputs": [],
   "source": [
    "res = []"
   ]
  },
  {
   "cell_type": "code",
   "execution_count": 4,
   "id": "9aaeef8d",
   "metadata": {},
   "outputs": [],
   "source": [
    "for frame in data:\n",
    "    for sentence in frame[\"sentences\"]:\n",
    "        if \"#\" not in sentence[\"origin_text\"]:\n",
    "            res.append([sentence[\"origin_text\"], sentence[\"types\"]])"
   ]
  },
  {
   "cell_type": "code",
   "execution_count": 5,
   "id": "a95668d5",
   "metadata": {},
   "outputs": [
    {
     "data": {
      "text/plain": [
       "85352"
      ]
     },
     "execution_count": 5,
     "metadata": {},
     "output_type": "execute_result"
    }
   ],
   "source": [
    "len(res)"
   ]
  },
  {
   "cell_type": "code",
   "execution_count": 6,
   "id": "6620b85e",
   "metadata": {},
   "outputs": [
    {
     "data": {
      "text/plain": [
       "[['형광색 바지 입는 급식들 왜 이렇게 많아?', ['IMMORAL_NONE']],\n",
       " ['ㅈ같은 유행 돌았나보네ㅋㅋ', ['ABUSE']],\n",
       " ['형광 바지 입고 모여있는 급식무리 잡아서 패죽여야 하는데', ['VIOLENCE']],\n",
       " ['자기 몸 긍정 운동가들이라고 하면서 꼴값 떠는 한녀들을 죽여 버리고 싶다.', ['HATE', 'VIOLENCE']],\n",
       " ['자기 몸을 긍정하는 건 오히려 바람직한 거 아니야?', ['IMMORAL_NONE']],\n",
       " ['뚱뚱하다고 자기 몸을 혐오하는 건 바람직하지 않잖아.', ['IMMORAL_NONE']],\n",
       " ['근데 자기 몸을 긍정한다고 뚱뚱한 걸 방치하는 경우도 있잖아.', ['IMMORAL_NONE']],\n",
       " ['뚱뚱한 걸 방치하는 건 자기 건강을 해치는 행위지.', ['IMMORAL_NONE']],\n",
       " ['난 아침에는 항상 시리얼을 먹어', ['IMMORAL_NONE']],\n",
       " ['그딴 과자부스러기를 왜먹어?', ['CENSURE']]]"
      ]
     },
     "execution_count": 6,
     "metadata": {},
     "output_type": "execute_result"
    }
   ],
   "source": [
    "res[:10]"
   ]
  },
  {
   "cell_type": "code",
   "execution_count": 7,
   "id": "20016099",
   "metadata": {},
   "outputs": [],
   "source": [
    "for x in res:\n",
    "    if \"SEXUAL\" in x[1]:\n",
    "        x[1] = 2\n",
    "    elif \"IMMORAL_NONE\" in x[1]:\n",
    "        x[1] = 0\n",
    "    else:\n",
    "        x[1] = 1"
   ]
  },
  {
   "cell_type": "code",
   "execution_count": 8,
   "id": "16f7bd87",
   "metadata": {},
   "outputs": [
    {
     "data": {
      "text/plain": [
       "[['형광색 바지 입는 급식들 왜 이렇게 많아?', 0],\n",
       " ['ㅈ같은 유행 돌았나보네ㅋㅋ', 1],\n",
       " ['형광 바지 입고 모여있는 급식무리 잡아서 패죽여야 하는데', 1],\n",
       " ['자기 몸 긍정 운동가들이라고 하면서 꼴값 떠는 한녀들을 죽여 버리고 싶다.', 1],\n",
       " ['자기 몸을 긍정하는 건 오히려 바람직한 거 아니야?', 0],\n",
       " ['뚱뚱하다고 자기 몸을 혐오하는 건 바람직하지 않잖아.', 0],\n",
       " ['근데 자기 몸을 긍정한다고 뚱뚱한 걸 방치하는 경우도 있잖아.', 0],\n",
       " ['뚱뚱한 걸 방치하는 건 자기 건강을 해치는 행위지.', 0],\n",
       " ['난 아침에는 항상 시리얼을 먹어', 0],\n",
       " ['그딴 과자부스러기를 왜먹어?', 1]]"
      ]
     },
     "execution_count": 8,
     "metadata": {},
     "output_type": "execute_result"
    }
   ],
   "source": [
    "res[:10]"
   ]
  },
  {
   "cell_type": "markdown",
   "id": "ba6c334c",
   "metadata": {},
   "source": [
    "## List to CSV"
   ]
  },
  {
   "cell_type": "code",
   "execution_count": 9,
   "id": "d977d236",
   "metadata": {},
   "outputs": [],
   "source": [
    "df = pd.DataFrame(res)"
   ]
  },
  {
   "cell_type": "code",
   "execution_count": 10,
   "id": "71a14fc5",
   "metadata": {},
   "outputs": [
    {
     "data": {
      "text/html": [
       "<div>\n",
       "<style scoped>\n",
       "    .dataframe tbody tr th:only-of-type {\n",
       "        vertical-align: middle;\n",
       "    }\n",
       "\n",
       "    .dataframe tbody tr th {\n",
       "        vertical-align: top;\n",
       "    }\n",
       "\n",
       "    .dataframe thead th {\n",
       "        text-align: right;\n",
       "    }\n",
       "</style>\n",
       "<table border=\"1\" class=\"dataframe\">\n",
       "  <thead>\n",
       "    <tr style=\"text-align: right;\">\n",
       "      <th></th>\n",
       "      <th>0</th>\n",
       "      <th>1</th>\n",
       "    </tr>\n",
       "  </thead>\n",
       "  <tbody>\n",
       "    <tr>\n",
       "      <th>0</th>\n",
       "      <td>형광색 바지 입는 급식들 왜 이렇게 많아?</td>\n",
       "      <td>0</td>\n",
       "    </tr>\n",
       "    <tr>\n",
       "      <th>1</th>\n",
       "      <td>ㅈ같은 유행 돌았나보네ㅋㅋ</td>\n",
       "      <td>1</td>\n",
       "    </tr>\n",
       "    <tr>\n",
       "      <th>2</th>\n",
       "      <td>형광 바지 입고 모여있는 급식무리 잡아서 패죽여야 하는데</td>\n",
       "      <td>1</td>\n",
       "    </tr>\n",
       "    <tr>\n",
       "      <th>3</th>\n",
       "      <td>자기 몸 긍정 운동가들이라고 하면서 꼴값 떠는 한녀들을 죽여 버리고 싶다.</td>\n",
       "      <td>1</td>\n",
       "    </tr>\n",
       "    <tr>\n",
       "      <th>4</th>\n",
       "      <td>자기 몸을 긍정하는 건 오히려 바람직한 거 아니야?</td>\n",
       "      <td>0</td>\n",
       "    </tr>\n",
       "  </tbody>\n",
       "</table>\n",
       "</div>"
      ],
      "text/plain": [
       "                                           0  1\n",
       "0                    형광색 바지 입는 급식들 왜 이렇게 많아?  0\n",
       "1                             ㅈ같은 유행 돌았나보네ㅋㅋ  1\n",
       "2            형광 바지 입고 모여있는 급식무리 잡아서 패죽여야 하는데  1\n",
       "3  자기 몸 긍정 운동가들이라고 하면서 꼴값 떠는 한녀들을 죽여 버리고 싶다.  1\n",
       "4               자기 몸을 긍정하는 건 오히려 바람직한 거 아니야?  0"
      ]
     },
     "execution_count": 10,
     "metadata": {},
     "output_type": "execute_result"
    }
   ],
   "source": [
    "df.head()"
   ]
  },
  {
   "cell_type": "markdown",
   "id": "11ba93f9",
   "metadata": {},
   "source": []
  },
  {
   "cell_type": "code",
   "execution_count": 11,
   "id": "efcf1b47",
   "metadata": {},
   "outputs": [],
   "source": [
    "df.to_csv(\"sample_data_plus_5.csv\", encoding=\"utf-8-sig\")"
   ]
  },
  {
   "cell_type": "code",
   "execution_count": null,
   "id": "12efd04b",
   "metadata": {},
   "outputs": [],
   "source": []
  }
 ],
 "metadata": {
  "kernelspec": {
   "display_name": "Python 3 (ipykernel)",
   "language": "python",
   "name": "python3"
  },
  "language_info": {
   "codemirror_mode": {
    "name": "ipython",
    "version": 3
   },
   "file_extension": ".py",
   "mimetype": "text/x-python",
   "name": "python",
   "nbconvert_exporter": "python",
   "pygments_lexer": "ipython3",
   "version": "3.9.7"
  }
 },
 "nbformat": 4,
 "nbformat_minor": 5
}
