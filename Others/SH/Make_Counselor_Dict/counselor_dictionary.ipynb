{
  "nbformat": 4,
  "nbformat_minor": 0,
  "metadata": {
    "colab": {
      "provenance": [],
      "mount_file_id": "1_CTSuronJxWsh7rlcxP1BwiJaip6MtpM",
      "authorship_tag": "ABX9TyPISkKSWbB3+xqANC/lsKTi",
      "include_colab_link": true
    },
    "kernelspec": {
      "name": "python3",
      "display_name": "Python 3"
    },
    "language_info": {
      "name": "python"
    },
    "accelerator": "GPU",
    "gpuClass": "standard"
  },
  "cells": [
    {
      "cell_type": "markdown",
      "metadata": {
        "id": "view-in-github",
        "colab_type": "text"
      },
      "source": [
        "<a href=\"https://colab.research.google.com/github/82KJ/ARS-system-for-protecting-telephone-counselor/blob/main/SH/Make_Counselor_Dict/counselor_dictionary.ipynb\" target=\"_parent\"><img src=\"https://colab.research.google.com/assets/colab-badge.svg\" alt=\"Open In Colab\"/></a>"
      ]
    },
    {
      "cell_type": "code",
      "source": [
        "from google.colab import drive\n",
        "drive.mount('/content/drive')"
      ],
      "metadata": {
        "colab": {
          "base_uri": "https://localhost:8080/"
        },
        "id": "nB4A7nmuOEfO",
        "outputId": "beaf255f-5b7e-4c27-f19e-9e878657ed31"
      },
      "execution_count": 1,
      "outputs": [
        {
          "output_type": "stream",
          "name": "stdout",
          "text": [
            "Mounted at /content/drive\n"
          ]
        }
      ]
    },
    {
      "cell_type": "code",
      "source": [
        "cd /content/drive/MyDrive/ARS-system-for-protecting-telephone-counselor/SH/Dataset/"
      ],
      "metadata": {
        "colab": {
          "base_uri": "https://localhost:8080/"
        },
        "id": "AWNBWEENOlyl",
        "outputId": "8b69d94a-4fbc-414a-fc73-b3e2a313772c"
      },
      "execution_count": 2,
      "outputs": [
        {
          "output_type": "stream",
          "name": "stdout",
          "text": [
            "/content/drive/MyDrive/ARS-system-for-protecting-telephone-counselor/SH/Dataset\n"
          ]
        }
      ]
    },
    {
      "cell_type": "code",
      "source": [
        "import pandas as pd\n",
        "import csv\n",
        "\n",
        "counslr = pd.read_csv(\"counselor_morphs_set.csv\")"
      ],
      "metadata": {
        "id": "lXgNPmD0O13z"
      },
      "execution_count": 4,
      "outputs": []
    },
    {
      "cell_type": "code",
      "source": [
        "counslr_dict = set()\n",
        "for temp in counslr['2']:\n",
        "  temp = temp.replace('.',',') \n",
        "  temp = temp.replace('\\'','')\n",
        "  temp = temp.replace(' ','')\n",
        "  counslr_dict.update(temp.split(','))"
      ],
      "metadata": {
        "id": "2JTEc7o90lTl"
      },
      "execution_count": 7,
      "outputs": []
    },
    {
      "cell_type": "code",
      "source": [
        "print(len(counslr_dict))"
      ],
      "metadata": {
        "colab": {
          "base_uri": "https://localhost:8080/"
        },
        "id": "xPRPn00t07Zr",
        "outputId": "2669d690-fa5b-47b3-d7ab-81b64987c328"
      },
      "execution_count": 8,
      "outputs": [
        {
          "output_type": "stream",
          "name": "stdout",
          "text": [
            "131\n"
          ]
        }
      ]
    },
    {
      "cell_type": "code",
      "source": [
        "counslr_dict = list(counslr_dict)\n",
        "counslr_dict.sort()"
      ],
      "metadata": {
        "id": "lSFRVZfW09DO"
      },
      "execution_count": 9,
      "outputs": []
    },
    {
      "cell_type": "code",
      "source": [
        "counslr_dict[30:]"
      ],
      "metadata": {
        "colab": {
          "base_uri": "https://localhost:8080/"
        },
        "id": "RjdqMItz1BZt",
        "outputId": "e26ee4f9-82ee-4555-c7e8-e721e392a259"
      },
      "execution_count": 13,
      "outputs": [
        {
          "output_type": "execute_result",
          "data": {
            "text/plain": [
              "['드리',\n",
              " '듣',\n",
              " '라',\n",
              " '마음',\n",
              " '말씀',\n",
              " '면',\n",
              " '모욕',\n",
              " '민원',\n",
              " '민원인',\n",
              " '받',\n",
              " '발생',\n",
              " '벌금',\n",
              " '범죄',\n",
              " '법',\n",
              " '법령',\n",
              " '법률',\n",
              " '법적',\n",
              " '부분',\n",
              " '부탁',\n",
              " '불',\n",
              " '불안감',\n",
              " '불편',\n",
              " '사용',\n",
              " '삼가',\n",
              " '상담',\n",
              " '선생',\n",
              " '성',\n",
              " '성폭력',\n",
              " '성희롱',\n",
              " '수',\n",
              " '수치심',\n",
              " '수행',\n",
              " '습니다',\n",
              " '시',\n",
              " '시키',\n",
              " '심하',\n",
              " '안내',\n",
              " '앉히',\n",
              " '않',\n",
              " '알리',\n",
              " '어',\n",
              " '어려',\n",
              " '어렵',\n",
              " '어서',\n",
              " '언어폭력',\n",
              " '언행',\n",
              " '업무',\n",
              " '없',\n",
              " '에',\n",
              " '예정',\n",
              " '요청',\n",
              " '욕설',\n",
              " '위법',\n",
              " '을',\n",
              " '응대',\n",
              " '이',\n",
              " '이런',\n",
              " '이만',\n",
              " '이상',\n",
              " '이익',\n",
              " '있',\n",
              " '있음',\n",
              " '자제',\n",
              " '저',\n",
              " '저촉',\n",
              " '적',\n",
              " '전화',\n",
              " '절대',\n",
              " '정확',\n",
              " '제',\n",
              " '조',\n",
              " '조성',\n",
              " '조치',\n",
              " '종료',\n",
              " '죄',\n",
              " '죄송',\n",
              " '주',\n",
              " '주시',\n",
              " '중단',\n",
              " '중지',\n",
              " '즉시',\n",
              " '지만',\n",
              " '지속',\n",
              " '지장',\n",
              " '직원',\n",
              " '진행',\n",
              " '징역',\n",
              " '차분',\n",
              " '차분히',\n",
              " '처벌',\n",
              " '추후',\n",
              " '통화',\n",
              " '특례법',\n",
              " '폭언',\n",
              " '하',\n",
              " '해당',\n",
              " '행위',\n",
              " '혐오감',\n",
              " '협박',\n",
              " '형법',\n",
              " '화']"
            ]
          },
          "metadata": {},
          "execution_count": 13
        }
      ]
    },
    {
      "cell_type": "markdown",
      "source": [
        "**Convert List to CSV**"
      ],
      "metadata": {
        "id": "GFCcWkg21TLh"
      }
    },
    {
      "cell_type": "code",
      "source": [
        "df = pd.DataFrame(counslr_dict)"
      ],
      "metadata": {
        "id": "iowDYWI11E3a"
      },
      "execution_count": 14,
      "outputs": []
    },
    {
      "cell_type": "code",
      "source": [
        "df.head()"
      ],
      "metadata": {
        "colab": {
          "base_uri": "https://localhost:8080/",
          "height": 206
        },
        "id": "WUwLWfK_1ed7",
        "outputId": "ab4cc999-298d-4f03-e992-fc33950e1f3b"
      },
      "execution_count": 15,
      "outputs": [
        {
          "output_type": "execute_result",
          "data": {
            "text/plain": [
              "      0\n",
              "0      \n",
              "1     ㄹ\n",
              "2     가\n",
              "3  가라앉히\n",
              "4    가리"
            ],
            "text/html": [
              "\n",
              "  <div id=\"df-1922f955-7e3e-4c6f-baf5-1d131fbd9a9e\">\n",
              "    <div class=\"colab-df-container\">\n",
              "      <div>\n",
              "<style scoped>\n",
              "    .dataframe tbody tr th:only-of-type {\n",
              "        vertical-align: middle;\n",
              "    }\n",
              "\n",
              "    .dataframe tbody tr th {\n",
              "        vertical-align: top;\n",
              "    }\n",
              "\n",
              "    .dataframe thead th {\n",
              "        text-align: right;\n",
              "    }\n",
              "</style>\n",
              "<table border=\"1\" class=\"dataframe\">\n",
              "  <thead>\n",
              "    <tr style=\"text-align: right;\">\n",
              "      <th></th>\n",
              "      <th>0</th>\n",
              "    </tr>\n",
              "  </thead>\n",
              "  <tbody>\n",
              "    <tr>\n",
              "      <th>0</th>\n",
              "      <td></td>\n",
              "    </tr>\n",
              "    <tr>\n",
              "      <th>1</th>\n",
              "      <td>ㄹ</td>\n",
              "    </tr>\n",
              "    <tr>\n",
              "      <th>2</th>\n",
              "      <td>가</td>\n",
              "    </tr>\n",
              "    <tr>\n",
              "      <th>3</th>\n",
              "      <td>가라앉히</td>\n",
              "    </tr>\n",
              "    <tr>\n",
              "      <th>4</th>\n",
              "      <td>가리</td>\n",
              "    </tr>\n",
              "  </tbody>\n",
              "</table>\n",
              "</div>\n",
              "      <button class=\"colab-df-convert\" onclick=\"convertToInteractive('df-1922f955-7e3e-4c6f-baf5-1d131fbd9a9e')\"\n",
              "              title=\"Convert this dataframe to an interactive table.\"\n",
              "              style=\"display:none;\">\n",
              "        \n",
              "  <svg xmlns=\"http://www.w3.org/2000/svg\" height=\"24px\"viewBox=\"0 0 24 24\"\n",
              "       width=\"24px\">\n",
              "    <path d=\"M0 0h24v24H0V0z\" fill=\"none\"/>\n",
              "    <path d=\"M18.56 5.44l.94 2.06.94-2.06 2.06-.94-2.06-.94-.94-2.06-.94 2.06-2.06.94zm-11 1L8.5 8.5l.94-2.06 2.06-.94-2.06-.94L8.5 2.5l-.94 2.06-2.06.94zm10 10l.94 2.06.94-2.06 2.06-.94-2.06-.94-.94-2.06-.94 2.06-2.06.94z\"/><path d=\"M17.41 7.96l-1.37-1.37c-.4-.4-.92-.59-1.43-.59-.52 0-1.04.2-1.43.59L10.3 9.45l-7.72 7.72c-.78.78-.78 2.05 0 2.83L4 21.41c.39.39.9.59 1.41.59.51 0 1.02-.2 1.41-.59l7.78-7.78 2.81-2.81c.8-.78.8-2.07 0-2.86zM5.41 20L4 18.59l7.72-7.72 1.47 1.35L5.41 20z\"/>\n",
              "  </svg>\n",
              "      </button>\n",
              "      \n",
              "  <style>\n",
              "    .colab-df-container {\n",
              "      display:flex;\n",
              "      flex-wrap:wrap;\n",
              "      gap: 12px;\n",
              "    }\n",
              "\n",
              "    .colab-df-convert {\n",
              "      background-color: #E8F0FE;\n",
              "      border: none;\n",
              "      border-radius: 50%;\n",
              "      cursor: pointer;\n",
              "      display: none;\n",
              "      fill: #1967D2;\n",
              "      height: 32px;\n",
              "      padding: 0 0 0 0;\n",
              "      width: 32px;\n",
              "    }\n",
              "\n",
              "    .colab-df-convert:hover {\n",
              "      background-color: #E2EBFA;\n",
              "      box-shadow: 0px 1px 2px rgba(60, 64, 67, 0.3), 0px 1px 3px 1px rgba(60, 64, 67, 0.15);\n",
              "      fill: #174EA6;\n",
              "    }\n",
              "\n",
              "    [theme=dark] .colab-df-convert {\n",
              "      background-color: #3B4455;\n",
              "      fill: #D2E3FC;\n",
              "    }\n",
              "\n",
              "    [theme=dark] .colab-df-convert:hover {\n",
              "      background-color: #434B5C;\n",
              "      box-shadow: 0px 1px 3px 1px rgba(0, 0, 0, 0.15);\n",
              "      filter: drop-shadow(0px 1px 2px rgba(0, 0, 0, 0.3));\n",
              "      fill: #FFFFFF;\n",
              "    }\n",
              "  </style>\n",
              "\n",
              "      <script>\n",
              "        const buttonEl =\n",
              "          document.querySelector('#df-1922f955-7e3e-4c6f-baf5-1d131fbd9a9e button.colab-df-convert');\n",
              "        buttonEl.style.display =\n",
              "          google.colab.kernel.accessAllowed ? 'block' : 'none';\n",
              "\n",
              "        async function convertToInteractive(key) {\n",
              "          const element = document.querySelector('#df-1922f955-7e3e-4c6f-baf5-1d131fbd9a9e');\n",
              "          const dataTable =\n",
              "            await google.colab.kernel.invokeFunction('convertToInteractive',\n",
              "                                                     [key], {});\n",
              "          if (!dataTable) return;\n",
              "\n",
              "          const docLinkHtml = 'Like what you see? Visit the ' +\n",
              "            '<a target=\"_blank\" href=https://colab.research.google.com/notebooks/data_table.ipynb>data table notebook</a>'\n",
              "            + ' to learn more about interactive tables.';\n",
              "          element.innerHTML = '';\n",
              "          dataTable['output_type'] = 'display_data';\n",
              "          await google.colab.output.renderOutput(dataTable, element);\n",
              "          const docLink = document.createElement('div');\n",
              "          docLink.innerHTML = docLinkHtml;\n",
              "          element.appendChild(docLink);\n",
              "        }\n",
              "      </script>\n",
              "    </div>\n",
              "  </div>\n",
              "  "
            ]
          },
          "metadata": {},
          "execution_count": 15
        }
      ]
    },
    {
      "cell_type": "code",
      "source": [
        "df.to_csv(\"Counselor_dictionary.csv\",encoding = \"utf-8-sig\")"
      ],
      "metadata": {
        "id": "Kq2PuUpp1f6a"
      },
      "execution_count": 16,
      "outputs": []
    },
    {
      "cell_type": "code",
      "source": [],
      "metadata": {
        "id": "H_RmV15E1qMP"
      },
      "execution_count": null,
      "outputs": []
    }
  ]
}