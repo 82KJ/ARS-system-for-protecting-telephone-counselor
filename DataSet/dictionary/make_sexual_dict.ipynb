{
 "cells": [
  {
   "cell_type": "markdown",
   "id": "ed7c1a0b",
   "metadata": {},
   "source": [
    "# 1. csv load & convert to list"
   ]
  },
  {
   "cell_type": "code",
   "execution_count": 15,
   "id": "40dac929",
   "metadata": {},
   "outputs": [],
   "source": [
    "import pandas as pd"
   ]
  },
  {
   "cell_type": "code",
   "execution_count": 26,
   "id": "84abb25c",
   "metadata": {},
   "outputs": [],
   "source": [
    "sexual2 = pd.read_csv(\"2_sexual.csv\")\n",
    "sexual3 = pd.read_csv(\"3_sexual.csv\")\n",
    "sexual4 = pd.read_csv(\"4_sexual.csv\")\n",
    "sexual5 = pd.read_csv(\"5_sexual.csv\")"
   ]
  },
  {
   "cell_type": "code",
   "execution_count": 29,
   "id": "d888d6a7",
   "metadata": {},
   "outputs": [
    {
     "name": "stdout",
     "output_type": "stream",
     "text": [
      "3697\n"
     ]
    }
   ],
   "source": [
    "sexual_dict = set()\n",
    "for temp in sexual2['3']:\n",
    "    temp = temp.replace('.',',') # 실수 커버용\n",
    "    temp = temp.replace('\\'','')\n",
    "    temp = temp.replace(' ','')\n",
    "    sexual_dict.update(temp.split(','))\n",
    "for temp in sexual3['3']:\n",
    "    temp = temp.replace('.',',') # 실수 커버용\n",
    "    temp = temp.replace('\\'','')\n",
    "    temp = temp.replace(' ','')\n",
    "    sexual_dict.update(temp.split(','))\n",
    "for temp in sexual4['3']:\n",
    "    temp = temp.replace('.',',') # 실수 커버용\n",
    "    temp = temp.replace('\\'','')\n",
    "    temp = temp.replace(' ','')\n",
    "    sexual_dict.update(temp.split(','))\n",
    "for temp in sexual5['3']:\n",
    "    temp = temp.replace('.',',') # 실수 커버용\n",
    "    temp = temp.replace('\\'','')\n",
    "    temp = temp.replace(' ','')\n",
    "    sexual_dict.update(temp.split(','))\n",
    "    \n",
    "print(len(sexual_dict))\n",
    "sexual_dict = list(sexual_dict)\n",
    "sexual_dict.sort()"
   ]
  },
  {
   "cell_type": "code",
   "execution_count": 31,
   "id": "865efec1",
   "metadata": {},
   "outputs": [
    {
     "data": {
      "text/plain": [
       "['',\n",
       " '19금',\n",
       " '6',\n",
       " '69',\n",
       " '69자세',\n",
       " '9cm',\n",
       " 'AV',\n",
       " 'A컵',\n",
       " 'DDR',\n",
       " 'G스팟',\n",
       " 'G스폿',\n",
       " 'SM플레이',\n",
       " 'av',\n",
       " 'av배우',\n",
       " 'ㄴ',\n",
       " 'ㄹ',\n",
       " 'ㅂㄱㅂㄱ',\n",
       " '가',\n",
       " '가능',\n",
       " '가랑',\n",
       " '가랑이',\n",
       " '가랑이빨이',\n",
       " '가랑이장사꾼',\n",
       " '가랭이',\n",
       " '가리',\n",
       " '가리개',\n",
       " '가만',\n",
       " '가면대준다는',\n",
       " '가버리',\n",
       " '가슴']"
      ]
     },
     "execution_count": 31,
     "metadata": {},
     "output_type": "execute_result"
    }
   ],
   "source": [
    "sexual_dict[:30]"
   ]
  },
  {
   "cell_type": "markdown",
   "id": "476341df",
   "metadata": {},
   "source": [
    "# 2. Convert list to csv"
   ]
  },
  {
   "cell_type": "code",
   "execution_count": 32,
   "id": "1c72d5eb",
   "metadata": {},
   "outputs": [],
   "source": [
    "df2 = pd.DataFrame(sexual_dict)"
   ]
  },
  {
   "cell_type": "code",
   "execution_count": 33,
   "id": "401b21b9",
   "metadata": {},
   "outputs": [
    {
     "data": {
      "text/html": [
       "<div>\n",
       "<style scoped>\n",
       "    .dataframe tbody tr th:only-of-type {\n",
       "        vertical-align: middle;\n",
       "    }\n",
       "\n",
       "    .dataframe tbody tr th {\n",
       "        vertical-align: top;\n",
       "    }\n",
       "\n",
       "    .dataframe thead th {\n",
       "        text-align: right;\n",
       "    }\n",
       "</style>\n",
       "<table border=\"1\" class=\"dataframe\">\n",
       "  <thead>\n",
       "    <tr style=\"text-align: right;\">\n",
       "      <th></th>\n",
       "      <th>0</th>\n",
       "    </tr>\n",
       "  </thead>\n",
       "  <tbody>\n",
       "    <tr>\n",
       "      <th>0</th>\n",
       "      <td></td>\n",
       "    </tr>\n",
       "    <tr>\n",
       "      <th>1</th>\n",
       "      <td>19금</td>\n",
       "    </tr>\n",
       "    <tr>\n",
       "      <th>2</th>\n",
       "      <td>6</td>\n",
       "    </tr>\n",
       "    <tr>\n",
       "      <th>3</th>\n",
       "      <td>69</td>\n",
       "    </tr>\n",
       "    <tr>\n",
       "      <th>4</th>\n",
       "      <td>69자세</td>\n",
       "    </tr>\n",
       "  </tbody>\n",
       "</table>\n",
       "</div>"
      ],
      "text/plain": [
       "      0\n",
       "0      \n",
       "1   19금\n",
       "2     6\n",
       "3    69\n",
       "4  69자세"
      ]
     },
     "execution_count": 33,
     "metadata": {},
     "output_type": "execute_result"
    }
   ],
   "source": [
    "df2.head()"
   ]
  },
  {
   "cell_type": "code",
   "execution_count": 34,
   "id": "cd94e0e2",
   "metadata": {},
   "outputs": [],
   "source": [
    "df2.to_csv(\"sexual_dictionary.csv\",encoding=\"utf-8-sig\")"
   ]
  },
  {
   "cell_type": "code",
   "execution_count": null,
   "id": "0693db18",
   "metadata": {},
   "outputs": [],
   "source": []
  }
 ],
 "metadata": {
  "kernelspec": {
   "display_name": "Python 3 (ipykernel)",
   "language": "python",
   "name": "python3"
  },
  "language_info": {
   "codemirror_mode": {
    "name": "ipython",
    "version": 3
   },
   "file_extension": ".py",
   "mimetype": "text/x-python",
   "name": "python",
   "nbconvert_exporter": "python",
   "pygments_lexer": "ipython3",
   "version": "3.9.16"
  }
 },
 "nbformat": 4,
 "nbformat_minor": 5
}
