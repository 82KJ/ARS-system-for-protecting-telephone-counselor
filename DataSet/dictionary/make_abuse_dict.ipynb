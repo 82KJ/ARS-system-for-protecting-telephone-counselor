{
 "cells": [
  {
   "cell_type": "markdown",
   "id": "ed7c1a0b",
   "metadata": {},
   "source": [
    "# 1. csv load & convert to list"
   ]
  },
  {
   "cell_type": "code",
   "execution_count": 18,
   "id": "40dac929",
   "metadata": {},
   "outputs": [],
   "source": [
    "import pandas as pd"
   ]
  },
  {
   "cell_type": "code",
   "execution_count": 19,
   "id": "84abb25c",
   "metadata": {},
   "outputs": [],
   "source": [
    "abuse2 = pd.read_csv(\"2_abusement.csv\")\n",
    "abuse3 = pd.read_csv(\"3_abusement.csv\")\n",
    "abuse4 = pd.read_csv(\"4_abusement.csv\")\n",
    "abuse5 = pd.read_csv(\"5_abusement.csv\")"
   ]
  },
  {
   "cell_type": "code",
   "execution_count": 21,
   "id": "d888d6a7",
   "metadata": {},
   "outputs": [
    {
     "name": "stdout",
     "output_type": "stream",
     "text": [
      "5706\n"
     ]
    }
   ],
   "source": [
    "abuse_dict = set()\n",
    "for temp in abuse2['3']:\n",
    "    temp = temp.replace('.',',') # 실수 커버용\n",
    "    temp = temp.replace('\\'','')\n",
    "    temp = temp.replace(' ','')\n",
    "    abuse_dict.update(temp.split(','))\n",
    "for temp in abuse3['3']:\n",
    "    temp = temp.replace('.',',') # 실수 커버용\n",
    "    temp = temp.replace('\\'','')\n",
    "    temp = temp.replace(' ','')\n",
    "    abuse_dict.update(temp.split(','))\n",
    "for temp in abuse4['3']:\n",
    "    temp = temp.replace('.',',') # 실수 커버용\n",
    "    temp = temp.replace('\\'','')\n",
    "    temp = temp.replace(' ','')\n",
    "    abuse_dict.update(temp.split(','))\n",
    "for temp in abuse5['3']:\n",
    "    temp = temp.replace('.',',') # 실수 커버용\n",
    "    temp = temp.replace('\\'','')\n",
    "    temp = temp.replace(' ','')\n",
    "    abuse_dict.update(temp.split(','))\n",
    "    \n",
    "print(len(abuse_dict))\n",
    "abuse_dict = list(abuse_dict)\n",
    "abuse_dict.sort()"
   ]
  },
  {
   "cell_type": "code",
   "execution_count": 22,
   "id": "865efec1",
   "metadata": {},
   "outputs": [
    {
     "data": {
      "text/plain": [
       "['',\n",
       " '???',\n",
       " '???깨',\n",
       " '???꼬머',\n",
       " '\\\\',\n",
       " '`ㄱ',\n",
       " 'ᆫ데',\n",
       " 'ㄴ',\n",
       " 'ㄹ',\n",
       " 'ㅁ',\n",
       " 'ㅇㅁ빠',\n",
       " '가',\n",
       " '가격',\n",
       " '가난',\n",
       " '가난뱅이',\n",
       " '가두',\n",
       " '가둬서',\n",
       " '가득',\n",
       " '가랑이',\n",
       " '가루',\n",
       " '가르',\n",
       " '가르치',\n",
       " '가리',\n",
       " '가부장',\n",
       " '가스',\n",
       " '가스실',\n",
       " '가슴',\n",
       " '가오',\n",
       " '가오충',\n",
       " '가위']"
      ]
     },
     "execution_count": 22,
     "metadata": {},
     "output_type": "execute_result"
    }
   ],
   "source": [
    "abuse_dict[:30]"
   ]
  },
  {
   "cell_type": "markdown",
   "id": "476341df",
   "metadata": {},
   "source": [
    "# 2. Convert list to csv"
   ]
  },
  {
   "cell_type": "code",
   "execution_count": 25,
   "id": "1c72d5eb",
   "metadata": {},
   "outputs": [],
   "source": [
    "df2 = pd.DataFrame(abuse_dict)"
   ]
  },
  {
   "cell_type": "code",
   "execution_count": 26,
   "id": "401b21b9",
   "metadata": {},
   "outputs": [
    {
     "data": {
      "text/html": [
       "<div>\n",
       "<style scoped>\n",
       "    .dataframe tbody tr th:only-of-type {\n",
       "        vertical-align: middle;\n",
       "    }\n",
       "\n",
       "    .dataframe tbody tr th {\n",
       "        vertical-align: top;\n",
       "    }\n",
       "\n",
       "    .dataframe thead th {\n",
       "        text-align: right;\n",
       "    }\n",
       "</style>\n",
       "<table border=\"1\" class=\"dataframe\">\n",
       "  <thead>\n",
       "    <tr style=\"text-align: right;\">\n",
       "      <th></th>\n",
       "      <th>0</th>\n",
       "    </tr>\n",
       "  </thead>\n",
       "  <tbody>\n",
       "    <tr>\n",
       "      <th>0</th>\n",
       "      <td></td>\n",
       "    </tr>\n",
       "    <tr>\n",
       "      <th>1</th>\n",
       "      <td>???</td>\n",
       "    </tr>\n",
       "    <tr>\n",
       "      <th>2</th>\n",
       "      <td>???깨</td>\n",
       "    </tr>\n",
       "    <tr>\n",
       "      <th>3</th>\n",
       "      <td>???꼬머</td>\n",
       "    </tr>\n",
       "    <tr>\n",
       "      <th>4</th>\n",
       "      <td>\\</td>\n",
       "    </tr>\n",
       "  </tbody>\n",
       "</table>\n",
       "</div>"
      ],
      "text/plain": [
       "       0\n",
       "0       \n",
       "1    ???\n",
       "2   ???깨\n",
       "3  ???꼬머\n",
       "4      \\"
      ]
     },
     "execution_count": 26,
     "metadata": {},
     "output_type": "execute_result"
    }
   ],
   "source": [
    "df2.head()"
   ]
  },
  {
   "cell_type": "code",
   "execution_count": 27,
   "id": "cd94e0e2",
   "metadata": {},
   "outputs": [],
   "source": [
    "df2.to_csv(\"abuse_dictionary.csv\",encoding=\"utf-8-sig\")"
   ]
  },
  {
   "cell_type": "code",
   "execution_count": null,
   "id": "0693db18",
   "metadata": {},
   "outputs": [],
   "source": []
  }
 ],
 "metadata": {
  "kernelspec": {
   "display_name": "Python 3 (ipykernel)",
   "language": "python",
   "name": "python3"
  },
  "language_info": {
   "codemirror_mode": {
    "name": "ipython",
    "version": 3
   },
   "file_extension": ".py",
   "mimetype": "text/x-python",
   "name": "python",
   "nbconvert_exporter": "python",
   "pygments_lexer": "ipython3",
   "version": "3.9.16"
  }
 },
 "nbformat": 4,
 "nbformat_minor": 5
}
